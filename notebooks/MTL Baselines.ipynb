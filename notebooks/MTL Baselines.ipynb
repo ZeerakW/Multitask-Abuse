{
 "cells": [
  {
   "cell_type": "code",
   "execution_count": 1,
   "metadata": {},
   "outputs": [],
   "source": [
    "import ipdb\n",
    "import sys\n",
    "import csv\n",
    "\n",
    "import numpy as np\n",
    "import torch\n",
    "import torch.nn as nn\n",
    "from collections import Counter, defaultdict\n",
    "\n",
    "from mlearn.data.fileio import *\n",
    "from mlearn.data import clean\n",
    "from mlearn.data import loaders\n",
    "from mlearn.utils.metrics import Metrics\n",
    "from mlearn.utils.early_stopping import EarlyStopping\n",
    "from mlearn.utils.pipeline import select_vectorizer\n",
    "\n",
    "from sklearn.svm import LinearSVC\n",
    "from sklearn.linear_model import LogisticRegression\n",
    "from sklearn.model_selection import KFold, StratifiedKFold, GridSearchCV"
   ]
  },
  {
   "cell_type": "code",
   "execution_count": 2,
   "metadata": {},
   "outputs": [],
   "source": [
    "torch.random.manual_seed(42)\n",
    "np.random.seed(42)\n",
    "datadir = '/Users/zeerakw/Documents/PhD/projects/active/MTL_abuse/data/'\n",
    "c = clean.Cleaner(processes = ['lower', 'url', 'hashtag'])\n",
    "p = clean.Preprocessors(liwc_dir = '/Users/zeerakw/Documents/PhD/projects/active/Generalisable_abuse/data/')"
   ]
  },
  {
   "cell_type": "code",
   "execution_count": 3,
   "metadata": {},
   "outputs": [],
   "source": [
    "def train_model(train, dev, dataset, gridsearch, metrics):\n",
    "    model = LinearSVC()\n",
    "\n",
    "    trainX, trainY = train\n",
    "    model = GridSearchCV(model, gridsearch, 'f1_macro', n_jobs = -1, cv = 5, refit = True)\n",
    "    model.fit(trainX, trainY)\n",
    "    print(model.best_params_)\n",
    "    print(model.cv_results_)\n",
    "    \n",
    "    devX, devY = dev\n",
    "    preds = model.predict(devX)\n",
    "    metrics.compute(preds, devY)\n",
    "    \n",
    "    print(metrics.last_display())\n",
    "    \n",
    "    return model"
   ]
  },
  {
   "cell_type": "code",
   "execution_count": 4,
   "metadata": {},
   "outputs": [],
   "source": [
    "def evaluate_single_task(model, vect, data, metrics):\n",
    "    testX, testY = vect.transform([Counter(doc.text) for doc in data]), [doc.label for doc in data]\n",
    "    \n",
    "    preds = model.predict(testX)\n",
    "    metrics.compute(preds, testY)\n",
    "    print(metrics.scores)"
   ]
  },
  {
   "cell_type": "code",
   "execution_count": 5,
   "metadata": {},
   "outputs": [],
   "source": [
    "def vectorize(data, vect, vect_type = 'count'):\n",
    "    if vect_type in ['count', 'tfidf']:\n",
    "        data = [\" \".join(doc.text) for doc in data]\n",
    "    elif vect_type == 'dict':\n",
    "        data = [Counter(doc.text) for doc in data]\n",
    "    \n",
    "    if vect.fitted:\n",
    "        vectorized = vect.transform(data)\n",
    "    else:\n",
    "        vect.fit(data)\n",
    "        vectorized = vect.transform(data)\n",
    "        vect.fitted = True\n",
    "    return vectorized"
   ]
  },
  {
   "cell_type": "markdown",
   "metadata": {},
   "source": [
    "# Load datasets"
   ]
  },
  {
   "cell_type": "code",
   "execution_count": 6,
   "metadata": {},
   "outputs": [
    {
     "name": "stderr",
     "output_type": "stream",
     "text": [
      "Loading Davidson et al. (train): 24783it [00:04, 5401.58it/s]\n",
      "Loading Wulczyn et al. (train): 95692it [01:23, 1139.19it/s]\n",
      "Loading Wulczyn et al. (dev): 32128it [00:25, 1257.56it/s]\n",
      "Loading Wulczyn et al. (test): 31866it [00:30, 1043.23it/s]\n",
      "Loading Waseem (train): 6908it [00:03, 2086.80it/s]\n",
      "Loading Waseem-Hovy (train): 16906it [00:06, 2619.20it/s]\n",
      "Loading Oraby et al. (Sarcasm) (train): 9386it [00:05, 1647.60it/s]\n",
      "Loading Oraby et al. (Fact-feel) (train): 8433it [00:05, 1418.10it/s]\n",
      "Loading Oraby et al. (Fact-feel) (dev): 1169it [00:00, 1282.40it/s]\n",
      "Loading Oraby et al. (Fact-feel) (test): 586it [00:00, 1088.15it/s]\n",
      "Loading Hoover et al. (train): 34987it [00:06, 5070.63it/s]\n"
     ]
    }
   ],
   "source": [
    "m = Metrics(['f1-score'], 'f1-score')\n",
    "# BPE\n",
    "tok = c.bpe_tokenize\n",
    "exp = p.select_experiment('word')\n",
    "davidson_bpe = loaders.davidson(cleaners = tok, data_path = datadir, preprocessor = exp, stratify = 'label')\n",
    "wulczyn_bpe = loaders.wulczyn(cleaners = tok, data_path = datadir, preprocessor = exp, stratify = 'label')\n",
    "waseem_bpe = loaders.waseem(cleaners = tok, data_path = datadir, preprocessor = exp, stratify = 'label')\n",
    "waseem_hovy_bpe = loaders.waseem_hovy(cleaners = tok, data_path = datadir, preprocessor = exp, stratify = 'label')\n",
    "oraby_sarcasm_bpe = loaders.oraby_sarcasm(cleaners = tok, data_path = datadir, preprocessor = exp, stratify = 'label')\n",
    "oraby_factfeel_bpe = loaders.oraby_fact_feel(cleaners = tok, data_path = datadir, preprocessor = exp, stratify = 'label')\n",
    "hoover_bpe = loaders.hoover(cleaners = tok, data_path = datadir, preprocessor = exp, stratify = 'label')"
   ]
  },
  {
   "cell_type": "code",
   "execution_count": 7,
   "metadata": {},
   "outputs": [
    {
     "name": "stderr",
     "output_type": "stream",
     "text": [
      "Loading Davidson et al. (train): 24783it [04:52, 84.64it/s] \n",
      "Loading Waseem (train): 6908it [01:29, 76.85it/s] \n",
      "Loading Waseem-Hovy (train): 16906it [04:02, 69.76it/s]\n",
      "Loading Oraby et al. (Sarcasm) (train): 9386it [04:13, 37.10it/s]\n",
      "Loading Oraby et al. (Fact-feel) (train): 8433it [04:29, 31.33it/s]\n",
      "Loading Oraby et al. (Fact-feel) (dev): 1169it [00:45, 25.73it/s]\n",
      "Loading Oraby et al. (Fact-feel) (test): 586it [00:18, 32.14it/s]\n",
      "Loading Hoover et al. (train): 34987it [09:38, 60.44it/s] \n",
      "Loading Wulczyn et al. (train): 95692it [56:56, 28.01it/s]\n",
      "Loading Wulczyn et al. (dev): 32128it [23:33, 22.73it/s]\n",
      "Loading Wulczyn et al. (test): 31866it [27:20, 19.43it/s]\n"
     ]
    }
   ],
   "source": [
    "# LIWC\n",
    "tok = c.tokenize\n",
    "exp = p.select_experiment('liwc')\n",
    "\n",
    "davidson_liwc = loaders.davidson(cleaners = tok, data_path = datadir, preprocessor = exp, stratify = 'label')\n",
    "waseem_liwc = loaders.waseem(cleaners = tok, data_path = datadir, preprocessor = exp, stratify = 'label')\n",
    "waseem_hovy_liwc = loaders.waseem_hovy(cleaners = tok, data_path = datadir, preprocessor = exp, stratify = 'label')\n",
    "oraby_sarcasm_liwc = loaders.oraby_sarcasm(cleaners = tok, data_path = datadir, preprocessor = exp, stratify = 'label')\n",
    "oraby_factfeel_liwc = loaders.oraby_fact_feel(cleaners = tok, data_path = datadir, preprocessor = exp, stratify = 'label')\n",
    "hoover_liwc = loaders.hoover(cleaners = tok, data_path = datadir, preprocessor = exp, stratify = 'label')\n",
    "wulczyn_liwc = loaders.wulczyn(cleaners = tok, data_path = datadir, preprocessor = exp, stratify = 'label')"
   ]
  },
  {
   "cell_type": "markdown",
   "metadata": {},
   "source": [
    "## Process datasets"
   ]
  },
  {
   "cell_type": "code",
   "execution_count": 8,
   "metadata": {},
   "outputs": [
    {
     "name": "stderr",
     "output_type": "stream",
     "text": [
      "Building vocabulary (Davidson et al.): 100%|██████████| 19826/19826 [00:00<00:00, 56046.48it/s]\n",
      "Encoding vocabulary: 100%|██████████| 23428/23428 [00:00<00:00, 249741.79it/s]\n",
      "Encode label vocab (Davidson et al.): 100%|██████████| 3/3 [00:00<00:00, 3198.50it/s]\n",
      "Building vocabulary (Wulczyn et al.): 100%|██████████| 95692/95692 [00:03<00:00, 26772.89it/s]\n",
      "Encoding vocabulary: 100%|██████████| 95362/95362 [00:00<00:00, 589947.34it/s]\n",
      "Encode label vocab (Wulczyn et al.): 100%|██████████| 2/2 [00:00<00:00, 3081.78it/s]\n",
      "Building vocabulary (Waseem): 100%|██████████| 5526/5526 [00:00<00:00, 35444.28it/s]\n",
      "Encoding vocabulary: 100%|██████████| 11919/11919 [00:00<00:00, 622564.25it/s]\n",
      "Encode label vocab (Waseem): 100%|██████████| 4/4 [00:00<00:00, 342.61it/s]\n",
      "Building vocabulary (Waseem-Hovy): 100%|██████████| 13524/13524 [00:00<00:00, 66072.57it/s]\n",
      "Encoding vocabulary: 100%|██████████| 19905/19905 [00:00<00:00, 412178.71it/s]\n",
      "Encode label vocab (Waseem-Hovy): 100%|██████████| 3/3 [00:00<00:00, 1367.41it/s]\n",
      "Building vocabulary (Oraby et al. (Sarcasm)): 100%|██████████| 7508/7508 [00:00<00:00, 29397.83it/s]\n",
      "Encoding vocabulary: 100%|██████████| 20798/20798 [00:00<00:00, 245288.38it/s]\n",
      "Encode label vocab (Oraby et al. (Sarcasm)): 100%|██████████| 2/2 [00:00<00:00, 3504.01it/s]\n",
      "Building vocabulary (Oraby et al. (Fact-feel)): 100%|██████████| 8433/8433 [00:00<00:00, 30862.08it/s]\n",
      "Encoding vocabulary: 100%|██████████| 22121/22121 [00:00<00:00, 253588.50it/s]\n",
      "Encode label vocab (Oraby et al. (Fact-feel)): 100%|██████████| 2/2 [00:00<00:00, 531.06it/s]\n",
      "Building vocabulary (Hoover et al.): 100%|██████████| 27989/27989 [00:00<00:00, 64961.99it/s]\n",
      "Encoding vocabulary: 100%|██████████| 31932/31932 [00:00<00:00, 208069.58it/s]\n",
      "Encode label vocab (Hoover et al.): 100%|██████████| 11/11 [00:00<00:00, 7392.62it/s]\n"
     ]
    }
   ],
   "source": [
    "davidson_bpe.build_token_vocab(davidson_bpe.data)\n",
    "davidson_bpe.build_label_vocab(davidson_bpe.data)\n",
    "davidson_bpe.process_labels(davidson_bpe.data)\n",
    "davidson_bpe.process_labels(davidson_bpe.dev)\n",
    "davidson_bpe.process_labels(davidson_bpe.test)\n",
    "wulczyn_bpe.build_token_vocab(wulczyn_bpe.data)\n",
    "wulczyn_bpe.build_label_vocab(wulczyn_bpe.data)\n",
    "wulczyn_bpe.process_labels(wulczyn_bpe.data)\n",
    "wulczyn_bpe.process_labels(wulczyn_bpe.dev)\n",
    "wulczyn_bpe.process_labels(wulczyn_bpe.test)\n",
    "waseem_bpe.build_token_vocab(waseem_bpe.data)\n",
    "waseem_bpe.build_label_vocab(waseem_bpe.data)\n",
    "waseem_bpe.process_labels(waseem_bpe.data)\n",
    "waseem_bpe.process_labelss(waseem_bpe.dev)\n",
    "waseem_bpe.process_labels(waseem_bpe.test)\n",
    "waseem_hovy_bpe.build_token_vocab(waseem_hovy_bpe.data)\n",
    "waseem_hovy_bpe.build_label_vocab(waseem_hovy_bpe.data)\n",
    "waseem_hovy_bpe.process_labels(waseem_hovy_bpe.data)\n",
    "waseem_hovy_bpe.process_labels(waseem_hovy_bpe.dev)\n",
    "waseem_hovy_bpe.process_labels(waseem_hovy_bpe.test)\n",
    "oraby_sarcasm_bpe.build_token_vocab(oraby_sarcasm_bpe.data)\n",
    "oraby_sarcasm_bpe.build_label_vocab(oraby_sarcasm_bpe.data)\n",
    "oraby_sarcasm_bpe.process_labels(oraby_sarcasm_bpe.data)\n",
    "oraby_sarcasm_bpe.process_labels(oraby_sarcasm_bpe.dev)\n",
    "oraby_sarcasm_bpe.process_labels(oraby_sarcasm_bpe.test)\n",
    "oraby_factfeel_bpe.build_token_vocab(oraby_factfeel_bpe.data)\n",
    "oraby_factfeel_bpe.build_label_vocab(oraby_factfeel_bpe.data)\n",
    "oraby_factfeel_bpe.process_labels(oraby_factfeel_bpe.data)\n",
    "oraby_factfeel_bpe.process_labels(oraby_factfeel_bpe.dev)\n",
    "oraby_factfeel_bpe.process_labels(oraby_factfeel_bpe.test)\n",
    "hoover_bpe.build_token_vocab(hoover_bpe.data)\n",
    "hoover_bpe.build_label_vocab(hoover_bpe.data)\n",
    "hoover_bpe.process_labels(hoover_bpe.data)\n",
    "hoover_bpe.process_labels(hoover_bpe.dev)\n",
    "hoover_bpe.process_labels(hoover_bpe.test)"
   ]
  },
  {
   "cell_type": "code",
   "execution_count": 9,
   "metadata": {},
   "outputs": [
    {
     "name": "stderr",
     "output_type": "stream",
     "text": [
      "Building vocabulary (Davidson et al.): 100%|██████████| 19826/19826 [00:00<00:00, 52012.56it/s]\n",
      "Encoding vocabulary: 100%|██████████| 840/840 [00:00<00:00, 314938.35it/s]\n",
      "Encode label vocab (Davidson et al.): 100%|██████████| 3/3 [00:00<00:00, 451.53it/s]\n",
      "Building vocabulary (Wulczyn et al.): 100%|██████████| 95692/95692 [00:02<00:00, 37544.23it/s]\n",
      "Encoding vocabulary: 100%|██████████| 1005/1005 [00:00<00:00, 258494.85it/s]\n",
      "Encode label vocab (Wulczyn et al.): 100%|██████████| 2/2 [00:00<00:00, 464.23it/s]\n",
      "Building vocabulary (Waseem): 100%|██████████| 5526/5526 [00:00<00:00, 87341.16it/s]\n",
      "Encoding vocabulary: 100%|██████████| 741/741 [00:00<00:00, 303958.85it/s]\n",
      "Encode label vocab (Waseem): 100%|██████████| 4/4 [00:00<00:00, 3209.72it/s]\n",
      "Building vocabulary (Waseem-Hovy): 100%|██████████| 13524/13524 [00:00<00:00, 73891.88it/s]\n",
      "Encoding vocabulary: 100%|██████████| 831/831 [00:00<00:00, 231731.04it/s]\n",
      "Encode label vocab (Waseem-Hovy): 100%|██████████| 3/3 [00:00<00:00, 2286.55it/s]\n",
      "Building vocabulary (Oraby et al. (Sarcasm)): 100%|██████████| 7508/7508 [00:00<00:00, 29543.23it/s]\n",
      "Encoding vocabulary: 100%|██████████| 853/853 [00:00<00:00, 480556.25it/s]\n",
      "Encode label vocab (Oraby et al. (Sarcasm)): 100%|██████████| 2/2 [00:00<00:00, 1593.88it/s]\n",
      "Building vocabulary (Oraby et al. (Fact-feel)): 100%|██████████| 8433/8433 [00:00<00:00, 35352.71it/s]\n",
      "Encoding vocabulary: 100%|██████████| 853/853 [00:00<00:00, 75419.31it/s]\n",
      "Encode label vocab (Oraby et al. (Fact-feel)): 100%|██████████| 2/2 [00:00<00:00, 798.69it/s]\n",
      "Building vocabulary (Hoover et al.): 100%|██████████| 27989/27989 [00:00<00:00, 83504.91it/s]\n",
      "Encoding vocabulary: 100%|██████████| 904/904 [00:00<00:00, 457486.83it/s]\n",
      "Encode label vocab (Hoover et al.): 100%|██████████| 11/11 [00:00<00:00, 5104.25it/s]\n"
     ]
    }
   ],
   "source": [
    "davidson_liwc.build_token_vocab(davidson_liwc.data)\n",
    "davidson_liwc.build_label_vocab(davidson_liwc.data)\n",
    "davidson_liwc.process_labels(davidson_liwc.data)\n",
    "davidson_liwc.process_labels(davidson_liwc.dev)\n",
    "davidson_liwc.process_labels(davidson_liwc.test)\n",
    "wulczyn_liwc.build_token_vocab(wulczyn_liwc.data)\n",
    "wulczyn_liwc.build_label_vocab(wulczyn_liwc.data)\n",
    "wulczyn_liwc.process_labels(wulczyn_liwc.data)\n",
    "wulczyn_liwc.process_labels(wulczyn_liwc.dev)\n",
    "wulczyn_liwc.process_labels(wulczyn_liwc.test)\n",
    "waseem_liwc.build_token_vocab(waseem_liwc.data)\n",
    "waseem_liwc.build_label_vocab(waseem_liwc.data)\n",
    "waseem_liwc.process_labels(waseem_liwc.data)\n",
    "waseem_liwc.process_labels(waseem_liwc.dev)\n",
    "waseem_liwc.process_labels(waseem_liwc.test)\n",
    "waseem_hovy_liwc.build_token_vocab(waseem_hovy_liwc.data)\n",
    "waseem_hovy_liwc.build_label_vocab(waseem_hovy_liwc.data)\n",
    "waseem_hovy_liwc.process_labels(waseem_hovy_liwc.data)\n",
    "waseem_hovy_liwc.process_labels(waseem_hovy_liwc.dev)\n",
    "waseem_hovy_liwc.process_labels(waseem_hovy_liwc.test)\n",
    "oraby_sarcasm_liwc.build_token_vocab(oraby_sarcasm_liwc.data)\n",
    "oraby_sarcasm_liwc.build_label_vocab(oraby_sarcasm_liwc.data)\n",
    "oraby_sarcasm_liwc.process_labels(oraby_sarcasm_liwc.data)\n",
    "oraby_sarcasm_liwc.process_labels(oraby_sarcasm_liwc.dev)\n",
    "oraby_sarcasm_liwc.process_labels(oraby_sarcasm_liwc.test)\n",
    "oraby_factfeel_liwc.build_token_vocab(oraby_factfeel_liwc.data)\n",
    "oraby_factfeel_liwc.build_label_vocab(oraby_factfeel_liwc.data)\n",
    "oraby_factfeel_liwc.process_labels(oraby_factfeel_liwc.data)\n",
    "oraby_factfeel_liwc.process_labels(oraby_factfeel_liwc.dev)\n",
    "oraby_factfeel_liwc.process_labels(oraby_factfeel_liwc.test)\n",
    "hoover_liwc.build_token_vocab(hoover_liwc.data)\n",
    "hoover_liwc.build_label_vocab(hoover_liwc.data)\n",
    "hoover_liwc.process_labels(hoover_liwc.data)\n",
    "hoover_liwc.process_labels(hoover_liwc.dev)\n",
    "hoover_liwc.process_labels(hoover_liwc.test)"
   ]
  },
  {
   "cell_type": "code",
   "execution_count": 52,
   "metadata": {},
   "outputs": [
    {
     "data": {
      "text/plain": [
       "95364"
      ]
     },
     "execution_count": 52,
     "metadata": {},
     "output_type": "execute_result"
    }
   ],
   "source": [
    "wulczyn_bpe.vocab_size()"
   ]
  },
  {
   "cell_type": "code",
   "execution_count": 54,
   "metadata": {},
   "outputs": [
    {
     "data": {
      "text/plain": [
       "1007"
      ]
     },
     "execution_count": 54,
     "metadata": {},
     "output_type": "execute_result"
    }
   ],
   "source": [
    "wulczyn_liwc.vocab_size()"
   ]
  },
  {
   "cell_type": "code",
   "execution_count": 57,
   "metadata": {},
   "outputs": [
    {
     "data": {
      "text/plain": [
       "95692"
      ]
     },
     "execution_count": 57,
     "metadata": {},
     "output_type": "execute_result"
    }
   ],
   "source": [
    "len(wulczyn_bpe)"
   ]
  },
  {
   "cell_type": "code",
   "execution_count": 56,
   "metadata": {},
   "outputs": [
    {
     "data": {
      "text/plain": [
       "11921"
      ]
     },
     "execution_count": 56,
     "metadata": {},
     "output_type": "execute_result"
    }
   ],
   "source": [
    "waseem_bpe.vocab_size()"
   ]
  },
  {
   "cell_type": "code",
   "execution_count": 55,
   "metadata": {},
   "outputs": [
    {
     "data": {
      "text/plain": [
       "743"
      ]
     },
     "execution_count": 55,
     "metadata": {},
     "output_type": "execute_result"
    }
   ],
   "source": [
    "waseem_liwc.vocab_size()"
   ]
  },
  {
   "cell_type": "code",
   "execution_count": 58,
   "metadata": {},
   "outputs": [
    {
     "data": {
      "text/plain": [
       "5526"
      ]
     },
     "execution_count": 58,
     "metadata": {},
     "output_type": "execute_result"
    }
   ],
   "source": [
    "len(waseem_bpe)"
   ]
  },
  {
   "cell_type": "code",
   "execution_count": 95,
   "metadata": {},
   "outputs": [
    {
     "data": {
      "text/plain": [
       "('▁owns', 6)"
      ]
     },
     "execution_count": 95,
     "metadata": {},
     "output_type": "execute_result"
    }
   ],
   "source": [
    "waseem_bpe.token_counts.most_common(2187)[-1]"
   ]
  },
  {
   "cell_type": "code",
   "execution_count": 80,
   "metadata": {},
   "outputs": [
    {
     "data": {
      "text/plain": [
       "-5619"
      ]
     },
     "execution_count": 80,
     "metadata": {},
     "output_type": "execute_result"
    }
   ],
   "source": [
    "6302 - waseem_bpe.vocab_size()"
   ]
  },
  {
   "cell_type": "code",
   "execution_count": 79,
   "metadata": {},
   "outputs": [
    {
     "data": {
      "text/plain": [
       "('RELATIV_COGPROC_POWER_CAUSE_MOTION_WORK_DRIVES_ACHIEVE', 6)"
      ]
     },
     "execution_count": 79,
     "metadata": {},
     "output_type": "execute_result"
    }
   ],
   "source": [
    "waseem_liwc.token_counts.most_common(473)[-1]"
   ]
  },
  {
   "cell_type": "markdown",
   "metadata": {},
   "source": [
    "## Train BPE models\n",
    "### Davidson"
   ]
  },
  {
   "cell_type": "code",
   "execution_count": 10,
   "metadata": {},
   "outputs": [],
   "source": [
    "davidson_bpe_vect = select_vectorizer('dict')\n",
    "davidson_tr_bpe = vectorize(davidson_bpe.data, davidson_bpe_vect, 'dict')\n",
    "davidson_de_bpe = vectorize(davidson_bpe.dev, davidson_bpe_vect, 'dict')\n",
    "davidson_te_bpe = vectorize(davidson_bpe.test, davidson_bpe_vect, 'dict')\n",
    "wulczyn_tr_bpe = vectorize(wulczyn_bpe.data, davidson_bpe_vect, 'dict')\n",
    "wulczyn_de_bpe = vectorize(wulczyn_bpe.dev, davidson_bpe_vect, 'dict')\n",
    "wulczyn_te_bpe = vectorize(wulczyn_bpe.test, davidson_bpe_vect, 'dict')\n",
    "waseem_tr_bpe = vectorize(waseem_bpe.data, davidson_bpe_vect, 'dict')\n",
    "waseem_de_bpe = vectorize(waseem_bpe.dev, davidson_bpe_vect, 'dict')\n",
    "waseem_te_bpe = vectorize(waseem_bpe.test, davidson_bpe_vect, 'dict')\n",
    "waseem_hovy_tr_bpe = vectorize(waseem_hovy_bpe.data, davidson_bpe_vect, 'dict')\n",
    "waseem_hovy_de_bpe = vectorize(waseem_hovy_bpe.dev, davidson_bpe_vect, 'dict')\n",
    "waseem_hovy_te_bpe = vectorize(waseem_hovy_bpe.test, davidson_bpe_vect, 'dict')\n",
    "oraby_sarcasm_tr_bpe = vectorize(oraby_sarcasm_bpe.data, davidson_bpe_vect, 'dict')\n",
    "oraby_sarcasm_de_bpe = vectorize(oraby_sarcasm_bpe.dev, davidson_bpe_vect, 'dict')\n",
    "oraby_sarcasm_te_bpe = vectorize(oraby_sarcasm_bpe.test, davidson_bpe_vect, 'dict')\n",
    "oraby_factfeel_tr_bpe = vectorize(oraby_factfeel_bpe.data, davidson_bpe_vect, 'dict')\n",
    "oraby_factfeel_de_bpe = vectorize(oraby_factfeel_bpe.dev, davidson_bpe_vect, 'dict')\n",
    "oraby_factfeel_te_bpe = vectorize(oraby_factfeel_bpe.test, davidson_bpe_vect, 'dict')\n",
    "hoover_tr_bpe = vectorize(hoover_bpe.data, davidson_bpe_vect, 'dict')\n",
    "hoover_de_bpe = vectorize(hoover_bpe.dev, davidson_bpe_vect, 'dict')\n",
    "hoover_te_bpe = vectorize(hoover_bpe.test, davidson_bpe_vect, 'dict')"
   ]
  },
  {
   "cell_type": "code",
   "execution_count": 11,
   "metadata": {},
   "outputs": [
    {
     "name": "stderr",
     "output_type": "stream",
     "text": [
      "/Users/zeerakw/.virtualenvs/mtl/lib/python3.8/site-packages/sklearn/utils/validation.py:68: FutureWarning: Pass scoring=f1_macro as keyword args. From version 0.25 passing these as positional arguments will result in an error\n",
      "  warnings.warn(\"Pass {} as keyword args. From version 0.25 \"\n"
     ]
    },
    {
     "name": "stdout",
     "output_type": "stream",
     "text": [
      "{'C': 0.2, 'penalty': 'l2'}\n",
      "{'mean_fit_time': array([22.72827902,  0.04482808, 17.61110091,  0.03571968, 15.286622  ,\n",
      "        0.04548588, 16.19527402,  0.04840336, 19.3002368 ,  0.0461421 ,\n",
      "       16.71334071,  0.05543785, 15.7507853 ,  0.04619956, 15.58869324,\n",
      "        0.04392338, 15.70662107,  0.04838548, 17.86204   ,  0.07479815]), 'std_fit_time': array([0.79183028, 0.01479371, 2.30140179, 0.00718663, 1.07034963,\n",
      "       0.01719994, 0.43899644, 0.01479094, 1.18980813, 0.01618741,\n",
      "       0.11597973, 0.01577857, 0.74227268, 0.01520801, 0.5562177 ,\n",
      "       0.01295592, 1.58669093, 0.01555656, 1.22319282, 0.04772338]), 'mean_score_time': array([0.01098132, 0.        , 0.01151137, 0.        , 0.00900064,\n",
      "       0.        , 0.01206031, 0.        , 0.02295728, 0.        ,\n",
      "       0.01744089, 0.        , 0.0145968 , 0.        , 0.02173038,\n",
      "       0.        , 0.01324134, 0.        , 0.02190542, 0.        ]), 'std_score_time': array([0.0013537 , 0.        , 0.0045867 , 0.        , 0.00164269,\n",
      "       0.        , 0.00657631, 0.        , 0.01881579, 0.        ,\n",
      "       0.01520039, 0.        , 0.00452894, 0.        , 0.00866739,\n",
      "       0.        , 0.0054586 , 0.        , 0.01626741, 0.        ]), 'param_C': masked_array(data=[0.1, 0.1, 0.2, 0.2, 0.3, 0.3, 0.4, 0.4, 0.5, 0.5, 0.6,\n",
      "                   0.6, 0.7, 0.7, 0.8, 0.8, 0.9, 0.9, 1.0, 1.0],\n",
      "             mask=[False, False, False, False, False, False, False, False,\n",
      "                   False, False, False, False, False, False, False, False,\n",
      "                   False, False, False, False],\n",
      "       fill_value='?',\n",
      "            dtype=object), 'param_penalty': masked_array(data=['l2', 'l1', 'l2', 'l1', 'l2', 'l1', 'l2', 'l1', 'l2',\n",
      "                   'l1', 'l2', 'l1', 'l2', 'l1', 'l2', 'l1', 'l2', 'l1',\n",
      "                   'l2', 'l1'],\n",
      "             mask=[False, False, False, False, False, False, False, False,\n",
      "                   False, False, False, False, False, False, False, False,\n",
      "                   False, False, False, False],\n",
      "       fill_value='?',\n",
      "            dtype=object), 'params': [{'C': 0.1, 'penalty': 'l2'}, {'C': 0.1, 'penalty': 'l1'}, {'C': 0.2, 'penalty': 'l2'}, {'C': 0.2, 'penalty': 'l1'}, {'C': 0.3, 'penalty': 'l2'}, {'C': 0.3, 'penalty': 'l1'}, {'C': 0.4, 'penalty': 'l2'}, {'C': 0.4, 'penalty': 'l1'}, {'C': 0.5, 'penalty': 'l2'}, {'C': 0.5, 'penalty': 'l1'}, {'C': 0.6, 'penalty': 'l2'}, {'C': 0.6, 'penalty': 'l1'}, {'C': 0.7, 'penalty': 'l2'}, {'C': 0.7, 'penalty': 'l1'}, {'C': 0.8, 'penalty': 'l2'}, {'C': 0.8, 'penalty': 'l1'}, {'C': 0.9, 'penalty': 'l2'}, {'C': 0.9, 'penalty': 'l1'}, {'C': 1.0, 'penalty': 'l2'}, {'C': 1.0, 'penalty': 'l1'}], 'split0_test_score': array([0.71694323,        nan, 0.7131098 ,        nan, 0.70627799,\n",
      "              nan, 0.70393749,        nan, 0.69912448,        nan,\n",
      "       0.69514122,        nan, 0.69265265,        nan, 0.69255986,\n",
      "              nan, 0.69091129,        nan, 0.69185872,        nan]), 'split1_test_score': array([0.69808095,        nan, 0.70563287,        nan, 0.69630038,\n",
      "              nan, 0.69786928,        nan, 0.6926106 ,        nan,\n",
      "       0.69100791,        nan, 0.68831391,        nan, 0.68573596,\n",
      "              nan, 0.680911  ,        nan, 0.68030371,        nan]), 'split2_test_score': array([0.69808153,        nan, 0.69820393,        nan, 0.70198728,\n",
      "              nan, 0.70202678,        nan, 0.69643396,        nan,\n",
      "       0.69433879,        nan, 0.68990516,        nan, 0.69212727,\n",
      "              nan, 0.69159619,        nan, 0.69009795,        nan]), 'split3_test_score': array([0.70512119,        nan, 0.71012197,        nan, 0.70766349,\n",
      "              nan, 0.70265856,        nan, 0.70345322,        nan,\n",
      "       0.70021633,        nan, 0.69786943,        nan, 0.69851163,\n",
      "              nan, 0.70061165,        nan, 0.69691007,        nan]), 'split4_test_score': array([0.6907253 ,        nan, 0.69385321,        nan, 0.69190634,\n",
      "              nan, 0.69187089,        nan, 0.69080323,        nan,\n",
      "       0.69159696,        nan, 0.69452775,        nan, 0.69935901,\n",
      "              nan, 0.69896326,        nan, 0.69818291,        nan]), 'mean_test_score': array([0.70179044,        nan, 0.70418436,        nan, 0.7008271 ,\n",
      "              nan, 0.6996726 ,        nan, 0.6964851 ,        nan,\n",
      "       0.69446024,        nan, 0.69265378,        nan, 0.69365875,\n",
      "              nan, 0.69259868,        nan, 0.69147067,        nan]), 'std_test_score': array([0.00883917,        nan, 0.00720437,        nan, 0.00596432,\n",
      "              nan, 0.00439923,        nan, 0.00453473,        nan,\n",
      "       0.00327805,        nan, 0.00337947,        nan, 0.00494706,\n",
      "              nan, 0.00700243,        nan, 0.00634629,        nan]), 'rank_test_score': array([ 2, 18,  1, 17,  3, 16,  4, 15,  5, 14,  6, 19,  8, 13,  7, 12,  9,\n",
      "       11, 10, 20], dtype=int32)}\n",
      "0.7122534972614742\n",
      "{'f1-score': [0.7122534972614742], 'accuracy': [0.8918482647296206], 'precision': [0.7402692098741275], 'recall': [0.6964151743860824], 'loss': []}\n"
     ]
    },
    {
     "name": "stderr",
     "output_type": "stream",
     "text": [
      "/Users/zeerakw/.virtualenvs/mtl/lib/python3.8/site-packages/sklearn/svm/_base.py:976: ConvergenceWarning: Liblinear failed to converge, increase the number of iterations.\n",
      "  warnings.warn(\"Liblinear failed to converge, increase \"\n"
     ]
    }
   ],
   "source": [
    "bpe_svm_grid = {'penalty': ['l2', 'l1'], 'C': [0.1, 0.2, 0.3, 0.4, 0.5, 0.6, 0.7, 0.8, 0.9, 1.0]}\n",
    "davidson_bpe_metrics = Metrics(['f1-score', 'accuracy', 'precision', 'recall'], 'f1-score')\n",
    "davidson_bpe_model = train_model((davidson_tr_bpe, [doc.label for doc in davidson_bpe.data]), \n",
    "                                  (davidson_de_bpe, [doc.label for doc in davidson_bpe.dev]),\n",
    "                                   davidson_bpe, bpe_svm_grid, davidson_bpe_metrics)\n",
    "print(davidson_bpe_metrics.scores)"
   ]
  },
  {
   "cell_type": "markdown",
   "metadata": {},
   "source": [
    "### Waseem"
   ]
  },
  {
   "cell_type": "code",
   "execution_count": 12,
   "metadata": {},
   "outputs": [],
   "source": [
    "waseem_bpe_vect = select_vectorizer('dict')\n",
    "waseem_tr_bpe = vectorize(waseem_bpe.data, waseem_bpe_vect, 'dict')\n",
    "waseem_de_bpe = vectorize(waseem_bpe.dev, waseem_bpe_vect, 'dict')\n",
    "waseem_te_bpe = vectorize(waseem_bpe.test, waseem_bpe_vect, 'dict')\n",
    "davidson_tr_bpe = vectorize(davidson_bpe.data, waseem_bpe_vect, 'dict')\n",
    "davidson_de_bpe = vectorize(davidson_bpe.dev, waseem_bpe_vect, 'dict')\n",
    "davidson_te_bpe = vectorize(davidson_bpe.test, waseem_bpe_vect, 'dict')\n",
    "wulczyn_tr_bpe = vectorize(wulczyn_bpe.data, waseem_bpe_vect, 'dict')\n",
    "wulczyn_de_bpe = vectorize(wulczyn_bpe.dev, waseem_bpe_vect, 'dict')\n",
    "wulczyn_te_bpe = vectorize(wulczyn_bpe.test, waseem_bpe_vect, 'dict')\n",
    "waseem_hovy_tr_bpe = vectorize(waseem_hovy_bpe.data, waseem_bpe_vect, 'dict')\n",
    "waseem_hovy_de_bpe = vectorize(waseem_hovy_bpe.dev, waseem_bpe_vect, 'dict')\n",
    "waseem_hovy_te_bpe = vectorize(waseem_hovy_bpe.test, waseem_bpe_vect, 'dict')\n",
    "oraby_sarcasm_tr_bpe = vectorize(oraby_sarcasm_bpe.data, waseem_bpe_vect, 'dict')\n",
    "oraby_sarcasm_de_bpe = vectorize(oraby_sarcasm_bpe.dev, waseem_bpe_vect, 'dict')\n",
    "oraby_sarcasm_te_bpe = vectorize(oraby_sarcasm_bpe.test, waseem_bpe_vect, 'dict')\n",
    "oraby_factfeel_tr_bpe = vectorize(oraby_factfeel_bpe.data, waseem_bpe_vect, 'dict')\n",
    "oraby_factfeel_de_bpe = vectorize(oraby_factfeel_bpe.dev, waseem_bpe_vect, 'dict')\n",
    "oraby_factfeel_te_bpe = vectorize(oraby_factfeel_bpe.test, waseem_bpe_vect, 'dict')\n",
    "hoover_tr_bpe = vectorize(hoover_bpe.data, waseem_bpe_vect, 'dict')\n",
    "hoover_de_bpe = vectorize(hoover_bpe.dev, waseem_bpe_vect, 'dict')\n",
    "hoover_te_bpe = vectorize(hoover_bpe.test, waseem_bpe_vect, 'dict')"
   ]
  },
  {
   "cell_type": "code",
   "execution_count": 13,
   "metadata": {},
   "outputs": [
    {
     "name": "stderr",
     "output_type": "stream",
     "text": [
      "/Users/zeerakw/.virtualenvs/mtl/lib/python3.8/site-packages/sklearn/utils/validation.py:68: FutureWarning: Pass scoring=f1_macro as keyword args. From version 0.25 passing these as positional arguments will result in an error\n",
      "  warnings.warn(\"Pass {} as keyword args. From version 0.25 \"\n"
     ]
    },
    {
     "name": "stdout",
     "output_type": "stream",
     "text": [
      "{'C': 0.8, 'penalty': 'l2'}\n",
      "{'mean_fit_time': array([1.30778685, 0.02879815, 2.23712902, 0.00925546, 2.50268359,\n",
      "       0.01449647, 2.52570167, 0.01211638, 2.70203409, 0.01552944,\n",
      "       2.62534957, 0.00706468, 2.56128745, 0.01694307, 2.45539341,\n",
      "       0.01387458, 2.28486614, 0.00907626, 2.49457498, 0.0175561 ]), 'std_fit_time': array([0.15493408, 0.01432054, 0.17670812, 0.0020671 , 0.15924242,\n",
      "       0.00465892, 0.20369552, 0.00584023, 0.07083737, 0.00630077,\n",
      "       0.12527852, 0.00141643, 0.05914997, 0.01449252, 0.07914115,\n",
      "       0.00723131, 0.13164848, 0.00519906, 0.29901841, 0.00687235]), 'mean_score_time': array([0.00958505, 0.        , 0.00563717, 0.        , 0.0038332 ,\n",
      "       0.        , 0.00690093, 0.        , 0.00681233, 0.        ,\n",
      "       0.00674181, 0.        , 0.00535169, 0.        , 0.00458436,\n",
      "       0.        , 0.0060441 , 0.        , 0.00691104, 0.        ]), 'std_score_time': array([0.00685461, 0.        , 0.00319003, 0.        , 0.00042838,\n",
      "       0.        , 0.00382533, 0.        , 0.00337194, 0.        ,\n",
      "       0.00519371, 0.        , 0.00360224, 0.        , 0.00086012,\n",
      "       0.        , 0.00267544, 0.        , 0.00317107, 0.        ]), 'param_C': masked_array(data=[0.1, 0.1, 0.2, 0.2, 0.3, 0.3, 0.4, 0.4, 0.5, 0.5, 0.6,\n",
      "                   0.6, 0.7, 0.7, 0.8, 0.8, 0.9, 0.9, 1.0, 1.0],\n",
      "             mask=[False, False, False, False, False, False, False, False,\n",
      "                   False, False, False, False, False, False, False, False,\n",
      "                   False, False, False, False],\n",
      "       fill_value='?',\n",
      "            dtype=object), 'param_penalty': masked_array(data=['l2', 'l1', 'l2', 'l1', 'l2', 'l1', 'l2', 'l1', 'l2',\n",
      "                   'l1', 'l2', 'l1', 'l2', 'l1', 'l2', 'l1', 'l2', 'l1',\n",
      "                   'l2', 'l1'],\n",
      "             mask=[False, False, False, False, False, False, False, False,\n",
      "                   False, False, False, False, False, False, False, False,\n",
      "                   False, False, False, False],\n",
      "       fill_value='?',\n",
      "            dtype=object), 'params': [{'C': 0.1, 'penalty': 'l2'}, {'C': 0.1, 'penalty': 'l1'}, {'C': 0.2, 'penalty': 'l2'}, {'C': 0.2, 'penalty': 'l1'}, {'C': 0.3, 'penalty': 'l2'}, {'C': 0.3, 'penalty': 'l1'}, {'C': 0.4, 'penalty': 'l2'}, {'C': 0.4, 'penalty': 'l1'}, {'C': 0.5, 'penalty': 'l2'}, {'C': 0.5, 'penalty': 'l1'}, {'C': 0.6, 'penalty': 'l2'}, {'C': 0.6, 'penalty': 'l1'}, {'C': 0.7, 'penalty': 'l2'}, {'C': 0.7, 'penalty': 'l1'}, {'C': 0.8, 'penalty': 'l2'}, {'C': 0.8, 'penalty': 'l1'}, {'C': 0.9, 'penalty': 'l2'}, {'C': 0.9, 'penalty': 'l1'}, {'C': 1.0, 'penalty': 'l2'}, {'C': 1.0, 'penalty': 'l1'}], 'split0_test_score': array([0.53463913,        nan, 0.53250983,        nan, 0.53002943,\n",
      "              nan, 0.52147235,        nan, 0.51642222,        nan,\n",
      "       0.51446722,        nan, 0.51381367,        nan, 0.51381367,\n",
      "              nan, 0.51187259,        nan, 0.50600924,        nan]), 'split1_test_score': array([0.49149088,        nan, 0.48389217,        nan, 0.48322996,\n",
      "              nan, 0.48327674,        nan, 0.47967066,        nan,\n",
      "       0.53157755,        nan, 0.52641198,        nan, 0.56950676,\n",
      "              nan, 0.56950676,        nan, 0.56665391,        nan]), 'split2_test_score': array([0.49176269,        nan, 0.4939904 ,        nan, 0.48447195,\n",
      "              nan, 0.48213719,        nan, 0.48134917,        nan,\n",
      "       0.51326295,        nan, 0.51025948,        nan, 0.50869325,\n",
      "              nan, 0.50869325,        nan, 0.50791737,        nan]), 'split3_test_score': array([0.45382819,        nan, 0.4702759 ,        nan, 0.46956478,\n",
      "              nan, 0.55906906,        nan, 0.55767083,        nan,\n",
      "       0.55078177,        nan, 0.58701937,        nan, 0.5831204 ,\n",
      "              nan, 0.58170375,        nan, 0.58170375,        nan]), 'split4_test_score': array([0.55946866,        nan, 0.5578105 ,        nan, 0.55184522,\n",
      "              nan, 0.62400172,        nan, 0.60917713,        nan,\n",
      "       0.57672683,        nan, 0.57191581,        nan, 0.62060353,\n",
      "              nan, 0.61989697,        nan, 0.62125671,        nan]), 'mean_test_score': array([0.50623791,        nan, 0.50769576,        nan, 0.50382827,\n",
      "              nan, 0.53399141,        nan, 0.528858  ,        nan,\n",
      "       0.53736326,        nan, 0.54188406,        nan, 0.55914752,\n",
      "              nan, 0.55833466,        nan, 0.5567082 ,        nan]), 'std_test_score': array([0.03691592,        nan, 0.03250206,        nan, 0.03151213,\n",
      "              nan, 0.05319457,        nan, 0.04921884,        nan,\n",
      "       0.02395026,        nan, 0.03151682,        nan, 0.04256676,\n",
      "              nan, 0.04262357,        nan, 0.0443647 ,        nan]), 'rank_test_score': array([ 9, 18,  8, 17, 10, 16,  6, 15,  7, 14,  5, 19,  4, 13,  1, 12,  2,\n",
      "       11,  3, 20], dtype=int32)}\n",
      "0.4735361698756042\n",
      "{'f1-score': [0.4735361698756042], 'accuracy': [0.8985507246376812], 'precision': [0.5071506758043023], 'recall': [0.45039891615234084], 'loss': []}\n"
     ]
    },
    {
     "name": "stderr",
     "output_type": "stream",
     "text": [
      "/Users/zeerakw/.virtualenvs/mtl/lib/python3.8/site-packages/sklearn/svm/_base.py:976: ConvergenceWarning: Liblinear failed to converge, increase the number of iterations.\n",
      "  warnings.warn(\"Liblinear failed to converge, increase \"\n"
     ]
    }
   ],
   "source": [
    "bpe_svm_grid = {'penalty': ['l2', 'l1'], 'C': [0.1, 0.2, 0.3, 0.4, 0.5, 0.6, 0.7, 0.8, 0.9, 1.0]}\n",
    "waseem_bpe_metrics = Metrics(['f1-score', 'accuracy', 'precision', 'recall'], 'f1-score')\n",
    "waseem_bpe_model = train_model((waseem_tr_bpe, [doc.label for doc in waseem_bpe.data]), \n",
    "                                  (waseem_de_bpe, [doc.label for doc in waseem_bpe.dev]),\n",
    "                                   waseem_bpe, bpe_svm_grid, waseem_bpe_metrics)\n",
    "print(waseem_bpe_metrics.scores)"
   ]
  },
  {
   "cell_type": "markdown",
   "metadata": {},
   "source": [
    "### Wulczyn"
   ]
  },
  {
   "cell_type": "code",
   "execution_count": 14,
   "metadata": {},
   "outputs": [],
   "source": [
    "wulczyn_bpe_vect = select_vectorizer('dict')\n",
    "wulczyn_tr_bpe = vectorize(wulczyn_bpe.data, wulczyn_bpe_vect, 'dict')\n",
    "wulczyn_de_bpe = vectorize(wulczyn_bpe.dev, wulczyn_bpe_vect, 'dict')\n",
    "wulczyn_te_bpe = vectorize(wulczyn_bpe.test, wulczyn_bpe_vect, 'dict')\n",
    "waseem_tr_bpe = vectorize(waseem_bpe.data, wulczyn_bpe_vect, 'dict')\n",
    "waseem_de_bpe = vectorize(waseem_bpe.dev, wulczyn_bpe_vect, 'dict')\n",
    "waseem_te_bpe = vectorize(waseem_bpe.test, wulczyn_bpe_vect, 'dict')\n",
    "davidson_tr_bpe = vectorize(davidson_bpe.data, wulczyn_bpe_vect, 'dict')\n",
    "davidson_de_bpe = vectorize(davidson_bpe.dev, wulczyn_bpe_vect, 'dict')\n",
    "davidson_te_bpe = vectorize(davidson_bpe.test, wulczyn_bpe_vect, 'dict')\n",
    "waseem_hovy_tr_bpe = vectorize(waseem_hovy_bpe.data, wulczyn_bpe_vect, 'dict')\n",
    "waseem_hovy_de_bpe = vectorize(waseem_hovy_bpe.dev, wulczyn_bpe_vect, 'dict')\n",
    "waseem_hovy_te_bpe = vectorize(waseem_hovy_bpe.test, wulczyn_bpe_vect, 'dict')\n",
    "oraby_sarcasm_tr_bpe = vectorize(oraby_sarcasm_bpe.data, wulczyn_bpe_vect, 'dict')\n",
    "oraby_sarcasm_de_bpe = vectorize(oraby_sarcasm_bpe.dev, wulczyn_bpe_vect, 'dict')\n",
    "oraby_sarcasm_te_bpe = vectorize(oraby_sarcasm_bpe.test, wulczyn_bpe_vect, 'dict')\n",
    "oraby_factfeel_tr_bpe = vectorize(oraby_factfeel_bpe.data, wulczyn_bpe_vect, 'dict')\n",
    "oraby_factfeel_de_bpe = vectorize(oraby_factfeel_bpe.dev, wulczyn_bpe_vect, 'dict')\n",
    "oraby_factfeel_te_bpe = vectorize(oraby_factfeel_bpe.test, wulczyn_bpe_vect, 'dict')\n",
    "hoover_tr_bpe = vectorize(hoover_bpe.data, wulczyn_bpe_vect, 'dict')\n",
    "hoover_de_bpe = vectorize(hoover_bpe.dev, wulczyn_bpe_vect, 'dict')\n",
    "hoover_te_bpe = vectorize(hoover_bpe.test, wulczyn_bpe_vect, 'dict')"
   ]
  },
  {
   "cell_type": "code",
   "execution_count": 15,
   "metadata": {},
   "outputs": [
    {
     "name": "stderr",
     "output_type": "stream",
     "text": [
      "/Users/zeerakw/.virtualenvs/mtl/lib/python3.8/site-packages/sklearn/utils/validation.py:68: FutureWarning: Pass scoring=f1_macro as keyword args. From version 0.25 passing these as positional arguments will result in an error\n",
      "  warnings.warn(\"Pass {} as keyword args. From version 0.25 \"\n"
     ]
    },
    {
     "name": "stdout",
     "output_type": "stream",
     "text": [
      "{'C': 0.1, 'penalty': 'l2'}\n",
      "{'mean_fit_time': array([49.72019706,  0.37321825, 55.86017551,  0.43571887, 61.89705043,\n",
      "        0.67213583, 47.26648231,  0.51847668, 57.84532781,  0.4317853 ,\n",
      "       48.30527329,  0.36120477, 54.11490011,  0.27214465, 55.15331717,\n",
      "        0.27982488, 43.53611708,  0.37079339, 40.35864658,  0.39567986]), 'std_fit_time': array([2.02115302, 0.0684996 , 7.47653176, 0.05466971, 1.38904204,\n",
      "       0.16870616, 4.79589775, 0.08606609, 6.30138053, 0.05686856,\n",
      "       4.22285014, 0.06808495, 3.75265569, 0.01344239, 5.26072371,\n",
      "       0.01548505, 1.88928589, 0.01841447, 9.63919465, 0.02441604]), 'mean_score_time': array([0.07469573, 0.        , 0.079667  , 0.        , 0.06472502,\n",
      "       0.        , 0.0829308 , 0.        , 0.10434556, 0.        ,\n",
      "       0.071737  , 0.        , 0.12530117, 0.        , 0.07414017,\n",
      "       0.        , 0.07934136, 0.        , 0.06405759, 0.        ]), 'std_score_time': array([0.01631106, 0.        , 0.00936127, 0.        , 0.00938919,\n",
      "       0.        , 0.00888369, 0.        , 0.05147715, 0.        ,\n",
      "       0.0310549 , 0.        , 0.05358645, 0.        , 0.02952045,\n",
      "       0.        , 0.02115576, 0.        , 0.03359366, 0.        ]), 'param_C': masked_array(data=[0.1, 0.1, 0.2, 0.2, 0.3, 0.3, 0.4, 0.4, 0.5, 0.5, 0.6,\n",
      "                   0.6, 0.7, 0.7, 0.8, 0.8, 0.9, 0.9, 1.0, 1.0],\n",
      "             mask=[False, False, False, False, False, False, False, False,\n",
      "                   False, False, False, False, False, False, False, False,\n",
      "                   False, False, False, False],\n",
      "       fill_value='?',\n",
      "            dtype=object), 'param_penalty': masked_array(data=['l2', 'l1', 'l2', 'l1', 'l2', 'l1', 'l2', 'l1', 'l2',\n",
      "                   'l1', 'l2', 'l1', 'l2', 'l1', 'l2', 'l1', 'l2', 'l1',\n",
      "                   'l2', 'l1'],\n",
      "             mask=[False, False, False, False, False, False, False, False,\n",
      "                   False, False, False, False, False, False, False, False,\n",
      "                   False, False, False, False],\n",
      "       fill_value='?',\n",
      "            dtype=object), 'params': [{'C': 0.1, 'penalty': 'l2'}, {'C': 0.1, 'penalty': 'l1'}, {'C': 0.2, 'penalty': 'l2'}, {'C': 0.2, 'penalty': 'l1'}, {'C': 0.3, 'penalty': 'l2'}, {'C': 0.3, 'penalty': 'l1'}, {'C': 0.4, 'penalty': 'l2'}, {'C': 0.4, 'penalty': 'l1'}, {'C': 0.5, 'penalty': 'l2'}, {'C': 0.5, 'penalty': 'l1'}, {'C': 0.6, 'penalty': 'l2'}, {'C': 0.6, 'penalty': 'l1'}, {'C': 0.7, 'penalty': 'l2'}, {'C': 0.7, 'penalty': 'l1'}, {'C': 0.8, 'penalty': 'l2'}, {'C': 0.8, 'penalty': 'l1'}, {'C': 0.9, 'penalty': 'l2'}, {'C': 0.9, 'penalty': 'l1'}, {'C': 1.0, 'penalty': 'l2'}, {'C': 1.0, 'penalty': 'l1'}], 'split0_test_score': array([0.85862195,        nan, 0.8588224 ,        nan, 0.85717291,\n",
      "              nan, 0.85550384,        nan, 0.85494688,        nan,\n",
      "       0.8538648 ,        nan, 0.85430579,        nan, 0.85288196,\n",
      "              nan, 0.85178878,        nan, 0.84928235,        nan]), 'split1_test_score': array([0.86348567,        nan, 0.86305487,        nan, 0.8635729 ,\n",
      "              nan, 0.86202818,        nan, 0.86023852,        nan,\n",
      "       0.85934663,        nan, 0.85834633,        nan, 0.85749381,\n",
      "              nan, 0.85666828,        nan, 0.85572821,        nan]), 'split2_test_score': array([0.87521654,        nan, 0.87453717,        nan, 0.87269072,\n",
      "              nan, 0.87258873,        nan, 0.87074262,        nan,\n",
      "       0.86915967,        nan, 0.86745523,        nan, 0.86571998,\n",
      "              nan, 0.86425465,        nan, 0.86383471,        nan]), 'split3_test_score': array([0.86734767,        nan, 0.86714362,        nan, 0.86610469,\n",
      "              nan, 0.86570441,        nan, 0.86407544,        nan,\n",
      "       0.86441799,        nan, 0.86393599,        nan, 0.86292369,\n",
      "              nan, 0.86263331,        nan, 0.86254969,        nan]), 'split4_test_score': array([0.86268613,        nan, 0.86289737,        nan, 0.8639268 ,\n",
      "              nan, 0.86528226,        nan, 0.86481983,        nan,\n",
      "       0.86379717,        nan, 0.8629238 ,        nan, 0.86283968,\n",
      "              nan, 0.86277457,        nan, 0.86135148,        nan]), 'mean_test_score': array([0.86547159,        nan, 0.86529109,        nan, 0.86469361,\n",
      "              nan, 0.86422149,        nan, 0.86296466,        nan,\n",
      "       0.86211725,        nan, 0.86139343,        nan, 0.86037182,\n",
      "              nan, 0.85962392,        nan, 0.85854929,        nan]), 'std_test_score': array([0.00560543,        nan, 0.00531971,        nan, 0.00498698,\n",
      "              nan, 0.00555235,        nan, 0.00523238,        nan,\n",
      "       0.00516702,        nan, 0.00458414,        nan, 0.00459535,\n",
      "              nan, 0.00470217,        nan, 0.00539678,        nan]), 'rank_test_score': array([ 1, 18,  2, 17,  3, 16,  4, 15,  5, 14,  6, 19,  7, 13,  8, 12,  9,\n",
      "       11, 10, 20], dtype=int32)}\n",
      "0.8662309136813242\n",
      "{'f1-score': [0.8662309136813242], 'accuracy': [0.9570468127490039], 'precision': [0.8974621854824636], 'recall': [0.8405962673820391], 'loss': []}\n"
     ]
    },
    {
     "name": "stderr",
     "output_type": "stream",
     "text": [
      "/Users/zeerakw/.virtualenvs/mtl/lib/python3.8/site-packages/sklearn/svm/_base.py:976: ConvergenceWarning: Liblinear failed to converge, increase the number of iterations.\n",
      "  warnings.warn(\"Liblinear failed to converge, increase \"\n"
     ]
    }
   ],
   "source": [
    "bpe_svm_grid = {'penalty': ['l2', 'l1'], 'C': [0.1, 0.2, 0.3, 0.4, 0.5, 0.6, 0.7, 0.8, 0.9, 1.0]}\n",
    "wulczyn_bpe_metrics = Metrics(['f1-score', 'accuracy', 'precision', 'recall'], 'f1-score')\n",
    "wulczyn_bpe_model = train_model((wulczyn_tr_bpe, [doc.label for doc in wulczyn_bpe.data]), \n",
    "                                  (wulczyn_de_bpe, [doc.label for doc in wulczyn_bpe.dev]),\n",
    "                                   wulczyn_bpe, bpe_svm_grid, wulczyn_bpe_metrics)\n",
    "print(wulczyn_bpe_metrics.scores)"
   ]
  },
  {
   "cell_type": "markdown",
   "metadata": {},
   "source": [
    "### Evaluate Single task BPE models"
   ]
  },
  {
   "cell_type": "code",
   "execution_count": 16,
   "metadata": {},
   "outputs": [
    {
     "name": "stdout",
     "output_type": "stream",
     "text": [
      "{'f1-score': [0.701282448896403], 'accuracy': [0.8922952803549818], 'precision': [0.7356355520089006], 'recall': [0.6839996439570558], 'loss': []}\n",
      "{'f1-score': [0.5845064355933921], 'accuracy': [0.9132947976878613], 'precision': [0.7041701685318706], 'recall': [0.5378510378510378], 'loss': []}\n",
      "{'f1-score': [0.8704438660314124], 'accuracy': [0.9582313437519613], 'precision': [0.9006247137343721], 'recall': [0.8454710064739721], 'loss': []}\n"
     ]
    }
   ],
   "source": [
    "davidson_bpe_eval_metrics = Metrics(['f1-score', 'accuracy', 'precision', 'recall'], 'f1-score')\n",
    "evaluate_single_task(davidson_bpe_model, davidson_bpe_vect, davidson_bpe.test, davidson_bpe_eval_metrics)\n",
    "\n",
    "waseem_bpe_eval_metrics = Metrics(['f1-score', 'accuracy', 'precision', 'recall'], 'f1-score')\n",
    "evaluate_single_task(waseem_bpe_model, waseem_bpe_vect, waseem_bpe.test, waseem_bpe_eval_metrics)\n",
    "\n",
    "wulczyn_bpe_eval_metrics = Metrics(['f1-score', 'accuracy', 'precision', 'recall'], 'f1-score')\n",
    "evaluate_single_task(wulczyn_bpe_model, wulczyn_bpe_vect, wulczyn_bpe.test, wulczyn_bpe_eval_metrics)"
   ]
  },
  {
   "cell_type": "markdown",
   "metadata": {},
   "source": [
    "## Train LIWC models\n",
    "### Davidson"
   ]
  },
  {
   "cell_type": "code",
   "execution_count": 17,
   "metadata": {},
   "outputs": [],
   "source": [
    "davidson_liwc_vect = select_vectorizer('dict')\n",
    "davidson_tr_liwc = vectorize(davidson_liwc.data, davidson_liwc_vect, 'dict')\n",
    "davidson_de_liwc = vectorize(davidson_liwc.dev, davidson_liwc_vect, 'dict')\n",
    "davidson_te_liwc = vectorize(davidson_liwc.test, davidson_liwc_vect, 'dict')\n",
    "wulczyn_tr_liwc = vectorize(wulczyn_liwc.data, davidson_liwc_vect, 'dict')\n",
    "wulczyn_de_liwc = vectorize(wulczyn_liwc.dev, davidson_liwc_vect, 'dict')\n",
    "wulczyn_te_liwc = vectorize(wulczyn_liwc.test, davidson_liwc_vect, 'dict')\n",
    "waseem_tr_liwc = vectorize(waseem_liwc.data, davidson_liwc_vect, 'dict')\n",
    "waseem_de_liwc = vectorize(waseem_liwc.dev, davidson_liwc_vect, 'dict')\n",
    "waseem_te_liwc = vectorize(waseem_liwc.test, davidson_liwc_vect, 'dict')\n",
    "waseem_hovy_tr_liwc = vectorize(waseem_hovy_liwc.data, davidson_liwc_vect, 'dict')\n",
    "waseem_hovy_de_liwc = vectorize(waseem_hovy_liwc.dev, davidson_liwc_vect, 'dict')\n",
    "waseem_hovy_te_liwc = vectorize(waseem_hovy_liwc.test, davidson_liwc_vect, 'dict')\n",
    "oraby_sarcasm_tr_liwc = vectorize(oraby_sarcasm_liwc.data, davidson_liwc_vect, 'dict')\n",
    "oraby_sarcasm_de_liwc = vectorize(oraby_sarcasm_liwc.dev, davidson_liwc_vect, 'dict')\n",
    "oraby_sarcasm_te_liwc = vectorize(oraby_sarcasm_liwc.test, davidson_liwc_vect, 'dict')\n",
    "oraby_factfeel_tr_liwc = vectorize(oraby_factfeel_liwc.data, davidson_liwc_vect, 'dict')\n",
    "oraby_factfeel_de_liwc = vectorize(oraby_factfeel_liwc.dev, davidson_liwc_vect, 'dict')\n",
    "oraby_factfeel_te_liwc = vectorize(oraby_factfeel_liwc.test, davidson_liwc_vect, 'dict')\n",
    "hoover_tr_liwc = vectorize(hoover_liwc.data, davidson_liwc_vect, 'dict')\n",
    "hoover_de_liwc = vectorize(hoover_liwc.dev, davidson_liwc_vect, 'dict')\n",
    "hoover_te_liwc = vectorize(hoover_liwc.test, davidson_liwc_vect, 'dict')"
   ]
  },
  {
   "cell_type": "code",
   "execution_count": 18,
   "metadata": {},
   "outputs": [
    {
     "name": "stderr",
     "output_type": "stream",
     "text": [
      "/Users/zeerakw/.virtualenvs/mtl/lib/python3.8/site-packages/sklearn/utils/validation.py:68: FutureWarning: Pass scoring=f1_macro as keyword args. From version 0.25 passing these as positional arguments will result in an error\n",
      "  warnings.warn(\"Pass {} as keyword args. From version 0.25 \"\n"
     ]
    },
    {
     "name": "stdout",
     "output_type": "stream",
     "text": [
      "{'C': 0.3, 'penalty': 'l2'}\n",
      "{'mean_fit_time': array([2.09791523e+01, 3.71622086e-02, 2.01150269e+01, 5.27858734e-02,\n",
      "       1.82899623e+01, 3.36939812e-02, 3.15752122e+01, 1.14541006e-01,\n",
      "       3.32538730e+01, 2.88573265e-02, 2.99026863e+01, 5.67827225e-02,\n",
      "       3.05260980e+01, 4.45348740e-02, 2.73552652e+01, 5.23555756e-02,\n",
      "       3.00645124e+01, 8.44983101e-02, 2.36143081e+01, 3.39894295e-02]), 'std_fit_time': array([1.04336747e+00, 5.10454891e-03, 4.69969305e-01, 3.73912903e-02,\n",
      "       1.91691734e+00, 8.10286654e-03, 6.04228196e+00, 9.08852147e-02,\n",
      "       2.78724994e+00, 6.87970063e-03, 5.76091285e-01, 1.83003835e-02,\n",
      "       9.51659722e-01, 1.42013674e-02, 1.34225990e+00, 2.24340390e-02,\n",
      "       7.82876370e-01, 1.87383348e-02, 4.37100611e+00, 7.01483779e-03]), 'mean_score_time': array([0.01812716, 0.        , 0.01134281, 0.        , 0.01086574,\n",
      "       0.        , 0.03187895, 0.        , 0.01165051, 0.        ,\n",
      "       0.01091318, 0.        , 0.01725526, 0.        , 0.00959272,\n",
      "       0.        , 0.01574345, 0.        , 0.01080065, 0.        ]), 'std_score_time': array([0.01190055, 0.        , 0.00339274, 0.        , 0.0050006 ,\n",
      "       0.        , 0.01706711, 0.        , 0.0044144 , 0.        ,\n",
      "       0.00332397, 0.        , 0.00844351, 0.        , 0.00325237,\n",
      "       0.        , 0.00936244, 0.        , 0.00528797, 0.        ]), 'param_C': masked_array(data=[0.1, 0.1, 0.2, 0.2, 0.3, 0.3, 0.4, 0.4, 0.5, 0.5, 0.6,\n",
      "                   0.6, 0.7, 0.7, 0.8, 0.8, 0.9, 0.9, 1.0, 1.0],\n",
      "             mask=[False, False, False, False, False, False, False, False,\n",
      "                   False, False, False, False, False, False, False, False,\n",
      "                   False, False, False, False],\n",
      "       fill_value='?',\n",
      "            dtype=object), 'param_penalty': masked_array(data=['l2', 'l1', 'l2', 'l1', 'l2', 'l1', 'l2', 'l1', 'l2',\n",
      "                   'l1', 'l2', 'l1', 'l2', 'l1', 'l2', 'l1', 'l2', 'l1',\n",
      "                   'l2', 'l1'],\n",
      "             mask=[False, False, False, False, False, False, False, False,\n",
      "                   False, False, False, False, False, False, False, False,\n",
      "                   False, False, False, False],\n",
      "       fill_value='?',\n",
      "            dtype=object), 'params': [{'C': 0.1, 'penalty': 'l2'}, {'C': 0.1, 'penalty': 'l1'}, {'C': 0.2, 'penalty': 'l2'}, {'C': 0.2, 'penalty': 'l1'}, {'C': 0.3, 'penalty': 'l2'}, {'C': 0.3, 'penalty': 'l1'}, {'C': 0.4, 'penalty': 'l2'}, {'C': 0.4, 'penalty': 'l1'}, {'C': 0.5, 'penalty': 'l2'}, {'C': 0.5, 'penalty': 'l1'}, {'C': 0.6, 'penalty': 'l2'}, {'C': 0.6, 'penalty': 'l1'}, {'C': 0.7, 'penalty': 'l2'}, {'C': 0.7, 'penalty': 'l1'}, {'C': 0.8, 'penalty': 'l2'}, {'C': 0.8, 'penalty': 'l1'}, {'C': 0.9, 'penalty': 'l2'}, {'C': 0.9, 'penalty': 'l1'}, {'C': 1.0, 'penalty': 'l2'}, {'C': 1.0, 'penalty': 'l1'}], 'split0_test_score': array([0.58575616,        nan, 0.58607053,        nan, 0.59210192,\n",
      "              nan, 0.59124463,        nan, 0.59084348,        nan,\n",
      "       0.59036549,        nan, 0.59036549,        nan, 0.58996403,\n",
      "              nan, 0.58931754,        nan, 0.58996302,        nan]), 'split1_test_score': array([0.59619369,        nan, 0.59778625,        nan, 0.5976593 ,\n",
      "              nan, 0.59769214,        nan, 0.59806237,        nan,\n",
      "       0.59742589,        nan, 0.60050417,        nan, 0.59994603,\n",
      "              nan, 0.59954645,        nan, 0.59938788,        nan]), 'split2_test_score': array([0.58770319,        nan, 0.59266248,        nan, 0.59731255,\n",
      "              nan, 0.59642603,        nan, 0.5962074 ,        nan,\n",
      "       0.5954248 ,        nan, 0.59574962,        nan, 0.59566428,\n",
      "              nan, 0.59533903,        nan, 0.59498779,        nan]), 'split3_test_score': array([0.59815996,        nan, 0.60025666,        nan, 0.60233724,\n",
      "              nan, 0.60141794,        nan, 0.60068696,        nan,\n",
      "       0.59968175,        nan, 0.5990852 ,        nan, 0.59897598,\n",
      "              nan, 0.59829492,        nan, 0.59731075,        nan]), 'split4_test_score': array([0.58471689,        nan, 0.59104729,        nan, 0.5884049 ,\n",
      "              nan, 0.58874852,        nan, 0.58800145,        nan,\n",
      "       0.58731814,        nan, 0.58753626,        nan, 0.5874688 ,\n",
      "              nan, 0.5879727 ,        nan, 0.58620894,        nan]), 'mean_test_score': array([0.59050598,        nan, 0.59356464,        nan, 0.59556318,\n",
      "              nan, 0.59510585,        nan, 0.59476033,        nan,\n",
      "       0.59404321,        nan, 0.59464815,        nan, 0.59440382,\n",
      "              nan, 0.59409413,        nan, 0.59357168,        nan]), 'std_test_score': array([0.00556531,        nan, 0.00501832,        nan, 0.00482832,\n",
      "              nan, 0.0045519 ,        nan, 0.00467219,        nan,\n",
      "       0.00455843,        nan, 0.00498224,        nan, 0.00491967,\n",
      "              nan, 0.00467358,        nan, 0.00483832,        nan]), 'rank_test_score': array([10, 18,  9, 17,  1, 16,  2, 15,  3, 14,  7, 19,  4, 13,  5, 12,  6,\n",
      "       11,  8, 20], dtype=int32)}\n",
      "0.6034801714832199\n",
      "{'f1-score': [0.6034801714832199], 'accuracy': [0.8914447134786118], 'precision': [0.6636736025828571], 'recall': [0.6287760799622113], 'loss': []}\n"
     ]
    },
    {
     "name": "stderr",
     "output_type": "stream",
     "text": [
      "/Users/zeerakw/.virtualenvs/mtl/lib/python3.8/site-packages/sklearn/svm/_base.py:976: ConvergenceWarning: Liblinear failed to converge, increase the number of iterations.\n",
      "  warnings.warn(\"Liblinear failed to converge, increase \"\n"
     ]
    }
   ],
   "source": [
    "davidson_liwc_metrics = Metrics(['f1-score', 'accuracy', 'precision', 'recall'], 'f1-score')\n",
    "davidson_liwc_model = train_model((davidson_tr_liwc, [doc.label for doc in davidson_liwc.data]), \n",
    "                                 (davidson_de_liwc, [doc.label for doc in davidson_liwc.dev]),\n",
    "                                  davidson_liwc, bpe_svm_grid, davidson_liwc_metrics)\n",
    "print(davidson_liwc_metrics.scores)"
   ]
  },
  {
   "cell_type": "markdown",
   "metadata": {},
   "source": [
    "### Waseem"
   ]
  },
  {
   "cell_type": "code",
   "execution_count": 19,
   "metadata": {},
   "outputs": [],
   "source": [
    "waseem_liwc_vect = select_vectorizer('dict')\n",
    "waseem_tr_liwc = vectorize(waseem_liwc.data, waseem_liwc_vect, 'dict')\n",
    "waseem_de_liwc = vectorize(waseem_liwc.dev, waseem_liwc_vect, 'dict')\n",
    "waseem_te_liwc = vectorize(waseem_liwc.test, waseem_liwc_vect, 'dict')\n",
    "davidson_tr_liwc = vectorize(davidson_liwc.data, waseem_liwc_vect, 'dict')\n",
    "davidson_de_liwc = vectorize(davidson_liwc.dev, waseem_liwc_vect, 'dict')\n",
    "davidson_te_liwc = vectorize(davidson_liwc.test, waseem_liwc_vect, 'dict')\n",
    "wulczyn_tr_liwc = vectorize(wulczyn_liwc.data, waseem_liwc_vect, 'dict')\n",
    "wulczyn_de_liwc = vectorize(wulczyn_liwc.dev, waseem_liwc_vect, 'dict')\n",
    "wulczyn_te_liwc = vectorize(wulczyn_liwc.test, waseem_liwc_vect, 'dict')\n",
    "waseem_hovy_tr_liwc = vectorize(waseem_hovy_liwc.data, waseem_liwc_vect, 'dict')\n",
    "waseem_hovy_de_liwc = vectorize(waseem_hovy_liwc.dev, waseem_liwc_vect, 'dict')\n",
    "waseem_hovy_te_liwc = vectorize(waseem_hovy_liwc.test, waseem_liwc_vect, 'dict')\n",
    "oraby_sarcasm_tr_liwc = vectorize(oraby_sarcasm_liwc.data, waseem_liwc_vect, 'dict')\n",
    "oraby_sarcasm_de_liwc = vectorize(oraby_sarcasm_liwc.dev, waseem_liwc_vect, 'dict')\n",
    "oraby_sarcasm_te_liwc = vectorize(oraby_sarcasm_liwc.test, waseem_liwc_vect, 'dict')\n",
    "oraby_factfeel_tr_liwc = vectorize(oraby_factfeel_liwc.data, waseem_liwc_vect, 'dict')\n",
    "oraby_factfeel_de_liwc = vectorize(oraby_factfeel_liwc.dev, waseem_liwc_vect, 'dict')\n",
    "oraby_factfeel_te_liwc = vectorize(oraby_factfeel_liwc.test, waseem_liwc_vect, 'dict')\n",
    "hoover_tr_liwc = vectorize(hoover_liwc.data, waseem_liwc_vect, 'dict')\n",
    "hoover_de_liwc = vectorize(hoover_liwc.dev, waseem_liwc_vect, 'dict')\n",
    "hoover_te_liwc = vectorize(hoover_liwc.test, waseem_liwc_vect, 'dict')"
   ]
  },
  {
   "cell_type": "code",
   "execution_count": 20,
   "metadata": {},
   "outputs": [
    {
     "name": "stderr",
     "output_type": "stream",
     "text": [
      "/Users/zeerakw/.virtualenvs/mtl/lib/python3.8/site-packages/sklearn/utils/validation.py:68: FutureWarning: Pass scoring=f1_macro as keyword args. From version 0.25 passing these as positional arguments will result in an error\n",
      "  warnings.warn(\"Pass {} as keyword args. From version 0.25 \"\n"
     ]
    },
    {
     "name": "stdout",
     "output_type": "stream",
     "text": [
      "{'C': 0.8, 'penalty': 'l2'}\n",
      "{'mean_fit_time': array([4.22403383, 0.0098484 , 2.63490648, 0.00996604, 2.44947295,\n",
      "       0.01109676, 2.6258316 , 0.03366647, 2.66835661, 0.00905681,\n",
      "       2.26226349, 0.0108592 , 2.41505313, 0.01221161, 2.30807238,\n",
      "       0.00887079, 2.10340519, 0.01001945, 2.29293976, 0.01352162]), 'std_fit_time': array([0.67254439, 0.0049201 , 0.13917457, 0.00331552, 0.08768305,\n",
      "       0.00449528, 0.05959656, 0.0331939 , 0.21161145, 0.00315538,\n",
      "       0.02735701, 0.00443825, 0.1008624 , 0.00675816, 0.13813594,\n",
      "       0.00395959, 0.13666417, 0.00372464, 0.0942535 , 0.01066036]), 'mean_score_time': array([0.00491123, 0.        , 0.00428467, 0.        , 0.00748925,\n",
      "       0.        , 0.00498242, 0.        , 0.00416541, 0.        ,\n",
      "       0.00403895, 0.        , 0.01017261, 0.        , 0.00621419,\n",
      "       0.        , 0.00391016, 0.        , 0.00327144, 0.        ]), 'std_score_time': array([0.00138119, 0.        , 0.00085122, 0.        , 0.00718145,\n",
      "       0.        , 0.00174362, 0.        , 0.00103526, 0.        ,\n",
      "       0.0004667 , 0.        , 0.00610296, 0.        , 0.00503176,\n",
      "       0.        , 0.00075878, 0.        , 0.00070478, 0.        ]), 'param_C': masked_array(data=[0.1, 0.1, 0.2, 0.2, 0.3, 0.3, 0.4, 0.4, 0.5, 0.5, 0.6,\n",
      "                   0.6, 0.7, 0.7, 0.8, 0.8, 0.9, 0.9, 1.0, 1.0],\n",
      "             mask=[False, False, False, False, False, False, False, False,\n",
      "                   False, False, False, False, False, False, False, False,\n",
      "                   False, False, False, False],\n",
      "       fill_value='?',\n",
      "            dtype=object), 'param_penalty': masked_array(data=['l2', 'l1', 'l2', 'l1', 'l2', 'l1', 'l2', 'l1', 'l2',\n",
      "                   'l1', 'l2', 'l1', 'l2', 'l1', 'l2', 'l1', 'l2', 'l1',\n",
      "                   'l2', 'l1'],\n",
      "             mask=[False, False, False, False, False, False, False, False,\n",
      "                   False, False, False, False, False, False, False, False,\n",
      "                   False, False, False, False],\n",
      "       fill_value='?',\n",
      "            dtype=object), 'params': [{'C': 0.1, 'penalty': 'l2'}, {'C': 0.1, 'penalty': 'l1'}, {'C': 0.2, 'penalty': 'l2'}, {'C': 0.2, 'penalty': 'l1'}, {'C': 0.3, 'penalty': 'l2'}, {'C': 0.3, 'penalty': 'l1'}, {'C': 0.4, 'penalty': 'l2'}, {'C': 0.4, 'penalty': 'l1'}, {'C': 0.5, 'penalty': 'l2'}, {'C': 0.5, 'penalty': 'l1'}, {'C': 0.6, 'penalty': 'l2'}, {'C': 0.6, 'penalty': 'l1'}, {'C': 0.7, 'penalty': 'l2'}, {'C': 0.7, 'penalty': 'l1'}, {'C': 0.8, 'penalty': 'l2'}, {'C': 0.8, 'penalty': 'l1'}, {'C': 0.9, 'penalty': 'l2'}, {'C': 0.9, 'penalty': 'l1'}, {'C': 1.0, 'penalty': 'l2'}, {'C': 1.0, 'penalty': 'l1'}], 'split0_test_score': array([0.35275045,        nan, 0.38792387,        nan, 0.38951436,\n",
      "              nan, 0.39340365,        nan, 0.39492274,        nan,\n",
      "       0.39379148,        nan, 0.39365374,        nan, 0.41599412,\n",
      "              nan, 0.41381829,        nan, 0.4144743 ,        nan]), 'split1_test_score': array([0.32197978,        nan, 0.32792563,        nan, 0.32368107,\n",
      "              nan, 0.32428213,        nan, 0.322139  ,        nan,\n",
      "       0.32256064,        nan, 0.32645949,        nan, 0.32645949,\n",
      "              nan, 0.32645949,        nan, 0.32912851,        nan]), 'split2_test_score': array([0.28625676,        nan, 0.32414014,        nan, 0.32635008,\n",
      "              nan, 0.32981703,        nan, 0.32615971,        nan,\n",
      "       0.32432049,        nan, 0.32800471,        nan, 0.3275398 ,\n",
      "              nan, 0.32875546,        nan, 0.32861622,        nan]), 'split3_test_score': array([0.35373843,        nan, 0.37672532,        nan, 0.37101117,\n",
      "              nan, 0.43531275,        nan, 0.43753968,        nan,\n",
      "       0.43570059,        nan, 0.43730701,        nan, 0.43050878,\n",
      "              nan, 0.43050878,        nan, 0.42710709,        nan]), 'split4_test_score': array([0.33060012,        nan, 0.32868846,        nan, 0.33133781,\n",
      "              nan, 0.3759102 ,        nan, 0.36590438,        nan,\n",
      "       0.38727035,        nan, 0.3836186 ,        nan, 0.38406495,\n",
      "              nan, 0.37578119,        nan, 0.37773175,        nan]), 'mean_test_score': array([0.32906511,        nan, 0.34908068,        nan, 0.3483789 ,\n",
      "              nan, 0.37174515,        nan, 0.3693331 ,        nan,\n",
      "       0.37272871,        nan, 0.37380871,        nan, 0.37691343,\n",
      "              nan, 0.37506464,        nan, 0.37541157,        nan]), 'std_test_score': array([0.02471793,        nan, 0.02741689,        nan, 0.02679551,\n",
      "              nan, 0.04132307,        nan, 0.04338191,        nan,\n",
      "       0.0435448 ,        nan, 0.04209999,        nan, 0.04343791,\n",
      "              nan, 0.04262256,        nan, 0.04131739,        nan]), 'rank_test_score': array([10, 18,  8, 17,  9, 16,  6, 15,  7, 14,  5, 19,  4, 13,  1, 12,  3,\n",
      "       11,  2, 20], dtype=int32)}\n",
      "0.40699774332867855\n",
      "{'f1-score': [0.40699774332867855], 'accuracy': [0.855072463768116], 'precision': [0.6035650109100245], 'recall': [0.36239316239316244], 'loss': []}\n"
     ]
    },
    {
     "name": "stderr",
     "output_type": "stream",
     "text": [
      "/Users/zeerakw/.virtualenvs/mtl/lib/python3.8/site-packages/sklearn/svm/_base.py:976: ConvergenceWarning: Liblinear failed to converge, increase the number of iterations.\n",
      "  warnings.warn(\"Liblinear failed to converge, increase \"\n"
     ]
    }
   ],
   "source": [
    "liwc_svm_grid = {'penalty': ['l2', 'l1'], 'C': [0.1, 0.2, 0.3, 0.4, 0.5, 0.6, 0.7, 0.8, 0.9, 1.0]}\n",
    "waseem_liwc_metrics = Metrics(['f1-score', 'accuracy', 'precision', 'recall'], 'f1-score')\n",
    "waseem_liwc_model = train_model((waseem_tr_liwc, [doc.label for doc in waseem_liwc.data]), \n",
    "                                  (waseem_de_liwc, [doc.label for doc in waseem_liwc.dev]),\n",
    "                                   waseem_liwc, liwc_svm_grid, waseem_liwc_metrics)\n",
    "print(waseem_liwc_metrics.scores)"
   ]
  },
  {
   "cell_type": "markdown",
   "metadata": {},
   "source": [
    "### Wulczyn"
   ]
  },
  {
   "cell_type": "code",
   "execution_count": 21,
   "metadata": {},
   "outputs": [],
   "source": [
    "wulczyn_liwc_vect = select_vectorizer('dict')\n",
    "waseem_tr_liwc = vectorize(waseem_liwc.data, wulczyn_liwc_vect, 'dict')\n",
    "waseem_de_liwc = vectorize(waseem_liwc.dev, wulczyn_liwc_vect, 'dict')\n",
    "waseem_te_liwc = vectorize(waseem_liwc.test, wulczyn_liwc_vect, 'dict')\n",
    "wulczyn_tr_liwc = vectorize(wulczyn_liwc.data, wulczyn_liwc_vect, 'dict')\n",
    "wulczyn_de_liwc = vectorize(wulczyn_liwc.dev, wulczyn_liwc_vect, 'dict')\n",
    "wulczyn_te_liwc = vectorize(wulczyn_liwc.test, wulczyn_liwc_vect, 'dict')\n",
    "davidson_tr_liwc = vectorize(davidson_liwc.data, wulczyn_liwc_vect, 'dict')\n",
    "davidson_de_liwc = vectorize(davidson_liwc.dev, wulczyn_liwc_vect, 'dict')\n",
    "davidson_te_liwc = vectorize(davidson_liwc.test, wulczyn_liwc_vect, 'dict')\n",
    "waseem_hovy_tr_liwc = vectorize(waseem_hovy_liwc.data, wulczyn_liwc_vect, 'dict')\n",
    "waseem_hovy_de_liwc = vectorize(waseem_hovy_liwc.dev, wulczyn_liwc_vect, 'dict')\n",
    "waseem_hovy_te_liwc = vectorize(waseem_hovy_liwc.test, wulczyn_liwc_vect, 'dict')\n",
    "oraby_sarcasm_tr_liwc = vectorize(oraby_sarcasm_liwc.data, wulczyn_liwc_vect, 'dict')\n",
    "oraby_sarcasm_de_liwc = vectorize(oraby_sarcasm_liwc.dev, wulczyn_liwc_vect, 'dict')\n",
    "oraby_sarcasm_te_liwc = vectorize(oraby_sarcasm_liwc.test, wulczyn_liwc_vect, 'dict')\n",
    "oraby_factfeel_tr_liwc = vectorize(oraby_factfeel_liwc.data, wulczyn_liwc_vect, 'dict')\n",
    "oraby_factfeel_de_liwc = vectorize(oraby_factfeel_liwc.dev, wulczyn_liwc_vect, 'dict')\n",
    "oraby_factfeel_te_liwc = vectorize(oraby_factfeel_liwc.test, wulczyn_liwc_vect, 'dict')\n",
    "hoover_tr_liwc = vectorize(hoover_liwc.data, wulczyn_liwc_vect, 'dict')\n",
    "hoover_de_liwc = vectorize(hoover_liwc.dev, wulczyn_liwc_vect, 'dict')\n",
    "hoover_te_liwc = vectorize(hoover_liwc.test, wulczyn_liwc_vect, 'dict')"
   ]
  },
  {
   "cell_type": "code",
   "execution_count": 22,
   "metadata": {
    "scrolled": true
   },
   "outputs": [
    {
     "name": "stderr",
     "output_type": "stream",
     "text": [
      "/Users/zeerakw/.virtualenvs/mtl/lib/python3.8/site-packages/sklearn/utils/validation.py:68: FutureWarning: Pass scoring=f1_macro as keyword args. From version 0.25 passing these as positional arguments will result in an error\n",
      "  warnings.warn(\"Pass {} as keyword args. From version 0.25 \"\n"
     ]
    },
    {
     "name": "stdout",
     "output_type": "stream",
     "text": [
      "{'C': 1.0, 'penalty': 'l2'}\n",
      "{'mean_fit_time': array([ 54.94813437,   0.25237861,  61.59437184,   0.3416223 ,\n",
      "        70.34237223,   0.35101914,  79.62076797,   0.25146661,\n",
      "       108.38874164,   0.59970965, 105.02918854,   0.60522113,\n",
      "        92.63073702,   0.29760838,  86.17313061,   0.24022584,\n",
      "        75.61475205,   0.23624535,  69.19804459,   0.25574999]), 'std_fit_time': array([5.74220091e-01, 5.50749719e-02, 3.04116780e+00, 6.09563249e-02,\n",
      "       3.28490313e+00, 6.52832545e-02, 3.27101833e+00, 3.04943491e-02,\n",
      "       6.82171272e+00, 2.01033528e-01, 4.39220907e+00, 2.37830079e-01,\n",
      "       7.38677448e+00, 5.09113545e-02, 6.75260926e-01, 1.69361620e-02,\n",
      "       3.15747405e+00, 2.47168872e-02, 1.54810445e+01, 9.33257468e-03]), 'mean_score_time': array([0.04317298, 0.        , 0.06609054, 0.        , 0.0540226 ,\n",
      "       0.        , 0.07556028, 0.        , 0.08801513, 0.        ,\n",
      "       0.09679732, 0.        , 0.06182199, 0.        , 0.05958343,\n",
      "       0.        , 0.05049233, 0.        , 0.03839302, 0.        ]), 'std_score_time': array([0.01186086, 0.        , 0.01436326, 0.        , 0.01529271,\n",
      "       0.        , 0.01880355, 0.        , 0.03821152, 0.        ,\n",
      "       0.03580656, 0.        , 0.01382791, 0.        , 0.02642954,\n",
      "       0.        , 0.00911256, 0.        , 0.01158952, 0.        ]), 'param_C': masked_array(data=[0.1, 0.1, 0.2, 0.2, 0.3, 0.3, 0.4, 0.4, 0.5, 0.5, 0.6,\n",
      "                   0.6, 0.7, 0.7, 0.8, 0.8, 0.9, 0.9, 1.0, 1.0],\n",
      "             mask=[False, False, False, False, False, False, False, False,\n",
      "                   False, False, False, False, False, False, False, False,\n",
      "                   False, False, False, False],\n",
      "       fill_value='?',\n",
      "            dtype=object), 'param_penalty': masked_array(data=['l2', 'l1', 'l2', 'l1', 'l2', 'l1', 'l2', 'l1', 'l2',\n",
      "                   'l1', 'l2', 'l1', 'l2', 'l1', 'l2', 'l1', 'l2', 'l1',\n",
      "                   'l2', 'l1'],\n",
      "             mask=[False, False, False, False, False, False, False, False,\n",
      "                   False, False, False, False, False, False, False, False,\n",
      "                   False, False, False, False],\n",
      "       fill_value='?',\n",
      "            dtype=object), 'params': [{'C': 0.1, 'penalty': 'l2'}, {'C': 0.1, 'penalty': 'l1'}, {'C': 0.2, 'penalty': 'l2'}, {'C': 0.2, 'penalty': 'l1'}, {'C': 0.3, 'penalty': 'l2'}, {'C': 0.3, 'penalty': 'l1'}, {'C': 0.4, 'penalty': 'l2'}, {'C': 0.4, 'penalty': 'l1'}, {'C': 0.5, 'penalty': 'l2'}, {'C': 0.5, 'penalty': 'l1'}, {'C': 0.6, 'penalty': 'l2'}, {'C': 0.6, 'penalty': 'l1'}, {'C': 0.7, 'penalty': 'l2'}, {'C': 0.7, 'penalty': 'l1'}, {'C': 0.8, 'penalty': 'l2'}, {'C': 0.8, 'penalty': 'l1'}, {'C': 0.9, 'penalty': 'l2'}, {'C': 0.9, 'penalty': 'l1'}, {'C': 1.0, 'penalty': 'l2'}, {'C': 1.0, 'penalty': 'l1'}], 'split0_test_score': array([0.82971154,        nan, 0.83728807,        nan, 0.84286374,\n",
      "              nan, 0.8445742 ,        nan, 0.8409652 ,        nan,\n",
      "       0.83890381,        nan, 0.84258427,        nan, 0.84609555,\n",
      "              nan, 0.84316714,        nan, 0.84342249,        nan]), 'split1_test_score': array([0.83114535,        nan, 0.83729152,        nan, 0.84421379,\n",
      "              nan, 0.84484141,        nan, 0.84523164,        nan,\n",
      "       0.83502254,        nan, 0.84669819,        nan, 0.85307407,\n",
      "              nan, 0.8493621 ,        nan, 0.85419989,        nan]), 'split2_test_score': array([0.85301774,        nan, 0.85874908,        nan, 0.86295652,\n",
      "              nan, 0.86331872,        nan, 0.86400894,        nan,\n",
      "       0.86602068,        nan, 0.86467951,        nan, 0.86583207,\n",
      "              nan, 0.86773746,        nan, 0.86833105,        nan]), 'split3_test_score': array([0.83402225,        nan, 0.83962431,        nan, 0.84097771,\n",
      "              nan, 0.78516615,        nan, 0.84428493,        nan,\n",
      "       0.84218392,        nan, 0.84666069,        nan, 0.84567744,\n",
      "              nan, 0.84526956,        nan, 0.84378296,        nan]), 'split4_test_score': array([0.83355685,        nan, 0.84299844,        nan, 0.84203453,\n",
      "              nan, 0.84219067,        nan, 0.84501121,        nan,\n",
      "       0.84541998,        nan, 0.84893278,        nan, 0.84832551,\n",
      "              nan, 0.84965736,        nan, 0.85041492,        nan]), 'mean_test_score': array([0.83629075,        nan, 0.84319029,        nan, 0.84660926,\n",
      "              nan, 0.83601823,        nan, 0.84790038,        nan,\n",
      "       0.84551019,        nan, 0.84991109,        nan, 0.85180093,\n",
      "              nan, 0.85103872,        nan, 0.85203026,        nan]), 'std_test_score': array([0.00851086,        nan, 0.00805557,        nan, 0.00824188,\n",
      "              nan, 0.02653452,        nan, 0.00819907,        nan,\n",
      "       0.01082024,        nan, 0.00766333,        nan, 0.0074916 ,\n",
      "              nan, 0.00870416,        nan, 0.00911201,        nan]), 'rank_test_score': array([ 9, 18,  8, 17,  6, 16, 10, 15,  5, 14,  7, 19,  4, 13,  2, 12,  3,\n",
      "       11,  1, 20], dtype=int32)}\n",
      "0.8525565831582669\n",
      "{'f1-score': [0.8525565831582669], 'accuracy': [0.9544945219123506], 'precision': [0.9029725676709006], 'recall': [0.8155798153644582], 'loss': []}\n"
     ]
    },
    {
     "name": "stderr",
     "output_type": "stream",
     "text": [
      "/Users/zeerakw/.virtualenvs/mtl/lib/python3.8/site-packages/sklearn/svm/_base.py:976: ConvergenceWarning: Liblinear failed to converge, increase the number of iterations.\n",
      "  warnings.warn(\"Liblinear failed to converge, increase \"\n"
     ]
    }
   ],
   "source": [
    "liwc_svm_grid = {'penalty': ['l2', 'l1'], 'C': [0.1, 0.2, 0.3, 0.4, 0.5, 0.6, 0.7, 0.8, 0.9, 1.0]}\n",
    "wulczyn_liwc_metrics = Metrics(['f1-score', 'accuracy', 'precision', 'recall'], 'f1-score')\n",
    "wulczyn_liwc_model = train_model((wulczyn_tr_liwc, [doc.label for doc in wulczyn_liwc.data]), \n",
    "                                  (wulczyn_de_liwc, [doc.label for doc in wulczyn_liwc.dev]),\n",
    "                                   wulczyn_liwc, liwc_svm_grid, wulczyn_liwc_metrics)\n",
    "print(wulczyn_liwc_metrics.scores)"
   ]
  },
  {
   "cell_type": "markdown",
   "metadata": {},
   "source": [
    "## Evaluate single task liwc models"
   ]
  },
  {
   "cell_type": "code",
   "execution_count": 23,
   "metadata": {},
   "outputs": [
    {
     "name": "stdout",
     "output_type": "stream",
     "text": [
      "{'f1-score': [0.6142350240280037], 'accuracy': [0.8898749495764421], 'precision': [0.7830107163000565], 'recall': [0.6338177447552448], 'loss': []}\n",
      "{'f1-score': [0.29093294982337775], 'accuracy': [0.846820809248555], 'precision': [0.3409606656580938], 'recall': [0.2848094738026479], 'loss': []}\n",
      "{'f1-score': [0.8566454911660655], 'accuracy': [0.9555011611121571], 'precision': [0.9050873520472182], 'recall': [0.820637548546594], 'loss': []}\n"
     ]
    }
   ],
   "source": [
    "davidson_liwc_eval_metrics = Metrics(['f1-score', 'accuracy', 'precision', 'recall'], 'f1-score')\n",
    "evaluate_single_task(davidson_liwc_model, davidson_liwc_vect, davidson_liwc.test, davidson_liwc_eval_metrics)\n",
    "\n",
    "waseem_liwc_eval_metrics = Metrics(['f1-score', 'accuracy', 'precision', 'recall'], 'f1-score')\n",
    "evaluate_single_task(waseem_liwc_model, waseem_liwc_vect, waseem_liwc.test, waseem_liwc_eval_metrics)\n",
    "\n",
    "wulczyn_liwc_eval_metrics = Metrics(['f1-score', 'accuracy', 'precision', 'recall'], 'f1-score')\n",
    "evaluate_single_task(wulczyn_liwc_model, wulczyn_liwc_vect, wulczyn_liwc.test, wulczyn_liwc_eval_metrics)"
   ]
  },
  {
   "cell_type": "markdown",
   "metadata": {},
   "source": [
    "# Ensemble Classifier\n",
    "\n",
    "Linear SVM classifiers for each task and a LogisticRegression Classifier on top"
   ]
  },
  {
   "cell_type": "code",
   "execution_count": 24,
   "metadata": {},
   "outputs": [],
   "source": [
    "def ensemble_train(classifiers, train, dev, dataset, grid_search, metrics):\n",
    "    model = LogisticRegression(max_iter = 1000)\n",
    "    \n",
    "    trainY = [doc.label for doc in train]\n",
    "    trainX = [Counter(doc.text) for doc in train]\n",
    "    \n",
    "    ensemble_tr = []\n",
    "    \n",
    "    for doc in trainX:\n",
    "        doc_preds = {}\n",
    "        for clf, vect in classifiers:\n",
    "            d = vect.transform([doc])\n",
    "            pred = clf.predict(d)\n",
    "            doc_preds[clf.name] = pred\n",
    "        ensemble_tr.append(doc_preds)\n",
    "        \n",
    "    vect = select_vectorizer('dict')\n",
    "    vect.fit(ensemble_tr)\n",
    "    \n",
    "    trainX = vect.transform(ensemble_tr)\n",
    "    model = GridSearchCV(model, grid_search, 'f1_macro', n_jobs = -1, cv = 5, refit = True)\n",
    "    model.fit(trainX, trainY)\n",
    "    \n",
    "    print(model.best_params_)\n",
    "    print(model.cv_results_)\n",
    "    \n",
    "    devY = [doc.label for doc in dev]\n",
    "    devX = vect.transform([Counter(doc.text) for doc in dev])\n",
    "    preds = model.predict(devX)\n",
    "    metrics.compute(preds, devY)\n",
    "    \n",
    "    print(metrics.last_display())\n",
    "    \n",
    "    return model, vect"
   ]
  },
  {
   "cell_type": "code",
   "execution_count": 25,
   "metadata": {},
   "outputs": [],
   "source": [
    "def evaluate_ensemble_model(ensemble_model, task_models, data, metrics):\n",
    "    \n",
    "    ensemble_clf, ensemble_vect = ensemble_model\n",
    "    test, testY = [doc.text for doc in data], [doc.label for doc in data]\n",
    "\n",
    "    testX = []\n",
    "    for doc in test:\n",
    "        doc_preds = {}\n",
    "        for clf, vect in task_models:\n",
    "            d = vect.transform([Counter(doc)])\n",
    "            pred = clf.predict(d)\n",
    "            doc_preds[clf.name] = pred[0]\n",
    "        testX.append(doc_preds)\n",
    "    \n",
    "    testX = ensemble_vect.transform(testX)\n",
    "    preds = ensemble_clf.predict(testX)\n",
    "    metrics.compute(preds, testY)\n",
    "    \n",
    "    print(metrics.last_display())"
   ]
  },
  {
   "cell_type": "markdown",
   "metadata": {},
   "source": [
    "## Ensemble BPE Models"
   ]
  },
  {
   "cell_type": "code",
   "execution_count": 26,
   "metadata": {},
   "outputs": [],
   "source": [
    "davidson_ensemble_bpe_vect = select_vectorizer('dict')\n",
    "davidson_ensemble_tr_bpe = vectorize(davidson_bpe.data, davidson_ensemble_bpe_vect, 'dict')\n",
    "davidson_ensemble_de_bpe = vectorize(davidson_bpe.dev, davidson_ensemble_bpe_vect, 'dict')\n",
    "davidson_ensemble_te_bpe = vectorize(davidson_bpe.test, davidson_ensemble_bpe_vect, 'dict')\n",
    "\n",
    "wulczyn_ensemble_bpe_vect = select_vectorizer('dict')\n",
    "wulczyn_ensemble_tr_bpe = vectorize(wulczyn_bpe.data, wulczyn_ensemble_bpe_vect, 'dict')\n",
    "wulczyn_ensemble_de_bpe = vectorize(wulczyn_bpe.dev, wulczyn_ensemble_bpe_vect, 'dict')\n",
    "wulczyn_ensemble_te_bpe = vectorize(wulczyn_bpe.test, wulczyn_ensemble_bpe_vect, 'dict')\n",
    "\n",
    "waseem_ensemble_bpe_vect = select_vectorizer('dict')\n",
    "waseem_ensemble_tr_bpe = vectorize(waseem_bpe.data, waseem_ensemble_bpe_vect, 'dict')\n",
    "waseem_ensemble_de_bpe = vectorize(waseem_bpe.dev, waseem_ensemble_bpe_vect, 'dict')\n",
    "waseem_ensemble_te_bpe = vectorize(waseem_bpe.test, waseem_ensemble_bpe_vect, 'dict')\n",
    "\n",
    "waseem_hovy_ensemble_bpe_vect = select_vectorizer('dict')\n",
    "waseem_hovy_ensemble_tr_bpe = vectorize(waseem_hovy_bpe.data, waseem_hovy_ensemble_bpe_vect, 'dict')\n",
    "waseem_hovy_ensemble_de_bpe = vectorize(waseem_hovy_bpe.dev, waseem_hovy_ensemble_bpe_vect, 'dict')\n",
    "waseem_hovy_ensemble_te_bpe = vectorize(waseem_hovy_bpe.test, waseem_hovy_ensemble_bpe_vect, 'dict')\n",
    "\n",
    "oraby_sarcasm_ensemble_bpe_vect = select_vectorizer('dict')\n",
    "oraby_sarcasm_ensemble_tr_bpe = vectorize(oraby_sarcasm_bpe.data, oraby_sarcasm_ensemble_bpe_vect, 'dict')\n",
    "oraby_sarcasm_ensemble_de_bpe = vectorize(oraby_sarcasm_bpe.dev, oraby_sarcasm_ensemble_bpe_vect, 'dict')\n",
    "oraby_sarcasm_ensemble_te_bpe = vectorize(oraby_sarcasm_bpe.test, oraby_sarcasm_ensemble_bpe_vect, 'dict')\n",
    "\n",
    "oraby_factfeel_ensemble_bpe_vect = select_vectorizer('dict')\n",
    "oraby_factfeel_ensemble_tr_bpe = vectorize(oraby_factfeel_bpe.data, oraby_factfeel_ensemble_bpe_vect, 'dict')\n",
    "oraby_factfeel_ensemble_de_bpe = vectorize(oraby_factfeel_bpe.dev, oraby_factfeel_ensemble_bpe_vect, 'dict')\n",
    "oraby_factfeel_ensemble_te_bpe = vectorize(oraby_factfeel_bpe.test, oraby_factfeel_ensemble_bpe_vect, 'dict')\n",
    "\n",
    "hoover_ensemble_bpe_vect = select_vectorizer('dict')\n",
    "hoover_ensemble_tr_bpe = vectorize(hoover_bpe.data, hoover_ensemble_bpe_vect, 'dict')\n",
    "hoover_ensemble_de_bpe = vectorize(hoover_bpe.dev, hoover_ensemble_bpe_vect, 'dict')\n",
    "hoover_ensemble_te_bpe = vectorize(hoover_bpe.test, hoover_ensemble_bpe_vect, 'dict')"
   ]
  },
  {
   "cell_type": "code",
   "execution_count": 27,
   "metadata": {},
   "outputs": [],
   "source": [
    "grid_search = {'penalty': ['l2', 'l1'], 'C': [0.1, 0.2, 0.3, 0.4, 0.5, 0.6, 0.7, 0.8, 0.9, 1.0]}\n",
    "davidson_ensemble_metrics_bpe = Metrics(['f1-score', 'accuracy', 'precision', 'recall'], 'f1-score')\n",
    "wulczyn_ensemble_metrics_bpe = Metrics(['f1-score', 'accuracy', 'precision', 'recall'], 'f1-score')\n",
    "waseem_ensemble_metrics_bpe = Metrics(['f1-score', 'accuracy', 'precision', 'recall'], 'f1-score')\n",
    "waseem_hovy_ensemble_metrics_bpe = Metrics(['f1-score', 'accuracy', 'precision', 'recall'], 'f1-score')\n",
    "oraby_sarcasm_ensemble_metrics_bpe = Metrics(['f1-score', 'accuracy', 'precision', 'recall'], 'f1-score')\n",
    "oraby_factfeel_ensemble_metrics_bpe = Metrics(['f1-score', 'accuracy', 'precision', 'recall'], 'f1-score')\n",
    "hoover_ensemble_metrics_bpe = Metrics(['f1-score', 'accuracy', 'precision', 'recall'], 'f1-score')"
   ]
  },
  {
   "cell_type": "code",
   "execution_count": 28,
   "metadata": {},
   "outputs": [
    {
     "name": "stderr",
     "output_type": "stream",
     "text": [
      "/Users/zeerakw/.virtualenvs/mtl/lib/python3.8/site-packages/sklearn/utils/validation.py:68: FutureWarning: Pass scoring=f1_macro as keyword args. From version 0.25 passing these as positional arguments will result in an error\n",
      "  warnings.warn(\"Pass {} as keyword args. From version 0.25 \"\n",
      "/Users/zeerakw/.virtualenvs/mtl/lib/python3.8/site-packages/sklearn/svm/_base.py:976: ConvergenceWarning: Liblinear failed to converge, increase the number of iterations.\n",
      "  warnings.warn(\"Liblinear failed to converge, increase \"\n",
      "/Users/zeerakw/.virtualenvs/mtl/lib/python3.8/site-packages/sklearn/utils/validation.py:68: FutureWarning: Pass scoring=f1_macro as keyword args. From version 0.25 passing these as positional arguments will result in an error\n",
      "  warnings.warn(\"Pass {} as keyword args. From version 0.25 \"\n"
     ]
    },
    {
     "name": "stdout",
     "output_type": "stream",
     "text": [
      "{'C': 0.2, 'penalty': 'l2'}\n",
      "{'mean_fit_time': array([18.34312882,  0.0358686 , 18.10254712,  0.04098105, 16.54497986,\n",
      "        0.03770423, 16.74513526,  0.04405651, 16.26372828,  0.04423418,\n",
      "       14.91031075,  0.04024143, 15.58093524,  0.03702993, 14.30964665,\n",
      "        0.03711805, 14.07926006,  0.04086337, 13.22344704,  0.03786292]), 'std_fit_time': array([0.72277652, 0.00476419, 0.43636205, 0.00991362, 0.44418092,\n",
      "       0.00947297, 0.58377108, 0.01971872, 0.46643294, 0.01126637,\n",
      "       0.56864651, 0.00836352, 1.34417944, 0.00593362, 0.98622413,\n",
      "       0.00546213, 0.86382472, 0.01937218, 3.07613221, 0.00735063]), 'mean_score_time': array([0.01438422, 0.        , 0.01821699, 0.        , 0.0101243 ,\n",
      "       0.        , 0.01566825, 0.        , 0.01396623, 0.        ,\n",
      "       0.01846595, 0.        , 0.01419034, 0.        , 0.01690154,\n",
      "       0.        , 0.01064782, 0.        , 0.01516294, 0.        ]), 'std_score_time': array([0.00281503, 0.        , 0.0063426 , 0.        , 0.00236304,\n",
      "       0.        , 0.00521429, 0.        , 0.00695872, 0.        ,\n",
      "       0.00620587, 0.        , 0.00675703, 0.        , 0.00783942,\n",
      "       0.        , 0.00318937, 0.        , 0.00789275, 0.        ]), 'param_C': masked_array(data=[0.1, 0.1, 0.2, 0.2, 0.3, 0.3, 0.4, 0.4, 0.5, 0.5, 0.6,\n",
      "                   0.6, 0.7, 0.7, 0.8, 0.8, 0.9, 0.9, 1.0, 1.0],\n",
      "             mask=[False, False, False, False, False, False, False, False,\n",
      "                   False, False, False, False, False, False, False, False,\n",
      "                   False, False, False, False],\n",
      "       fill_value='?',\n",
      "            dtype=object), 'param_penalty': masked_array(data=['l2', 'l1', 'l2', 'l1', 'l2', 'l1', 'l2', 'l1', 'l2',\n",
      "                   'l1', 'l2', 'l1', 'l2', 'l1', 'l2', 'l1', 'l2', 'l1',\n",
      "                   'l2', 'l1'],\n",
      "             mask=[False, False, False, False, False, False, False, False,\n",
      "                   False, False, False, False, False, False, False, False,\n",
      "                   False, False, False, False],\n",
      "       fill_value='?',\n",
      "            dtype=object), 'params': [{'C': 0.1, 'penalty': 'l2'}, {'C': 0.1, 'penalty': 'l1'}, {'C': 0.2, 'penalty': 'l2'}, {'C': 0.2, 'penalty': 'l1'}, {'C': 0.3, 'penalty': 'l2'}, {'C': 0.3, 'penalty': 'l1'}, {'C': 0.4, 'penalty': 'l2'}, {'C': 0.4, 'penalty': 'l1'}, {'C': 0.5, 'penalty': 'l2'}, {'C': 0.5, 'penalty': 'l1'}, {'C': 0.6, 'penalty': 'l2'}, {'C': 0.6, 'penalty': 'l1'}, {'C': 0.7, 'penalty': 'l2'}, {'C': 0.7, 'penalty': 'l1'}, {'C': 0.8, 'penalty': 'l2'}, {'C': 0.8, 'penalty': 'l1'}, {'C': 0.9, 'penalty': 'l2'}, {'C': 0.9, 'penalty': 'l1'}, {'C': 1.0, 'penalty': 'l2'}, {'C': 1.0, 'penalty': 'l1'}], 'split0_test_score': array([0.71668152,        nan, 0.71337138,        nan, 0.70627799,\n",
      "              nan, 0.70367698,        nan, 0.69912448,        nan,\n",
      "       0.69514122,        nan, 0.69265265,        nan, 0.69188516,\n",
      "              nan, 0.69156582,        nan, 0.69170548,        nan]), 'split1_test_score': array([0.69808095,        nan, 0.70563287,        nan, 0.69630038,\n",
      "              nan, 0.6958061 ,        nan, 0.6926106 ,        nan,\n",
      "       0.69067749,        nan, 0.68831391,        nan, 0.68564297,\n",
      "              nan, 0.680911  ,        nan, 0.68056959,        nan]), 'split2_test_score': array([0.69808153,        nan, 0.69787394,        nan, 0.70198728,\n",
      "              nan, 0.70202678,        nan, 0.69643396,        nan,\n",
      "       0.69433879,        nan, 0.68990516,        nan, 0.6918619 ,\n",
      "              nan, 0.69159619,        nan, 0.68989784,        nan]), 'split3_test_score': array([0.70512119,        nan, 0.71019542,        nan, 0.70618076,\n",
      "              nan, 0.70265856,        nan, 0.70345322,        nan,\n",
      "       0.70021633,        nan, 0.69786943,        nan, 0.69851163,\n",
      "              nan, 0.7019686 ,        nan, 0.69691007,        nan]), 'split4_test_score': array([0.69032859,        nan, 0.69420209,        nan, 0.69190634,\n",
      "              nan, 0.69187089,        nan, 0.69080323,        nan,\n",
      "       0.69228418,        nan, 0.69452775,        nan, 0.6991229 ,\n",
      "              nan, 0.69843936,        nan, 0.69955371,        nan]), 'mean_test_score': array([0.70165876,        nan, 0.70425514,        nan, 0.70053055,\n",
      "              nan, 0.69920786,        nan, 0.6964851 ,        nan,\n",
      "       0.6945316 ,        nan, 0.69265378,        nan, 0.69340491,\n",
      "              nan, 0.69289619,        nan, 0.69172734,        nan]), 'std_test_score': array([0.00885033,        nan, 0.00723981,        nan, 0.00564538,\n",
      "              nan, 0.00458759,        nan, 0.00453473,        nan,\n",
      "       0.00324438,        nan, 0.00337947,        nan, 0.00497418,\n",
      "              nan, 0.00721304,        nan, 0.006572  ,        nan]), 'rank_test_score': array([ 2, 18,  1, 17,  3, 16,  4, 15,  5, 14,  6, 19,  9, 13,  7, 12,  8,\n",
      "       11, 10, 20], dtype=int32)}\n",
      "0.7122534972614742\n"
     ]
    },
    {
     "name": "stderr",
     "output_type": "stream",
     "text": [
      "/Users/zeerakw/.virtualenvs/mtl/lib/python3.8/site-packages/sklearn/svm/_base.py:976: ConvergenceWarning: Liblinear failed to converge, increase the number of iterations.\n",
      "  warnings.warn(\"Liblinear failed to converge, increase \"\n",
      "/Users/zeerakw/.virtualenvs/mtl/lib/python3.8/site-packages/sklearn/utils/validation.py:68: FutureWarning: Pass scoring=f1_macro as keyword args. From version 0.25 passing these as positional arguments will result in an error\n",
      "  warnings.warn(\"Pass {} as keyword args. From version 0.25 \"\n"
     ]
    },
    {
     "name": "stdout",
     "output_type": "stream",
     "text": [
      "{'C': 0.1, 'penalty': 'l2'}\n",
      "{'mean_fit_time': array([40.98641376,  0.35224195, 38.38948841,  0.32494707, 41.32799592,\n",
      "        0.38122439, 59.39116926,  0.59649606, 51.3167325 ,  0.35279527,\n",
      "       44.57777486,  0.41447296, 56.32493563,  0.33923974, 64.55004959,\n",
      "        0.43928156, 46.18717618,  0.46907821, 39.65747242,  0.3639668 ]), 'std_fit_time': array([1.09361407, 0.02092041, 0.51550739, 0.02824659, 2.87353278,\n",
      "       0.08734314, 8.18270332, 0.16368749, 5.77390944, 0.06668079,\n",
      "       3.8257028 , 0.08200626, 6.43468776, 0.07858846, 1.94103981,\n",
      "       0.10092275, 0.47259923, 0.0517796 , 7.57258609, 0.06014593]), 'mean_score_time': array([0.06328039, 0.        , 0.05927238, 0.        , 0.09384627,\n",
      "       0.        , 0.12936873, 0.        , 0.07632408, 0.        ,\n",
      "       0.08968706, 0.        , 0.09216232, 0.        , 0.06253033,\n",
      "       0.        , 0.07403579, 0.        , 0.0797749 , 0.        ]), 'std_score_time': array([0.00991145, 0.        , 0.01031468, 0.        , 0.07407959,\n",
      "       0.        , 0.07299881, 0.        , 0.01896437, 0.        ,\n",
      "       0.04046503, 0.        , 0.07051823, 0.        , 0.0226968 ,\n",
      "       0.        , 0.01495914, 0.        , 0.02439613, 0.        ]), 'param_C': masked_array(data=[0.1, 0.1, 0.2, 0.2, 0.3, 0.3, 0.4, 0.4, 0.5, 0.5, 0.6,\n",
      "                   0.6, 0.7, 0.7, 0.8, 0.8, 0.9, 0.9, 1.0, 1.0],\n",
      "             mask=[False, False, False, False, False, False, False, False,\n",
      "                   False, False, False, False, False, False, False, False,\n",
      "                   False, False, False, False],\n",
      "       fill_value='?',\n",
      "            dtype=object), 'param_penalty': masked_array(data=['l2', 'l1', 'l2', 'l1', 'l2', 'l1', 'l2', 'l1', 'l2',\n",
      "                   'l1', 'l2', 'l1', 'l2', 'l1', 'l2', 'l1', 'l2', 'l1',\n",
      "                   'l2', 'l1'],\n",
      "             mask=[False, False, False, False, False, False, False, False,\n",
      "                   False, False, False, False, False, False, False, False,\n",
      "                   False, False, False, False],\n",
      "       fill_value='?',\n",
      "            dtype=object), 'params': [{'C': 0.1, 'penalty': 'l2'}, {'C': 0.1, 'penalty': 'l1'}, {'C': 0.2, 'penalty': 'l2'}, {'C': 0.2, 'penalty': 'l1'}, {'C': 0.3, 'penalty': 'l2'}, {'C': 0.3, 'penalty': 'l1'}, {'C': 0.4, 'penalty': 'l2'}, {'C': 0.4, 'penalty': 'l1'}, {'C': 0.5, 'penalty': 'l2'}, {'C': 0.5, 'penalty': 'l1'}, {'C': 0.6, 'penalty': 'l2'}, {'C': 0.6, 'penalty': 'l1'}, {'C': 0.7, 'penalty': 'l2'}, {'C': 0.7, 'penalty': 'l1'}, {'C': 0.8, 'penalty': 'l2'}, {'C': 0.8, 'penalty': 'l1'}, {'C': 0.9, 'penalty': 'l2'}, {'C': 0.9, 'penalty': 'l1'}, {'C': 1.0, 'penalty': 'l2'}, {'C': 1.0, 'penalty': 'l1'}], 'split0_test_score': array([0.85862195,        nan, 0.85894553,        nan, 0.85709892,\n",
      "              nan, 0.85547568,        nan, 0.85530365,        nan,\n",
      "       0.85408567,        nan, 0.85355551,        nan, 0.85326272,\n",
      "              nan, 0.85181987,        nan, 0.84974383,        nan]), 'split1_test_score': array([0.86361167,        nan, 0.86305487,        nan, 0.86338041,\n",
      "              nan, 0.86267276,        nan, 0.86054979,        nan,\n",
      "       0.85970482,        nan, 0.85827518,        nan, 0.85673572,\n",
      "              nan, 0.85713967,        nan, 0.85572821,        nan]), 'split2_test_score': array([0.87521654,        nan, 0.87465639,        nan, 0.87287279,\n",
      "              nan, 0.87228348,        nan, 0.87026893,        nan,\n",
      "       0.87022715,        nan, 0.86769879,        nan, 0.86582423,\n",
      "              nan, 0.86437015,        nan, 0.86388533,        nan]), 'split3_test_score': array([0.86727732,        nan, 0.86701961,        nan, 0.86629618,\n",
      "              nan, 0.86570441,        nan, 0.86357546,        nan,\n",
      "       0.86434963,        nan, 0.86319732,        nan, 0.86244487,\n",
      "              nan, 0.86268416,        nan, 0.86249902,        nan]), 'split4_test_score': array([0.86268613,        nan, 0.86297113,        nan, 0.86419602,\n",
      "              nan, 0.864768  ,        nan, 0.86489026,        nan,\n",
      "       0.8632866 ,        nan, 0.86299439,        nan, 0.86313532,\n",
      "              nan, 0.86239133,        nan, 0.86123057,        nan]), 'mean_test_score': array([0.86548272,        nan, 0.86532951,        nan, 0.86476886,\n",
      "              nan, 0.86418087,        nan, 0.86291762,        nan,\n",
      "       0.86233077,        nan, 0.86114424,        nan, 0.86028057,\n",
      "              nan, 0.85968104,        nan, 0.85861739,        nan]), 'std_test_score': array([0.00559214,        nan, 0.00531673,        nan, 0.00508115,\n",
      "              nan, 0.0054106 ,        nan, 0.00493852,        nan,\n",
      "       0.00533328,        nan, 0.00482536,        nan, 0.00459091,\n",
      "              nan, 0.00461755,        nan, 0.00522942,        nan]), 'rank_test_score': array([ 1, 18,  2, 17,  3, 16,  4, 15,  5, 14,  6, 19,  7, 13,  8, 12,  9,\n",
      "       11, 10, 20], dtype=int32)}\n",
      "0.8661125921766997\n"
     ]
    },
    {
     "name": "stderr",
     "output_type": "stream",
     "text": [
      "/Users/zeerakw/.virtualenvs/mtl/lib/python3.8/site-packages/sklearn/svm/_base.py:976: ConvergenceWarning: Liblinear failed to converge, increase the number of iterations.\n",
      "  warnings.warn(\"Liblinear failed to converge, increase \"\n",
      "/Users/zeerakw/.virtualenvs/mtl/lib/python3.8/site-packages/sklearn/utils/validation.py:68: FutureWarning: Pass scoring=f1_macro as keyword args. From version 0.25 passing these as positional arguments will result in an error\n",
      "  warnings.warn(\"Pass {} as keyword args. From version 0.25 \"\n"
     ]
    },
    {
     "name": "stdout",
     "output_type": "stream",
     "text": [
      "{'C': 0.7, 'penalty': 'l2'}\n",
      "{'mean_fit_time': array([1.3401361 , 0.01057439, 1.70602593, 0.01316895, 2.31351018,\n",
      "       0.00789852, 2.70546608, 0.01278   , 2.49619007, 0.01289477,\n",
      "       2.75268936, 0.01263342, 2.53998919, 0.02669792, 2.6152494 ,\n",
      "       0.0198626 , 2.64963479, 0.01518421, 2.71759357, 0.01998296]), 'std_fit_time': array([0.11985454, 0.00480437, 0.12645751, 0.00729632, 0.32894664,\n",
      "       0.00290581, 0.20759325, 0.00678382, 0.15913875, 0.00648274,\n",
      "       0.16155683, 0.00339661, 0.22442123, 0.01938575, 0.16321424,\n",
      "       0.00809528, 0.18612744, 0.00822035, 0.54889736, 0.01234854]), 'mean_score_time': array([0.00427117, 0.        , 0.01132984, 0.        , 0.00897093,\n",
      "       0.        , 0.0073195 , 0.        , 0.00384302, 0.        ,\n",
      "       0.00594144, 0.        , 0.00700107, 0.        , 0.00784898,\n",
      "       0.        , 0.0116076 , 0.        , 0.00497384, 0.        ]), 'std_score_time': array([0.00087109, 0.        , 0.00571801, 0.        , 0.00858517,\n",
      "       0.        , 0.00304934, 0.        , 0.0008743 , 0.        ,\n",
      "       0.00321845, 0.        , 0.00435227, 0.        , 0.00471483,\n",
      "       0.        , 0.01210741, 0.        , 0.00286802, 0.        ]), 'param_C': masked_array(data=[0.1, 0.1, 0.2, 0.2, 0.3, 0.3, 0.4, 0.4, 0.5, 0.5, 0.6,\n",
      "                   0.6, 0.7, 0.7, 0.8, 0.8, 0.9, 0.9, 1.0, 1.0],\n",
      "             mask=[False, False, False, False, False, False, False, False,\n",
      "                   False, False, False, False, False, False, False, False,\n",
      "                   False, False, False, False],\n",
      "       fill_value='?',\n",
      "            dtype=object), 'param_penalty': masked_array(data=['l2', 'l1', 'l2', 'l1', 'l2', 'l1', 'l2', 'l1', 'l2',\n",
      "                   'l1', 'l2', 'l1', 'l2', 'l1', 'l2', 'l1', 'l2', 'l1',\n",
      "                   'l2', 'l1'],\n",
      "             mask=[False, False, False, False, False, False, False, False,\n",
      "                   False, False, False, False, False, False, False, False,\n",
      "                   False, False, False, False],\n",
      "       fill_value='?',\n",
      "            dtype=object), 'params': [{'C': 0.1, 'penalty': 'l2'}, {'C': 0.1, 'penalty': 'l1'}, {'C': 0.2, 'penalty': 'l2'}, {'C': 0.2, 'penalty': 'l1'}, {'C': 0.3, 'penalty': 'l2'}, {'C': 0.3, 'penalty': 'l1'}, {'C': 0.4, 'penalty': 'l2'}, {'C': 0.4, 'penalty': 'l1'}, {'C': 0.5, 'penalty': 'l2'}, {'C': 0.5, 'penalty': 'l1'}, {'C': 0.6, 'penalty': 'l2'}, {'C': 0.6, 'penalty': 'l1'}, {'C': 0.7, 'penalty': 'l2'}, {'C': 0.7, 'penalty': 'l1'}, {'C': 0.8, 'penalty': 'l2'}, {'C': 0.8, 'penalty': 'l1'}, {'C': 0.9, 'penalty': 'l2'}, {'C': 0.9, 'penalty': 'l1'}, {'C': 1.0, 'penalty': 'l2'}, {'C': 1.0, 'penalty': 'l1'}], 'split0_test_score': array([0.53463913,        nan, 0.53250983,        nan, 0.53002943,\n",
      "              nan, 0.5201843 ,        nan, 0.51642222,        nan,\n",
      "       0.51446722,        nan, 0.51381367,        nan, 0.51381367,\n",
      "              nan, 0.51057791,        nan, 0.50863943,        nan]), 'split1_test_score': array([0.49149088,        nan, 0.48389217,        nan, 0.48468725,\n",
      "              nan, 0.48327674,        nan, 0.47546326,        nan,\n",
      "       0.53157755,        nan, 0.57097839,        nan, 0.52494048,\n",
      "              nan, 0.56802491,        nan, 0.56881615,        nan]), 'split2_test_score': array([0.49176269,        nan, 0.4939904 ,        nan, 0.48447195,\n",
      "              nan, 0.48213719,        nan, 0.48213719,        nan,\n",
      "       0.51326295,        nan, 0.51025948,        nan, 0.50869325,\n",
      "              nan, 0.50869325,        nan, 0.50791737,        nan]), 'split3_test_score': array([0.45382819,        nan, 0.4702759 ,        nan, 0.46956478,\n",
      "              nan, 0.55906906,        nan, 0.55767083,        nan,\n",
      "       0.55486848,        nan, 0.58701937,        nan, 0.5831204 ,\n",
      "              nan, 0.58170375,        nan, 0.58170375,        nan]), 'split4_test_score': array([0.55946866,        nan, 0.5578105 ,        nan, 0.55184522,\n",
      "              nan, 0.60989851,        nan, 0.58158134,        nan,\n",
      "       0.57672683,        nan, 0.62131417,        nan, 0.57262642,\n",
      "              nan, 0.59951157,        nan, 0.5697284 ,        nan]), 'mean_test_score': array([0.50623791,        nan, 0.50769576,        nan, 0.50411973,\n",
      "              nan, 0.53091316,        nan, 0.52265497,        nan,\n",
      "       0.53818061,        nan, 0.56067701,        nan, 0.54063884,\n",
      "              nan, 0.55370228,        nan, 0.54736102,        nan]), 'std_test_score': array([0.03691592,        nan, 0.03250206,        nan, 0.03132646,\n",
      "              nan, 0.04856927,        nan, 0.0414874 ,        nan,\n",
      "       0.02445858,        nan, 0.04293018,        nan, 0.03103043,\n",
      "              nan, 0.03734498,        nan, 0.03223417,        nan]), 'rank_test_score': array([ 9, 18,  8, 17, 10, 16,  6, 15,  7, 14,  5, 19,  1, 13,  4, 12,  2,\n",
      "       11,  3, 20], dtype=int32)}\n",
      "0.4735361698756042\n",
      "{'C': 0.1, 'penalty': 'l2'}\n",
      "{'mean_fit_time': array([ 3.82073402,  0.02837944,  4.93243637,  0.02474599,  6.93619351,\n",
      "        0.03784132,  8.65119586,  0.02902589, 11.3104219 ,  0.04166965,\n",
      "       11.28622141,  0.03073797, 12.73567901,  0.02206283, 12.35289779,\n",
      "        0.02543616, 11.78070292,  0.03097582, 10.2740015 ,  0.03396025]), 'std_fit_time': array([0.4680533 , 0.01178057, 0.25105602, 0.00484117, 0.31822713,\n",
      "       0.01751153, 0.21179386, 0.01007557, 0.76731661, 0.01694852,\n",
      "       0.38863133, 0.00771276, 0.68111299, 0.00395891, 0.40833211,\n",
      "       0.00843176, 0.52122674, 0.00795371, 1.15038441, 0.01457567]), 'mean_score_time': array([0.01340752, 0.        , 0.01268306, 0.        , 0.0202096 ,\n",
      "       0.        , 0.01318855, 0.        , 0.0138607 , 0.        ,\n",
      "       0.02106104, 0.        , 0.01096892, 0.        , 0.01224637,\n",
      "       0.        , 0.01063223, 0.        , 0.00657544, 0.        ]), 'std_score_time': array([0.00590469, 0.        , 0.00717859, 0.        , 0.01110306,\n",
      "       0.        , 0.00664292, 0.        , 0.00477462, 0.        ,\n",
      "       0.02683652, 0.        , 0.00545737, 0.        , 0.00701866,\n",
      "       0.        , 0.00651773, 0.        , 0.00211347, 0.        ]), 'param_C': masked_array(data=[0.1, 0.1, 0.2, 0.2, 0.3, 0.3, 0.4, 0.4, 0.5, 0.5, 0.6,\n",
      "                   0.6, 0.7, 0.7, 0.8, 0.8, 0.9, 0.9, 1.0, 1.0],\n",
      "             mask=[False, False, False, False, False, False, False, False,\n",
      "                   False, False, False, False, False, False, False, False,\n",
      "                   False, False, False, False],\n",
      "       fill_value='?',\n",
      "            dtype=object), 'param_penalty': masked_array(data=['l2', 'l1', 'l2', 'l1', 'l2', 'l1', 'l2', 'l1', 'l2',\n",
      "                   'l1', 'l2', 'l1', 'l2', 'l1', 'l2', 'l1', 'l2', 'l1',\n",
      "                   'l2', 'l1'],\n",
      "             mask=[False, False, False, False, False, False, False, False,\n",
      "                   False, False, False, False, False, False, False, False,\n",
      "                   False, False, False, False],\n",
      "       fill_value='?',\n",
      "            dtype=object), 'params': [{'C': 0.1, 'penalty': 'l2'}, {'C': 0.1, 'penalty': 'l1'}, {'C': 0.2, 'penalty': 'l2'}, {'C': 0.2, 'penalty': 'l1'}, {'C': 0.3, 'penalty': 'l2'}, {'C': 0.3, 'penalty': 'l1'}, {'C': 0.4, 'penalty': 'l2'}, {'C': 0.4, 'penalty': 'l1'}, {'C': 0.5, 'penalty': 'l2'}, {'C': 0.5, 'penalty': 'l1'}, {'C': 0.6, 'penalty': 'l2'}, {'C': 0.6, 'penalty': 'l1'}, {'C': 0.7, 'penalty': 'l2'}, {'C': 0.7, 'penalty': 'l1'}, {'C': 0.8, 'penalty': 'l2'}, {'C': 0.8, 'penalty': 'l1'}, {'C': 0.9, 'penalty': 'l2'}, {'C': 0.9, 'penalty': 'l1'}, {'C': 1.0, 'penalty': 'l2'}, {'C': 1.0, 'penalty': 'l1'}], 'split0_test_score': array([0.78834568,        nan, 0.78018672,        nan, 0.77736672,\n",
      "              nan, 0.77438483,        nan, 0.7694294 ,        nan,\n",
      "       0.76861021,        nan, 0.7643651 ,        nan, 0.76373203,\n",
      "              nan, 0.75921508,        nan, 0.75992651,        nan]), 'split1_test_score': array([0.77839248,        nan, 0.77741206,        nan, 0.77221072,\n",
      "              nan, 0.76809826,        nan, 0.76322398,        nan,\n",
      "       0.76520562,        nan, 0.76107739,        nan, 0.7606341 ,\n",
      "              nan, 0.75950523,        nan, 0.75791541,        nan]), 'split2_test_score': array([0.76935667,        nan, 0.76896174,        nan, 0.76433736,\n",
      "              nan, 0.76085756,        nan, 0.75878276,        nan,\n",
      "       0.75488161,        nan, 0.75308211,        nan, 0.75087659,\n",
      "              nan, 0.74844806,        nan, 0.74807971,        nan]), 'split3_test_score': array([0.80287889,        nan, 0.79938106,        nan, 0.79707422,\n",
      "              nan, 0.78992385,        nan, 0.78655768,        nan,\n",
      "       0.7843955 ,        nan, 0.78388239,        nan, 0.78125062,\n",
      "              nan, 0.78156585,        nan, 0.78082503,        nan]), 'split4_test_score': array([0.78647311,        nan, 0.78293244,        nan, 0.7770336 ,\n",
      "              nan, 0.77401486,        nan, 0.77139055,        nan,\n",
      "       0.76581678,        nan, 0.76465862,        nan, 0.76384755,\n",
      "              nan, 0.76099517,        nan, 0.76242831,        nan]), 'mean_test_score': array([0.78508937,        nan, 0.78177481,        nan, 0.77760452,\n",
      "              nan, 0.77345587,        nan, 0.76987688,        nan,\n",
      "       0.76778195,        nan, 0.76541312,        nan, 0.76406818,\n",
      "              nan, 0.76194588,        nan, 0.761835  ,        nan]), 'std_test_score': array([0.01114766,        nan, 0.00997046,        nan, 0.01081261,\n",
      "              nan, 0.00958949,        nan, 0.00946659,        nan,\n",
      "       0.00952485,        nan, 0.01013542,        nan, 0.00981029,\n",
      "              nan, 0.0107838 ,        nan, 0.01066946,        nan]), 'rank_test_score': array([ 1, 18,  2, 17,  3, 16,  4, 15,  5, 14,  6, 19,  7, 13,  8, 12,  9,\n",
      "       11, 10, 20], dtype=int32)}\n",
      "0.7949492625821128\n"
     ]
    },
    {
     "name": "stderr",
     "output_type": "stream",
     "text": [
      "/Users/zeerakw/.virtualenvs/mtl/lib/python3.8/site-packages/sklearn/utils/validation.py:68: FutureWarning: Pass scoring=f1_macro as keyword args. From version 0.25 passing these as positional arguments will result in an error\n",
      "  warnings.warn(\"Pass {} as keyword args. From version 0.25 \"\n"
     ]
    },
    {
     "name": "stdout",
     "output_type": "stream",
     "text": [
      "{'C': 0.1, 'penalty': 'l2'}\n",
      "{'mean_fit_time': array([3.47740479, 0.02514682, 5.09941201, 0.02272897, 5.26017942,\n",
      "       0.02990451, 5.19005828, 0.02861223, 5.40120735, 0.01978874,\n",
      "       4.80489597, 0.01834388, 4.63162122, 0.02018867, 4.56380849,\n",
      "       0.02093811, 4.68187785, 0.01589489, 4.80463076, 0.0223598 ]), 'std_fit_time': array([0.54925158, 0.01330062, 0.20688678, 0.00465598, 0.25027343,\n",
      "       0.01447299, 0.24791618, 0.0257264 , 0.32532648, 0.00622378,\n",
      "       0.21810309, 0.0052147 , 0.3676677 , 0.00725772, 0.13182352,\n",
      "       0.01109749, 0.12903366, 0.00446137, 0.78088746, 0.00595513]), 'mean_score_time': array([0.00608358, 0.        , 0.00798254, 0.        , 0.0049469 ,\n",
      "       0.        , 0.00610738, 0.        , 0.00700145, 0.        ,\n",
      "       0.00634937, 0.        , 0.00817637, 0.        , 0.00916538,\n",
      "       0.        , 0.00648618, 0.        , 0.00952005, 0.        ]), 'std_score_time': array([0.00512415, 0.        , 0.00430441, 0.        , 0.00145561,\n",
      "       0.        , 0.0015903 , 0.        , 0.00534579, 0.        ,\n",
      "       0.00361977, 0.        , 0.00525985, 0.        , 0.00636471,\n",
      "       0.        , 0.00297423, 0.        , 0.00718323, 0.        ]), 'param_C': masked_array(data=[0.1, 0.1, 0.2, 0.2, 0.3, 0.3, 0.4, 0.4, 0.5, 0.5, 0.6,\n",
      "                   0.6, 0.7, 0.7, 0.8, 0.8, 0.9, 0.9, 1.0, 1.0],\n",
      "             mask=[False, False, False, False, False, False, False, False,\n",
      "                   False, False, False, False, False, False, False, False,\n",
      "                   False, False, False, False],\n",
      "       fill_value='?',\n",
      "            dtype=object), 'param_penalty': masked_array(data=['l2', 'l1', 'l2', 'l1', 'l2', 'l1', 'l2', 'l1', 'l2',\n",
      "                   'l1', 'l2', 'l1', 'l2', 'l1', 'l2', 'l1', 'l2', 'l1',\n",
      "                   'l2', 'l1'],\n",
      "             mask=[False, False, False, False, False, False, False, False,\n",
      "                   False, False, False, False, False, False, False, False,\n",
      "                   False, False, False, False],\n",
      "       fill_value='?',\n",
      "            dtype=object), 'params': [{'C': 0.1, 'penalty': 'l2'}, {'C': 0.1, 'penalty': 'l1'}, {'C': 0.2, 'penalty': 'l2'}, {'C': 0.2, 'penalty': 'l1'}, {'C': 0.3, 'penalty': 'l2'}, {'C': 0.3, 'penalty': 'l1'}, {'C': 0.4, 'penalty': 'l2'}, {'C': 0.4, 'penalty': 'l1'}, {'C': 0.5, 'penalty': 'l2'}, {'C': 0.5, 'penalty': 'l1'}, {'C': 0.6, 'penalty': 'l2'}, {'C': 0.6, 'penalty': 'l1'}, {'C': 0.7, 'penalty': 'l2'}, {'C': 0.7, 'penalty': 'l1'}, {'C': 0.8, 'penalty': 'l2'}, {'C': 0.8, 'penalty': 'l1'}, {'C': 0.9, 'penalty': 'l2'}, {'C': 0.9, 'penalty': 'l1'}, {'C': 1.0, 'penalty': 'l2'}, {'C': 1.0, 'penalty': 'l1'}], 'split0_test_score': array([0.72498928,        nan, 0.71702274,        nan, 0.71637012,\n",
      "              nan, 0.71437462,        nan, 0.70904827,        nan,\n",
      "       0.70838416,        nan, 0.70705258,        nan, 0.71105142,\n",
      "              nan, 0.71104988,        nan, 0.71238298,        nan]), 'split1_test_score': array([0.72968176,        nan, 0.71770922,        nan, 0.71570923,\n",
      "              nan, 0.7123789 ,        nan, 0.70771669,        nan,\n",
      "       0.70770736,        nan, 0.70505665,        nan, 0.70105875,\n",
      "              nan, 0.70105451,        nan, 0.7017178 ,        nan]), 'split2_test_score': array([0.70173103,        nan, 0.69238339,        nan, 0.68973325,\n",
      "              nan, 0.6837313 ,        nan, 0.68108495,        nan,\n",
      "       0.68241654,        nan, 0.67974314,        nan, 0.68173001,\n",
      "              nan, 0.67971929,        nan, 0.67707301,        nan]), 'split3_test_score': array([0.70419602,        nan, 0.69287142,        nan, 0.69020653,\n",
      "              nan, 0.68820662,        nan, 0.68420702,        nan,\n",
      "       0.68220678,        nan, 0.68087431,        nan, 0.67954469,\n",
      "              nan, 0.68020964,        nan, 0.67820938,        nan]), 'split4_test_score': array([0.71146366,        nan, 0.70283508,        nan, 0.7021795 ,\n",
      "              nan, 0.69617974,        nan, 0.69483961,        nan,\n",
      "       0.69017958,        nan, 0.69151926,        nan, 0.69153021,\n",
      "              nan, 0.69153021,        nan, 0.68886911,        nan]), 'mean_test_score': array([0.71441235,        nan, 0.70456437,        nan, 0.70283973,\n",
      "              nan, 0.69897424,        nan, 0.69537931,        nan,\n",
      "       0.69417888,        nan, 0.69284919,        nan, 0.69298302,\n",
      "              nan, 0.69271271,        nan, 0.69165046,        nan]), 'std_test_score': array([0.01112574,        nan, 0.01110036,        nan, 0.01166627,\n",
      "              nan, 0.01243346,        nan, 0.0115628 ,        nan,\n",
      "       0.01168322,        nan, 0.01155589,        nan, 0.01184073,\n",
      "              nan, 0.01210282,        nan, 0.01365349,        nan]), 'rank_test_score': array([ 1, 18,  2, 17,  3, 16,  4, 15,  5, 14,  6, 19,  8, 13,  7, 12,  9,\n",
      "       11, 10, 20], dtype=int32)}\n",
      "0.7313420621931259\n"
     ]
    },
    {
     "name": "stderr",
     "output_type": "stream",
     "text": [
      "/Users/zeerakw/.virtualenvs/mtl/lib/python3.8/site-packages/sklearn/utils/validation.py:68: FutureWarning: Pass scoring=f1_macro as keyword args. From version 0.25 passing these as positional arguments will result in an error\n",
      "  warnings.warn(\"Pass {} as keyword args. From version 0.25 \"\n",
      "/Users/zeerakw/.virtualenvs/mtl/lib/python3.8/site-packages/sklearn/svm/_base.py:976: ConvergenceWarning: Liblinear failed to converge, increase the number of iterations.\n",
      "  warnings.warn(\"Liblinear failed to converge, increase \"\n",
      "/Users/zeerakw/.virtualenvs/mtl/lib/python3.8/site-packages/sklearn/utils/validation.py:68: FutureWarning: Pass scoring=f1_macro as keyword args. From version 0.25 passing these as positional arguments will result in an error\n",
      "  warnings.warn(\"Pass {} as keyword args. From version 0.25 \"\n"
     ]
    },
    {
     "name": "stdout",
     "output_type": "stream",
     "text": [
      "{'C': 0.1, 'penalty': 'l2'}\n",
      "{'mean_fit_time': array([5.59000077, 0.02255635, 5.07571306, 0.02818694, 5.62914305,\n",
      "       0.01868176, 5.4807333 , 0.02764387, 5.35579014, 0.02006836,\n",
      "       6.34782462, 0.03740726, 6.46113119, 0.02059879, 4.99326277,\n",
      "       0.01832771, 5.14000797, 0.02087131, 4.39990048, 0.03115444]), 'std_fit_time': array([0.36457046, 0.00326995, 0.31372987, 0.01200398, 0.17483111,\n",
      "       0.00718445, 0.14227142, 0.00765953, 0.08710858, 0.00500694,\n",
      "       1.16599375, 0.01825764, 1.04169413, 0.00716654, 0.28013817,\n",
      "       0.00375059, 0.14709906, 0.00417787, 0.85253257, 0.00983682]), 'mean_score_time': array([0.00836644, 0.        , 0.00607581, 0.        , 0.01044397,\n",
      "       0.        , 0.00641208, 0.        , 0.01012063, 0.        ,\n",
      "       0.0084156 , 0.        , 0.00928321, 0.        , 0.00624275,\n",
      "       0.        , 0.00905318, 0.        , 0.00809865, 0.        ]), 'std_score_time': array([0.00368597, 0.        , 0.00198275, 0.        , 0.00232154,\n",
      "       0.        , 0.00259253, 0.        , 0.0075943 , 0.        ,\n",
      "       0.00309453, 0.        , 0.00586203, 0.        , 0.00236098,\n",
      "       0.        , 0.00400837, 0.        , 0.00297096, 0.        ]), 'param_C': masked_array(data=[0.1, 0.1, 0.2, 0.2, 0.3, 0.3, 0.4, 0.4, 0.5, 0.5, 0.6,\n",
      "                   0.6, 0.7, 0.7, 0.8, 0.8, 0.9, 0.9, 1.0, 1.0],\n",
      "             mask=[False, False, False, False, False, False, False, False,\n",
      "                   False, False, False, False, False, False, False, False,\n",
      "                   False, False, False, False],\n",
      "       fill_value='?',\n",
      "            dtype=object), 'param_penalty': masked_array(data=['l2', 'l1', 'l2', 'l1', 'l2', 'l1', 'l2', 'l1', 'l2',\n",
      "                   'l1', 'l2', 'l1', 'l2', 'l1', 'l2', 'l1', 'l2', 'l1',\n",
      "                   'l2', 'l1'],\n",
      "             mask=[False, False, False, False, False, False, False, False,\n",
      "                   False, False, False, False, False, False, False, False,\n",
      "                   False, False, False, False],\n",
      "       fill_value='?',\n",
      "            dtype=object), 'params': [{'C': 0.1, 'penalty': 'l2'}, {'C': 0.1, 'penalty': 'l1'}, {'C': 0.2, 'penalty': 'l2'}, {'C': 0.2, 'penalty': 'l1'}, {'C': 0.3, 'penalty': 'l2'}, {'C': 0.3, 'penalty': 'l1'}, {'C': 0.4, 'penalty': 'l2'}, {'C': 0.4, 'penalty': 'l1'}, {'C': 0.5, 'penalty': 'l2'}, {'C': 0.5, 'penalty': 'l1'}, {'C': 0.6, 'penalty': 'l2'}, {'C': 0.6, 'penalty': 'l1'}, {'C': 0.7, 'penalty': 'l2'}, {'C': 0.7, 'penalty': 'l1'}, {'C': 0.8, 'penalty': 'l2'}, {'C': 0.8, 'penalty': 'l1'}, {'C': 0.9, 'penalty': 'l2'}, {'C': 0.9, 'penalty': 'l1'}, {'C': 1.0, 'penalty': 'l2'}, {'C': 1.0, 'penalty': 'l1'}], 'split0_test_score': array([0.85822111,        nan, 0.85453854,        nan, 0.85331102,\n",
      "              nan, 0.84860517,        nan, 0.84795837,        nan,\n",
      "       0.84911696,        nan, 0.8490489 ,        nan, 0.85085597,\n",
      "              nan, 0.85395788,        nan, 0.85201609,        nan]), 'split1_test_score': array([0.75951686,        nan, 0.7622568 ,        nan, 0.76351125,\n",
      "              nan, 0.76419356,        nan, 0.76533526,        nan,\n",
      "       0.76470866,        nan, 0.76527929,        nan, 0.76533526,\n",
      "              nan, 0.76413799,        nan, 0.76413799,        nan]), 'split2_test_score': array([0.75989209,        nan, 0.75488492,        nan, 0.75246403,\n",
      "              nan, 0.74956756,        nan, 0.74593811,        nan,\n",
      "       0.74706086,        nan, 0.74520136,        nan, 0.74334104,\n",
      "              nan, 0.74157003,        nan, 0.74006573,        nan]), 'split3_test_score': array([0.77960923,        nan, 0.77784438,        nan, 0.77740128,\n",
      "              nan, 0.77459121,        nan, 0.77086544,        nan,\n",
      "       0.76950196,        nan, 0.76801249,        nan, 0.76813634,\n",
      "              nan, 0.76881942,        nan, 0.76813634,        nan]), 'split4_test_score': array([0.77367596,        nan, 0.76577994,        nan, 0.76450701,\n",
      "              nan, 0.76171821,        nan, 0.76116101,        nan,\n",
      "       0.75917653,        nan, 0.75989059,        nan, 0.75719057,\n",
      "              nan, 0.7549688 ,        nan, 0.75679398,        nan]), 'mean_test_score': array([0.78618305,        nan, 0.78306092,        nan, 0.78223892,\n",
      "              nan, 0.77973514,        nan, 0.77825164,        nan,\n",
      "       0.77791299,        nan, 0.77748653,        nan, 0.77697184,\n",
      "              nan, 0.77669082,        nan, 0.77623003,        nan]), 'std_test_score': array([0.03685492,        nan, 0.03650094,        nan, 0.03640422,\n",
      "              nan, 0.03534338,        nan, 0.03582365,        nan,\n",
      "       0.03638135,        nan, 0.0366385 ,        nan, 0.03793328,\n",
      "              nan, 0.03973675,        nan, 0.03909186,        nan]), 'rank_test_score': array([ 1, 18,  2, 17,  3, 16,  4, 15,  5, 14,  6, 19,  7, 13,  8, 12,  9,\n",
      "       11, 10, 20], dtype=int32)}\n",
      "0.7091778317297606\n",
      "{'C': 0.1, 'penalty': 'l2'}\n",
      "{'mean_fit_time': array([1.12368609e+02, 5.73222160e-02, 9.93551791e+01, 4.00645256e-02,\n",
      "       9.53663475e+01, 3.95382404e-02, 9.64309480e+01, 5.84734440e-02,\n",
      "       9.06744010e+01, 6.24742508e-02, 8.94175732e+01, 6.67726994e-02,\n",
      "       8.98863778e+01, 4.20035362e-02, 1.10472755e+02, 2.00733232e-01,\n",
      "       8.51733407e+01, 4.28742886e-02, 6.16260225e+01, 4.22470093e-02]), 'std_fit_time': array([2.84503336e+00, 1.40567742e-02, 7.92949361e-01, 9.82133139e-03,\n",
      "       8.65618942e-01, 7.30371772e-03, 1.15702926e+00, 1.75177340e-02,\n",
      "       2.28276201e+00, 2.73530679e-02, 6.28755109e+00, 2.24606665e-02,\n",
      "       4.94328086e+00, 5.80605660e-03, 1.32207071e+01, 7.58698660e-02,\n",
      "       5.81133616e+00, 8.36798489e-03, 1.47078000e+01, 7.34093736e-03]), 'mean_score_time': array([0.0352798 , 0.        , 0.02010183, 0.        , 0.03283825,\n",
      "       0.        , 0.02369018, 0.        , 0.02619576, 0.        ,\n",
      "       0.02445922, 0.        , 0.02215066, 0.        , 0.05638227,\n",
      "       0.        , 0.01968918, 0.        , 0.01934261, 0.        ]), 'std_score_time': array([0.00879795, 0.        , 0.00352947, 0.        , 0.01971292,\n",
      "       0.        , 0.00693987, 0.        , 0.00743257, 0.        ,\n",
      "       0.0034276 , 0.        , 0.00559632, 0.        , 0.06281312,\n",
      "       0.        , 0.00532437, 0.        , 0.00863662, 0.        ]), 'param_C': masked_array(data=[0.1, 0.1, 0.2, 0.2, 0.3, 0.3, 0.4, 0.4, 0.5, 0.5, 0.6,\n",
      "                   0.6, 0.7, 0.7, 0.8, 0.8, 0.9, 0.9, 1.0, 1.0],\n",
      "             mask=[False, False, False, False, False, False, False, False,\n",
      "                   False, False, False, False, False, False, False, False,\n",
      "                   False, False, False, False],\n",
      "       fill_value='?',\n",
      "            dtype=object), 'param_penalty': masked_array(data=['l2', 'l1', 'l2', 'l1', 'l2', 'l1', 'l2', 'l1', 'l2',\n",
      "                   'l1', 'l2', 'l1', 'l2', 'l1', 'l2', 'l1', 'l2', 'l1',\n",
      "                   'l2', 'l1'],\n",
      "             mask=[False, False, False, False, False, False, False, False,\n",
      "                   False, False, False, False, False, False, False, False,\n",
      "                   False, False, False, False],\n",
      "       fill_value='?',\n",
      "            dtype=object), 'params': [{'C': 0.1, 'penalty': 'l2'}, {'C': 0.1, 'penalty': 'l1'}, {'C': 0.2, 'penalty': 'l2'}, {'C': 0.2, 'penalty': 'l1'}, {'C': 0.3, 'penalty': 'l2'}, {'C': 0.3, 'penalty': 'l1'}, {'C': 0.4, 'penalty': 'l2'}, {'C': 0.4, 'penalty': 'l1'}, {'C': 0.5, 'penalty': 'l2'}, {'C': 0.5, 'penalty': 'l1'}, {'C': 0.6, 'penalty': 'l2'}, {'C': 0.6, 'penalty': 'l1'}, {'C': 0.7, 'penalty': 'l2'}, {'C': 0.7, 'penalty': 'l1'}, {'C': 0.8, 'penalty': 'l2'}, {'C': 0.8, 'penalty': 'l1'}, {'C': 0.9, 'penalty': 'l2'}, {'C': 0.9, 'penalty': 'l1'}, {'C': 1.0, 'penalty': 'l2'}, {'C': 1.0, 'penalty': 'l1'}], 'split0_test_score': array([0.53961119,        nan, 0.53151796,        nan, 0.52105055,\n",
      "              nan, 0.51887576,        nan, 0.51300981,        nan,\n",
      "       0.50908228,        nan, 0.50977048,        nan, 0.5085999 ,\n",
      "              nan, 0.50654108,        nan, 0.50476621,        nan]), 'split1_test_score': array([0.52753185,        nan, 0.52325032,        nan, 0.51733237,\n",
      "              nan, 0.5130409 ,        nan, 0.50981532,        nan,\n",
      "       0.50933106,        nan, 0.50879566,        nan, 0.50592253,\n",
      "              nan, 0.50328654,        nan, 0.50101195,        nan]), 'split2_test_score': array([0.54384425,        nan, 0.5372275 ,        nan, 0.52830476,\n",
      "              nan, 0.52199168,        nan, 0.51797428,        nan,\n",
      "       0.5131093 ,        nan, 0.50962086,        nan, 0.50562201,\n",
      "              nan, 0.50318737,        nan, 0.4996852 ,        nan]), 'split3_test_score': array([0.53971232,        nan, 0.5310325 ,        nan, 0.52131338,\n",
      "              nan, 0.51766994,        nan, 0.51486894,        nan,\n",
      "       0.51189947,        nan, 0.50762318,        nan, 0.50398249,\n",
      "              nan, 0.50109132,        nan, 0.49901787,        nan]), 'split4_test_score': array([0.52898511,        nan, 0.51995538,        nan, 0.51620524,\n",
      "              nan, 0.51316097,        nan, 0.5099522 ,        nan,\n",
      "       0.50783324,        nan, 0.50514719,        nan, 0.50510056,\n",
      "              nan, 0.50380556,        nan, 0.50290465,        nan]), 'mean_test_score': array([0.53593695,        nan, 0.52859673,        nan, 0.52084126,\n",
      "              nan, 0.51694785,        nan, 0.51312411,        nan,\n",
      "       0.51025107,        nan, 0.50819147,        nan, 0.5058455 ,\n",
      "              nan, 0.50358237,        nan, 0.50147718,        nan]), 'std_test_score': array([0.0064692 ,        nan, 0.00620022,        nan, 0.00423734,\n",
      "              nan, 0.00344335,        nan, 0.00308515,        nan,\n",
      "       0.00194654,        nan, 0.00170247,        nan, 0.00152763,\n",
      "              nan, 0.00174658,        nan, 0.00211335,        nan]), 'rank_test_score': array([ 1, 18,  2, 17,  3, 16,  4, 15,  5, 14,  6, 19,  7, 13,  8, 12,  9,\n",
      "       11, 10, 20], dtype=int32)}\n",
      "0.5607769621421951\n"
     ]
    },
    {
     "name": "stderr",
     "output_type": "stream",
     "text": [
      "/Users/zeerakw/.virtualenvs/mtl/lib/python3.8/site-packages/sklearn/svm/_base.py:976: ConvergenceWarning: Liblinear failed to converge, increase the number of iterations.\n",
      "  warnings.warn(\"Liblinear failed to converge, increase \"\n"
     ]
    }
   ],
   "source": [
    "davidson_ensemble_model_bpe = train_model((davidson_ensemble_tr_bpe, [doc.label for doc in davidson_bpe.data]), \n",
    "                                      (davidson_ensemble_de_bpe, [doc.label for doc in davidson_bpe.dev]), \n",
    "                                      davidson_bpe, grid_search, davidson_ensemble_metrics_bpe)\n",
    "setattr(davidson_ensemble_model_bpe, 'name', 'davidson')\n",
    "wulczyn_ensemble_model_bpe = train_model((wulczyn_ensemble_tr_bpe, [doc.label for doc in wulczyn_bpe.data]), \n",
    "                                      (wulczyn_ensemble_de_bpe, [doc.label for doc in wulczyn_bpe.dev]), \n",
    "                                      wulczyn_bpe, grid_search, wulczyn_ensemble_metrics_bpe)\n",
    "setattr(wulczyn_ensemble_model_bpe, 'name', 'wulczyn')\n",
    "waseem_ensemble_model_bpe = train_model((waseem_ensemble_tr_bpe, [doc.label for doc in waseem_bpe.data]), \n",
    "                                    (waseem_ensemble_de_bpe, [doc.label for doc in waseem_bpe.dev]), \n",
    "                                    waseem_bpe, grid_search, waseem_ensemble_metrics_bpe)\n",
    "setattr(waseem_ensemble_model_bpe, 'name', 'waseem')\n",
    "waseem_hovy_ensemble_model_bpe = train_model((waseem_hovy_ensemble_tr_bpe, [doc.label for doc in waseem_hovy_bpe.data]), \n",
    "                                         (waseem_hovy_ensemble_de_bpe, [doc.label for doc in waseem_hovy_bpe.dev]), \n",
    "                                         waseem_hovy_bpe, grid_search, waseem_hovy_ensemble_metrics_bpe)\n",
    "setattr(waseem_hovy_ensemble_model_bpe, 'name', 'waseem-hovy')\n",
    "oraby_sarcasm_ensemble_model_bpe = train_model((oraby_sarcasm_ensemble_tr_bpe, [doc.label for doc in oraby_sarcasm_bpe.data]), \n",
    "                                           (oraby_sarcasm_ensemble_de_bpe, [doc.label for doc in oraby_sarcasm_bpe.dev]), \n",
    "                                           oraby_sarcasm_bpe, grid_search, oraby_sarcasm_ensemble_metrics_bpe)\n",
    "setattr(oraby_sarcasm_ensemble_model_bpe, 'name', 'oraby-sarcasm')\n",
    "oraby_factfeel_ensemble_model_bpe = train_model((oraby_factfeel_ensemble_tr_bpe, [doc.label for doc in oraby_factfeel_bpe.data]), \n",
    "                                            (oraby_factfeel_ensemble_de_bpe, [doc.label for doc in oraby_factfeel_bpe.dev]), \n",
    "                                            oraby_factfeel_bpe, grid_search, oraby_factfeel_ensemble_metrics_bpe)\n",
    "setattr(oraby_factfeel_ensemble_model_bpe, 'name', 'oraby-factfeel')\n",
    "hoover_ensemble_model_bpe = train_model((hoover_ensemble_tr_bpe, [doc.label for doc in hoover_bpe.data]), \n",
    "                                    (hoover_ensemble_de_bpe, [doc.label for doc in hoover_bpe.dev]), \n",
    "                                    hoover_bpe, grid_search, hoover_ensemble_metrics_bpe)\n",
    "setattr(hoover_ensemble_model_bpe, 'name', 'hoover')"
   ]
  },
  {
   "cell_type": "code",
   "execution_count": 29,
   "metadata": {},
   "outputs": [
    {
     "name": "stderr",
     "output_type": "stream",
     "text": [
      "/Users/zeerakw/.virtualenvs/mtl/lib/python3.8/site-packages/sklearn/utils/validation.py:68: FutureWarning: Pass scoring=f1_macro as keyword args. From version 0.25 passing these as positional arguments will result in an error\n",
      "  warnings.warn(\"Pass {} as keyword args. From version 0.25 \"\n"
     ]
    },
    {
     "name": "stdout",
     "output_type": "stream",
     "text": [
      "{'C': 0.4, 'penalty': 'l2'}\n",
      "{'mean_fit_time': array([2.15162182, 0.01162229, 1.78843212, 0.01028261, 2.11871057,\n",
      "       0.02895732, 1.9813983 , 0.02709394, 2.29530439, 0.02019944,\n",
      "       2.12951365, 0.01846361, 2.33253489, 0.01308637, 2.19370031,\n",
      "       0.01381121, 1.96858592, 0.01173062, 1.64468765, 0.01094999]), 'std_fit_time': array([1.06784435e-01, 1.34907574e-03, 2.74244795e-01, 4.06366031e-04,\n",
      "       3.68755114e-01, 1.47842967e-02, 1.76147799e-01, 1.27088500e-02,\n",
      "       2.14439168e-01, 8.43798540e-03, 1.29387358e-01, 6.47586750e-03,\n",
      "       4.47281627e-01, 2.54234476e-03, 2.51494594e-01, 3.07188728e-03,\n",
      "       1.17319108e-01, 3.31118272e-03, 2.98001666e-01, 1.64150999e-03]), 'mean_score_time': array([0.01255999, 0.        , 0.00795689, 0.        , 0.00942879,\n",
      "       0.        , 0.00902719, 0.        , 0.00905695, 0.        ,\n",
      "       0.00962548, 0.        , 0.00828052, 0.        , 0.01411538,\n",
      "       0.        , 0.00803123, 0.        , 0.00891061, 0.        ]), 'std_score_time': array([0.00718231, 0.        , 0.00132577, 0.        , 0.00393115,\n",
      "       0.        , 0.0034403 , 0.        , 0.00325501, 0.        ,\n",
      "       0.00312022, 0.        , 0.0012074 , 0.        , 0.00976385,\n",
      "       0.        , 0.00162669, 0.        , 0.00392558, 0.        ]), 'param_C': masked_array(data=[0.1, 0.1, 0.2, 0.2, 0.3, 0.3, 0.4, 0.4, 0.5, 0.5, 0.6,\n",
      "                   0.6, 0.7, 0.7, 0.8, 0.8, 0.9, 0.9, 1.0, 1.0],\n",
      "             mask=[False, False, False, False, False, False, False, False,\n",
      "                   False, False, False, False, False, False, False, False,\n",
      "                   False, False, False, False],\n",
      "       fill_value='?',\n",
      "            dtype=object), 'param_penalty': masked_array(data=['l2', 'l1', 'l2', 'l1', 'l2', 'l1', 'l2', 'l1', 'l2',\n",
      "                   'l1', 'l2', 'l1', 'l2', 'l1', 'l2', 'l1', 'l2', 'l1',\n",
      "                   'l2', 'l1'],\n",
      "             mask=[False, False, False, False, False, False, False, False,\n",
      "                   False, False, False, False, False, False, False, False,\n",
      "                   False, False, False, False],\n",
      "       fill_value='?',\n",
      "            dtype=object), 'params': [{'C': 0.1, 'penalty': 'l2'}, {'C': 0.1, 'penalty': 'l1'}, {'C': 0.2, 'penalty': 'l2'}, {'C': 0.2, 'penalty': 'l1'}, {'C': 0.3, 'penalty': 'l2'}, {'C': 0.3, 'penalty': 'l1'}, {'C': 0.4, 'penalty': 'l2'}, {'C': 0.4, 'penalty': 'l1'}, {'C': 0.5, 'penalty': 'l2'}, {'C': 0.5, 'penalty': 'l1'}, {'C': 0.6, 'penalty': 'l2'}, {'C': 0.6, 'penalty': 'l1'}, {'C': 0.7, 'penalty': 'l2'}, {'C': 0.7, 'penalty': 'l1'}, {'C': 0.8, 'penalty': 'l2'}, {'C': 0.8, 'penalty': 'l1'}, {'C': 0.9, 'penalty': 'l2'}, {'C': 0.9, 'penalty': 'l1'}, {'C': 1.0, 'penalty': 'l2'}, {'C': 1.0, 'penalty': 'l1'}], 'split0_test_score': array([0.40101824,        nan, 0.40101824,        nan, 0.40101824,\n",
      "              nan, 0.40101824,        nan, 0.40101824,        nan,\n",
      "       0.40101824,        nan, 0.40101824,        nan, 0.40101824,\n",
      "              nan, 0.40101824,        nan, 0.40101824,        nan]), 'split1_test_score': array([0.33537254,        nan, 0.33537254,        nan, 0.33537254,\n",
      "              nan, 0.39671057,        nan, 0.39671057,        nan,\n",
      "       0.39671057,        nan, 0.39671057,        nan, 0.39671057,\n",
      "              nan, 0.39671057,        nan, 0.39671057,        nan]), 'split2_test_score': array([0.33724316,        nan, 0.33724316,        nan, 0.33724316,\n",
      "              nan, 0.33724316,        nan, 0.33724316,        nan,\n",
      "       0.33724316,        nan, 0.33724316,        nan, 0.33724316,\n",
      "              nan, 0.33724316,        nan, 0.33724316,        nan]), 'split3_test_score': array([0.40521056,        nan, 0.40521056,        nan, 0.40521056,\n",
      "              nan, 0.40521056,        nan, 0.40521056,        nan,\n",
      "       0.40521056,        nan, 0.40521056,        nan, 0.40521056,\n",
      "              nan, 0.40521056,        nan, 0.40521056,        nan]), 'split4_test_score': array([0.34253448,        nan, 0.40724312,        nan, 0.40724312,\n",
      "              nan, 0.40724312,        nan, 0.40724312,        nan,\n",
      "       0.40724312,        nan, 0.40724312,        nan, 0.40724312,\n",
      "              nan, 0.40724312,        nan, 0.40724312,        nan]), 'mean_test_score': array([0.36427579,        nan, 0.37721752,        nan, 0.37721752,\n",
      "              nan, 0.38948513,        nan, 0.38948513,        nan,\n",
      "       0.38948513,        nan, 0.38948513,        nan, 0.38948513,\n",
      "              nan, 0.38948513,        nan, 0.38948513,        nan]), 'std_test_score': array([0.03182612,        nan, 0.03346811,        nan, 0.03346811,\n",
      "              nan, 0.02637074,        nan, 0.02637074,        nan,\n",
      "       0.02637074,        nan, 0.02637074,        nan, 0.02637074,\n",
      "              nan, 0.02637074,        nan, 0.02637074,        nan]), 'rank_test_score': array([10, 18,  8, 17,  8, 16,  1, 15,  1, 14,  1, 19,  1, 13,  1, 12,  1,\n",
      "       11,  1, 20], dtype=int32)}\n",
      "0.2908704883227176\n"
     ]
    }
   ],
   "source": [
    "grid_search = {'penalty': ['l2', 'l1'], 'C': [0.1, 0.2, 0.3, 0.4, 0.5, 0.6, 0.7, 0.8, 0.9, 1.0]}\n",
    "davidson_ensemble_clfs_metrics_bpe = Metrics(['f1-score', 'accuracy', 'precision', 'recall'], 'f1-score')\n",
    "davidson_ensemble_clfs_bpe = [\n",
    "        (wulczyn_ensemble_model_bpe, wulczyn_ensemble_bpe_vect), (waseem_ensemble_model_bpe, waseem_ensemble_bpe_vect), \n",
    "        (waseem_hovy_ensemble_model_bpe, waseem_hovy_ensemble_bpe_vect),\n",
    "        (oraby_sarcasm_ensemble_model_bpe, oraby_sarcasm_ensemble_bpe_vect), \n",
    "        (oraby_factfeel_ensemble_model_bpe, oraby_factfeel_ensemble_bpe_vect),\n",
    "        (hoover_ensemble_model_bpe, hoover_ensemble_bpe_vect)]\n",
    "davidson_ensemble_trained_model_bpe = ensemble_train(davidson_ensemble_clfs_bpe, davidson_bpe.data, davidson_bpe.dev, \n",
    "                                                     davidson_bpe, grid_search, davidson_ensemble_clfs_metrics_bpe)"
   ]
  },
  {
   "cell_type": "code",
   "execution_count": 30,
   "metadata": {},
   "outputs": [
    {
     "name": "stderr",
     "output_type": "stream",
     "text": [
      "/Users/zeerakw/.virtualenvs/mtl/lib/python3.8/site-packages/sklearn/utils/validation.py:68: FutureWarning: Pass scoring=f1_macro as keyword args. From version 0.25 passing these as positional arguments will result in an error\n",
      "  warnings.warn(\"Pass {} as keyword args. From version 0.25 \"\n"
     ]
    },
    {
     "name": "stdout",
     "output_type": "stream",
     "text": [
      "{'C': 0.1, 'penalty': 'l2'}\n",
      "{'mean_fit_time': array([1.40586576, 0.00449653, 1.32316055, 0.00343928, 1.69988661,\n",
      "       0.00357604, 1.79268126, 0.00725918, 1.74285436, 0.00396323,\n",
      "       1.81206803, 0.00433803, 1.55313368, 0.00432253, 1.77141738,\n",
      "       0.00531659, 1.78974037, 0.01573462, 1.44362473, 0.00390868]), 'std_fit_time': array([1.09510427e-01, 2.40763654e-03, 1.09742283e-01, 7.04697888e-05,\n",
      "       3.28774622e-01, 3.62842968e-04, 1.06795015e-01, 2.71257038e-03,\n",
      "       1.59503828e-01, 5.07720031e-04, 6.79965189e-02, 1.97656697e-03,\n",
      "       6.61817015e-02, 1.60738113e-03, 1.45874752e-01, 2.31732802e-03,\n",
      "       2.59188381e-01, 1.19227855e-02, 8.94887238e-02, 1.68468487e-03]), 'mean_score_time': array([0.00344067, 0.        , 0.00927196, 0.        , 0.00438967,\n",
      "       0.        , 0.00450039, 0.        , 0.00440259, 0.        ,\n",
      "       0.0092648 , 0.        , 0.00421977, 0.        , 0.01117296,\n",
      "       0.        , 0.00810843, 0.        , 0.00595512, 0.        ]), 'std_score_time': array([0.00031525, 0.        , 0.00603297, 0.        , 0.00035396,\n",
      "       0.        , 0.00237355, 0.        , 0.00125694, 0.        ,\n",
      "       0.00715152, 0.        , 0.00132766, 0.        , 0.00813961,\n",
      "       0.        , 0.00830225, 0.        , 0.00651641, 0.        ]), 'param_C': masked_array(data=[0.1, 0.1, 0.2, 0.2, 0.3, 0.3, 0.4, 0.4, 0.5, 0.5, 0.6,\n",
      "                   0.6, 0.7, 0.7, 0.8, 0.8, 0.9, 0.9, 1.0, 1.0],\n",
      "             mask=[False, False, False, False, False, False, False, False,\n",
      "                   False, False, False, False, False, False, False, False,\n",
      "                   False, False, False, False],\n",
      "       fill_value='?',\n",
      "            dtype=object), 'param_penalty': masked_array(data=['l2', 'l1', 'l2', 'l1', 'l2', 'l1', 'l2', 'l1', 'l2',\n",
      "                   'l1', 'l2', 'l1', 'l2', 'l1', 'l2', 'l1', 'l2', 'l1',\n",
      "                   'l2', 'l1'],\n",
      "             mask=[False, False, False, False, False, False, False, False,\n",
      "                   False, False, False, False, False, False, False, False,\n",
      "                   False, False, False, False],\n",
      "       fill_value='?',\n",
      "            dtype=object), 'params': [{'C': 0.1, 'penalty': 'l2'}, {'C': 0.1, 'penalty': 'l1'}, {'C': 0.2, 'penalty': 'l2'}, {'C': 0.2, 'penalty': 'l1'}, {'C': 0.3, 'penalty': 'l2'}, {'C': 0.3, 'penalty': 'l1'}, {'C': 0.4, 'penalty': 'l2'}, {'C': 0.4, 'penalty': 'l1'}, {'C': 0.5, 'penalty': 'l2'}, {'C': 0.5, 'penalty': 'l1'}, {'C': 0.6, 'penalty': 'l2'}, {'C': 0.6, 'penalty': 'l1'}, {'C': 0.7, 'penalty': 'l2'}, {'C': 0.7, 'penalty': 'l1'}, {'C': 0.8, 'penalty': 'l2'}, {'C': 0.8, 'penalty': 'l1'}, {'C': 0.9, 'penalty': 'l2'}, {'C': 0.9, 'penalty': 'l1'}, {'C': 1.0, 'penalty': 'l2'}, {'C': 1.0, 'penalty': 'l1'}], 'split0_test_score': array([0.30109725,        nan, 0.30109725,        nan, 0.30109725,\n",
      "              nan, 0.30109725,        nan, 0.30109725,        nan,\n",
      "       0.30109725,        nan, 0.30109725,        nan, 0.30109725,\n",
      "              nan, 0.30109725,        nan, 0.30109725,        nan]), 'split1_test_score': array([0.30114155,        nan, 0.30114155,        nan, 0.30114155,\n",
      "              nan, 0.30114155,        nan, 0.30114155,        nan,\n",
      "       0.30114155,        nan, 0.30114155,        nan, 0.30114155,\n",
      "              nan, 0.30114155,        nan, 0.30114155,        nan]), 'split2_test_score': array([0.30100132,        nan, 0.30100132,        nan, 0.30100132,\n",
      "              nan, 0.30100132,        nan, 0.30100132,        nan,\n",
      "       0.30100132,        nan, 0.30100132,        nan, 0.30100132,\n",
      "              nan, 0.30100132,        nan, 0.30100132,        nan]), 'split3_test_score': array([0.30683814,        nan, 0.30683814,        nan, 0.30683814,\n",
      "              nan, 0.30683814,        nan, 0.30683814,        nan,\n",
      "       0.30683814,        nan, 0.30683814,        nan, 0.30683814,\n",
      "              nan, 0.30683814,        nan, 0.30683814,        nan]), 'split4_test_score': array([0.3064488,       nan, 0.3064488,       nan, 0.3064488,       nan,\n",
      "       0.3064488,       nan, 0.3064488,       nan, 0.3064488,       nan,\n",
      "       0.3064488,       nan, 0.3064488,       nan, 0.3064488,       nan,\n",
      "       0.3064488,       nan]), 'mean_test_score': array([0.30330541,        nan, 0.30330541,        nan, 0.30330541,\n",
      "              nan, 0.30330541,        nan, 0.30330541,        nan,\n",
      "       0.30330541,        nan, 0.30330541,        nan, 0.30330541,\n",
      "              nan, 0.30330541,        nan, 0.30330541,        nan]), 'std_test_score': array([0.00272867,        nan, 0.00272867,        nan, 0.00272867,\n",
      "              nan, 0.00272867,        nan, 0.00272867,        nan,\n",
      "       0.00272867,        nan, 0.00272867,        nan, 0.00272867,\n",
      "              nan, 0.00272867,        nan, 0.00272867,        nan]), 'rank_test_score': array([ 1, 18,  1, 17,  1, 16,  1, 15,  1, 14,  1, 19,  1, 13,  1, 12,  1,\n",
      "       11,  1, 20], dtype=int32)}\n",
      "0.22919937205651492\n"
     ]
    }
   ],
   "source": [
    "waseem_ensemble_clfs_metrics_bpe = Metrics(['f1-score', 'accuracy', 'precision', 'recall'], 'f1-score')\n",
    "waseem_ensemble_clfs_bpe = [\n",
    "        (wulczyn_ensemble_model_bpe, wulczyn_ensemble_bpe_vect), (davidson_ensemble_model_bpe, davidson_ensemble_bpe_vect), \n",
    "        (waseem_hovy_ensemble_model_bpe, waseem_hovy_ensemble_bpe_vect),\n",
    "        (oraby_sarcasm_ensemble_model_bpe, oraby_sarcasm_ensemble_bpe_vect), (oraby_factfeel_ensemble_model_bpe, oraby_factfeel_ensemble_bpe_vect),\n",
    "        (hoover_ensemble_model_bpe, hoover_ensemble_bpe_vect)]\n",
    "waseem_ensemble_trained_model_bpe = ensemble_train(waseem_ensemble_clfs_bpe, waseem_bpe.data, waseem_bpe.dev, \n",
    "                                                   waseem_bpe, grid_search, waseem_ensemble_clfs_metrics_bpe)"
   ]
  },
  {
   "cell_type": "code",
   "execution_count": 31,
   "metadata": {},
   "outputs": [
    {
     "name": "stderr",
     "output_type": "stream",
     "text": [
      "/Users/zeerakw/.virtualenvs/mtl/lib/python3.8/site-packages/sklearn/utils/validation.py:68: FutureWarning: Pass scoring=f1_macro as keyword args. From version 0.25 passing these as positional arguments will result in an error\n",
      "  warnings.warn(\"Pass {} as keyword args. From version 0.25 \"\n"
     ]
    },
    {
     "name": "stdout",
     "output_type": "stream",
     "text": [
      "{'C': 0.2, 'penalty': 'l2'}\n",
      "{'mean_fit_time': array([0.79154797, 0.0678988 , 0.71339769, 0.07875328, 0.63756642,\n",
      "       0.06529994, 0.88209081, 0.11160207, 0.7546484 , 0.09267435,\n",
      "       0.68538423, 0.07063217, 0.75816431, 0.0728653 , 0.63354006,\n",
      "       0.06442552, 0.56785135, 0.08279533, 0.53684363, 0.05309205]), 'std_fit_time': array([0.13157922, 0.00412266, 0.11559632, 0.00938146, 0.05999268,\n",
      "       0.02150903, 0.04666181, 0.03100776, 0.10115637, 0.02707972,\n",
      "       0.07828293, 0.01642838, 0.132395  , 0.00991846, 0.08534771,\n",
      "       0.02146351, 0.04786881, 0.01472882, 0.02962008, 0.00596926]), 'mean_score_time': array([0.04810281, 0.        , 0.03784504, 0.        , 0.04142275,\n",
      "       0.        , 0.06174111, 0.        , 0.04984665, 0.        ,\n",
      "       0.03693576, 0.        , 0.03759151, 0.        , 0.03965502,\n",
      "       0.        , 0.03461962, 0.        , 0.03075895, 0.        ]), 'std_score_time': array([0.00709329, 0.        , 0.00792069, 0.        , 0.00910621,\n",
      "       0.        , 0.01120927, 0.        , 0.01265234, 0.        ,\n",
      "       0.00557888, 0.        , 0.00948413, 0.        , 0.00857151,\n",
      "       0.        , 0.00603192, 0.        , 0.00434255, 0.        ]), 'param_C': masked_array(data=[0.1, 0.1, 0.2, 0.2, 0.3, 0.3, 0.4, 0.4, 0.5, 0.5, 0.6,\n",
      "                   0.6, 0.7, 0.7, 0.8, 0.8, 0.9, 0.9, 1.0, 1.0],\n",
      "             mask=[False, False, False, False, False, False, False, False,\n",
      "                   False, False, False, False, False, False, False, False,\n",
      "                   False, False, False, False],\n",
      "       fill_value='?',\n",
      "            dtype=object), 'param_penalty': masked_array(data=['l2', 'l1', 'l2', 'l1', 'l2', 'l1', 'l2', 'l1', 'l2',\n",
      "                   'l1', 'l2', 'l1', 'l2', 'l1', 'l2', 'l1', 'l2', 'l1',\n",
      "                   'l2', 'l1'],\n",
      "             mask=[False, False, False, False, False, False, False, False,\n",
      "                   False, False, False, False, False, False, False, False,\n",
      "                   False, False, False, False],\n",
      "       fill_value='?',\n",
      "            dtype=object), 'params': [{'C': 0.1, 'penalty': 'l2'}, {'C': 0.1, 'penalty': 'l1'}, {'C': 0.2, 'penalty': 'l2'}, {'C': 0.2, 'penalty': 'l1'}, {'C': 0.3, 'penalty': 'l2'}, {'C': 0.3, 'penalty': 'l1'}, {'C': 0.4, 'penalty': 'l2'}, {'C': 0.4, 'penalty': 'l1'}, {'C': 0.5, 'penalty': 'l2'}, {'C': 0.5, 'penalty': 'l1'}, {'C': 0.6, 'penalty': 'l2'}, {'C': 0.6, 'penalty': 'l1'}, {'C': 0.7, 'penalty': 'l2'}, {'C': 0.7, 'penalty': 'l1'}, {'C': 0.8, 'penalty': 'l2'}, {'C': 0.8, 'penalty': 'l1'}, {'C': 0.9, 'penalty': 'l2'}, {'C': 0.9, 'penalty': 'l1'}, {'C': 1.0, 'penalty': 'l2'}, {'C': 1.0, 'penalty': 'l1'}], 'split0_test_score': array([0.63820868,        nan, 0.6387495 ,        nan, 0.6387495 ,\n",
      "              nan, 0.6387495 ,        nan, 0.6387495 ,        nan,\n",
      "       0.6387495 ,        nan, 0.6387495 ,        nan, 0.6387495 ,\n",
      "              nan, 0.6387495 ,        nan, 0.6387495 ,        nan]), 'split1_test_score': array([0.64159917,        nan, 0.64159917,        nan, 0.64159917,\n",
      "              nan, 0.64159917,        nan, 0.64159917,        nan,\n",
      "       0.64159917,        nan, 0.64159917,        nan, 0.64159917,\n",
      "              nan, 0.64159917,        nan, 0.64159917,        nan]), 'split2_test_score': array([0.64850852,        nan, 0.64886079,        nan, 0.64886079,\n",
      "              nan, 0.64886079,        nan, 0.64886079,        nan,\n",
      "       0.64886079,        nan, 0.64886079,        nan, 0.64886079,\n",
      "              nan, 0.64886079,        nan, 0.64886079,        nan]), 'split3_test_score': array([0.62959087,        nan, 0.62959087,        nan, 0.62959087,\n",
      "              nan, 0.62959087,        nan, 0.62959087,        nan,\n",
      "       0.62959087,        nan, 0.62959087,        nan, 0.62959087,\n",
      "              nan, 0.62959087,        nan, 0.62959087,        nan]), 'split4_test_score': array([0.61204342,        nan, 0.61204342,        nan, 0.61204342,\n",
      "              nan, 0.61204342,        nan, 0.61204342,        nan,\n",
      "       0.61204342,        nan, 0.61204342,        nan, 0.61204342,\n",
      "              nan, 0.61204342,        nan, 0.61204342,        nan]), 'mean_test_score': array([0.63399013,        nan, 0.63416875,        nan, 0.63416875,\n",
      "              nan, 0.63416875,        nan, 0.63416875,        nan,\n",
      "       0.63416875,        nan, 0.63416875,        nan, 0.63416875,\n",
      "              nan, 0.63416875,        nan, 0.63416875,        nan]), 'std_test_score': array([0.01254981,        nan, 0.01266916,        nan, 0.01266916,\n",
      "              nan, 0.01266916,        nan, 0.01266916,        nan,\n",
      "       0.01266916,        nan, 0.01266916,        nan, 0.01266916,\n",
      "              nan, 0.01266916,        nan, 0.01266916,        nan]), 'rank_test_score': array([10, 18,  1, 17,  1, 16,  1, 15,  1, 14,  1, 19,  1, 13,  1, 12,  1,\n",
      "       11,  1, 20], dtype=int32)}\n",
      "0.47492114338012975\n"
     ]
    }
   ],
   "source": [
    "wulczyn_ensemble_clfs_metrics_bpe = Metrics(['f1-score', 'accuracy', 'precision', 'recall'], 'f1-score')\n",
    "wulczyn_ensemble_clfs_bpe = [\n",
    "        (davidson_ensemble_model_bpe, davidson_ensemble_bpe_vect), (waseem_ensemble_model_bpe, waseem_ensemble_bpe_vect), \n",
    "        (waseem_hovy_ensemble_model_bpe, waseem_hovy_ensemble_bpe_vect),\n",
    "        (oraby_sarcasm_ensemble_model_bpe, oraby_sarcasm_ensemble_bpe_vect), \n",
    "        (oraby_factfeel_ensemble_model_bpe, oraby_factfeel_ensemble_bpe_vect),\n",
    "        (hoover_ensemble_model_bpe, hoover_ensemble_bpe_vect)]\n",
    "wulczyn_ensemble_trained_model_bpe = ensemble_train(wulczyn_ensemble_clfs_bpe, wulczyn_bpe.data, wulczyn_bpe.dev, \n",
    "                                                wulczyn_bpe, grid_search, wulczyn_ensemble_clfs_metrics_bpe)"
   ]
  },
  {
   "cell_type": "markdown",
   "metadata": {},
   "source": [
    "## Evaluate BPE Ensemble Model"
   ]
  },
  {
   "cell_type": "code",
   "execution_count": 32,
   "metadata": {},
   "outputs": [
    {
     "name": "stdout",
     "output_type": "stream",
     "text": [
      "0.40629303245450266\n"
     ]
    }
   ],
   "source": [
    "ensemble_davidson_bpe_eval_metrics = Metrics(['f1-score', 'accuracy', 'precision', 'recall'], 'f1-score')\n",
    "davidson_ensemble_clfs_bpe = [(wulczyn_ensemble_model_bpe, wulczyn_ensemble_bpe_vect), \n",
    "                          (waseem_ensemble_model_bpe, waseem_ensemble_bpe_vect), \n",
    "                          (waseem_hovy_ensemble_model_bpe, waseem_hovy_ensemble_bpe_vect),\n",
    "                          (oraby_sarcasm_ensemble_model_bpe, oraby_sarcasm_ensemble_bpe_vect), \n",
    "                          (oraby_factfeel_ensemble_model_bpe, oraby_factfeel_ensemble_bpe_vect),\n",
    "                          (hoover_ensemble_model_bpe, hoover_ensemble_bpe_vect)]\n",
    "\n",
    "evaluate_ensemble_model(davidson_ensemble_trained_model_bpe, davidson_ensemble_clfs_bpe, davidson_bpe.test, \n",
    "                        ensemble_davidson_bpe_eval_metrics)"
   ]
  },
  {
   "cell_type": "code",
   "execution_count": 33,
   "metadata": {},
   "outputs": [
    {
     "name": "stdout",
     "output_type": "stream",
     "text": [
      "0.29658263909597926\n"
     ]
    }
   ],
   "source": [
    "ensemble_waseem_bpe_eval_metrics = Metrics(['f1-score', 'accuracy', 'precision', 'recall'], 'f1-score')\n",
    "waseem_ensemble_clfs_bpe = [(wulczyn_ensemble_model_bpe, wulczyn_ensemble_bpe_vect), \n",
    "                          (davidson_ensemble_model_bpe, davidson_ensemble_bpe_vect), \n",
    "                          (waseem_hovy_ensemble_model_bpe, waseem_hovy_ensemble_bpe_vect),\n",
    "                          (oraby_sarcasm_ensemble_model_bpe, oraby_sarcasm_ensemble_bpe_vect), \n",
    "                          (oraby_factfeel_ensemble_model_bpe, oraby_factfeel_ensemble_bpe_vect),\n",
    "                          (hoover_ensemble_model_bpe, hoover_ensemble_bpe_vect)]\n",
    "\n",
    "evaluate_ensemble_model(waseem_ensemble_trained_model_bpe, waseem_ensemble_clfs_bpe, waseem_bpe.test, \n",
    "                        ensemble_waseem_bpe_eval_metrics)"
   ]
  },
  {
   "cell_type": "code",
   "execution_count": 34,
   "metadata": {},
   "outputs": [
    {
     "name": "stdout",
     "output_type": "stream",
     "text": [
      "0.598776911220475\n"
     ]
    }
   ],
   "source": [
    "ensemble_wulczyn_bpe_eval_metrics = Metrics(['f1-score', 'accuracy', 'precision', 'recall'], 'f1-score')\n",
    "wulczyn_ensemble_clfs_bpe = [(wulczyn_ensemble_model_bpe, wulczyn_ensemble_bpe_vect), \n",
    "                          (davidson_ensemble_model_bpe, davidson_ensemble_bpe_vect), \n",
    "                          (waseem_hovy_ensemble_model_bpe, waseem_hovy_ensemble_bpe_vect),\n",
    "                          (oraby_sarcasm_ensemble_model_bpe, oraby_sarcasm_ensemble_bpe_vect), \n",
    "                          (oraby_factfeel_ensemble_model_bpe, oraby_factfeel_ensemble_bpe_vect),\n",
    "                          (hoover_ensemble_model_bpe, hoover_ensemble_bpe_vect)]\n",
    "\n",
    "evaluate_ensemble_model(wulczyn_ensemble_trained_model_bpe, wulczyn_ensemble_clfs_bpe, wulczyn_bpe.test, \n",
    "                        ensemble_wulczyn_bpe_eval_metrics)"
   ]
  },
  {
   "cell_type": "markdown",
   "metadata": {},
   "source": [
    "## Ensemble LIWC model"
   ]
  },
  {
   "cell_type": "code",
   "execution_count": 35,
   "metadata": {},
   "outputs": [],
   "source": [
    "davidson_ensemble_liwc_vect = select_vectorizer('dict')\n",
    "davidson_ensemble_tr_liwc = vectorize(davidson_liwc.data, davidson_ensemble_liwc_vect, 'dict')\n",
    "davidson_ensemble_de_liwc = vectorize(davidson_liwc.dev, davidson_ensemble_liwc_vect, 'dict')\n",
    "davidson_ensemble_te_liwc = vectorize(davidson_liwc.test, davidson_ensemble_liwc_vect, 'dict')\n",
    "\n",
    "wulczyn_ensemble_liwc_vect = select_vectorizer('dict')\n",
    "wulczyn_ensemble_tr_liwc = vectorize(wulczyn_liwc.data, wulczyn_ensemble_liwc_vect, 'dict')\n",
    "wulczyn_ensemble_de_liwc = vectorize(wulczyn_liwc.dev, wulczyn_ensemble_liwc_vect, 'dict')\n",
    "wulczyn_ensemble_te_liwc = vectorize(wulczyn_liwc.test, wulczyn_ensemble_liwc_vect, 'dict')\n",
    "\n",
    "waseem_ensemble_liwc_vect = select_vectorizer('dict')\n",
    "waseem_ensemble_tr_liwc = vectorize(waseem_liwc.data, waseem_ensemble_liwc_vect, 'dict')\n",
    "waseem_ensemble_de_liwc = vectorize(waseem_liwc.dev, waseem_ensemble_liwc_vect, 'dict')\n",
    "waseem_ensemble_te_liwc = vectorize(waseem_liwc.test, waseem_ensemble_liwc_vect, 'dict')\n",
    "\n",
    "waseem_hovy_ensemble_liwc_vect = select_vectorizer('dict')\n",
    "waseem_hovy_ensemble_tr_liwc = vectorize(waseem_hovy_liwc.data, waseem_hovy_ensemble_liwc_vect, 'dict')\n",
    "waseem_hovy_ensemble_de_liwc = vectorize(waseem_hovy_liwc.dev, waseem_hovy_ensemble_liwc_vect, 'dict')\n",
    "waseem_hovy_ensemble_te_liwc = vectorize(waseem_hovy_liwc.test, waseem_hovy_ensemble_liwc_vect, 'dict')\n",
    "\n",
    "oraby_sarcasm_ensemble_liwc_vect = select_vectorizer('dict')\n",
    "oraby_sarcasm_ensemble_tr_liwc = vectorize(oraby_sarcasm_liwc.data, oraby_sarcasm_ensemble_liwc_vect, 'dict')\n",
    "oraby_sarcasm_ensemble_de_liwc = vectorize(oraby_sarcasm_liwc.dev, oraby_sarcasm_ensemble_liwc_vect, 'dict')\n",
    "oraby_sarcasm_ensemble_te_liwc = vectorize(oraby_sarcasm_liwc.test, oraby_sarcasm_ensemble_liwc_vect, 'dict')\n",
    "\n",
    "oraby_factfeel_ensemble_liwc_vect = select_vectorizer('dict')\n",
    "oraby_factfeel_ensemble_tr_liwc = vectorize(oraby_factfeel_liwc.data, oraby_factfeel_ensemble_liwc_vect, 'dict')\n",
    "oraby_factfeel_ensemble_de_liwc = vectorize(oraby_factfeel_liwc.dev, oraby_factfeel_ensemble_liwc_vect, 'dict')\n",
    "oraby_factfeel_ensemble_te_liwc = vectorize(oraby_factfeel_liwc.test, oraby_factfeel_ensemble_liwc_vect, 'dict')\n",
    "\n",
    "hoover_ensemble_liwc_vect = select_vectorizer('dict')\n",
    "hoover_ensemble_tr_liwc = vectorize(hoover_liwc.data, hoover_ensemble_liwc_vect, 'dict')\n",
    "hoover_ensemble_de_liwc = vectorize(hoover_liwc.dev, hoover_ensemble_liwc_vect, 'dict')\n",
    "hoover_ensemble_te_liwc = vectorize(hoover_liwc.test, hoover_ensemble_liwc_vect, 'dict')"
   ]
  },
  {
   "cell_type": "code",
   "execution_count": 36,
   "metadata": {},
   "outputs": [],
   "source": [
    "grid_search = {'penalty': ['l2', 'l1'], 'C': [0.1, 0.2, 0.3, 0.4, 0.5, 0.6, 0.7, 0.8, 0.9, 1.0]}\n",
    "davidson_ensemble_metrics_liwc = Metrics(['f1-score', 'accuracy', 'precision', 'recall'], 'f1-score')\n",
    "wulczyn_ensemble_metrics_liwc = Metrics(['f1-score', 'accuracy', 'precision', 'recall'], 'f1-score')\n",
    "waseem_ensemble_metrics_liwc = Metrics(['f1-score', 'accuracy', 'precision', 'recall'], 'f1-score')\n",
    "waseem_hovy_ensemble_metrics_liwc = Metrics(['f1-score', 'accuracy', 'precision', 'recall'], 'f1-score')\n",
    "oraby_sarcasm_ensemble_metrics_liwc = Metrics(['f1-score', 'accuracy', 'precision', 'recall'], 'f1-score')\n",
    "oraby_factfeel_ensemble_metrics_liwc = Metrics(['f1-score', 'accuracy', 'precision', 'recall'], 'f1-score')\n",
    "hoover_ensemble_metrics_liwc = Metrics(['f1-score', 'accuracy', 'precision', 'recall'], 'f1-score')"
   ]
  },
  {
   "cell_type": "code",
   "execution_count": 37,
   "metadata": {},
   "outputs": [
    {
     "name": "stderr",
     "output_type": "stream",
     "text": [
      "/Users/zeerakw/.virtualenvs/mtl/lib/python3.8/site-packages/sklearn/utils/validation.py:68: FutureWarning: Pass scoring=f1_macro as keyword args. From version 0.25 passing these as positional arguments will result in an error\n",
      "  warnings.warn(\"Pass {} as keyword args. From version 0.25 \"\n",
      "/Users/zeerakw/.virtualenvs/mtl/lib/python3.8/site-packages/sklearn/svm/_base.py:976: ConvergenceWarning: Liblinear failed to converge, increase the number of iterations.\n",
      "  warnings.warn(\"Liblinear failed to converge, increase \"\n",
      "/Users/zeerakw/.virtualenvs/mtl/lib/python3.8/site-packages/sklearn/utils/validation.py:68: FutureWarning: Pass scoring=f1_macro as keyword args. From version 0.25 passing these as positional arguments will result in an error\n",
      "  warnings.warn(\"Pass {} as keyword args. From version 0.25 \"\n"
     ]
    },
    {
     "name": "stdout",
     "output_type": "stream",
     "text": [
      "{'C': 0.3, 'penalty': 'l2'}\n",
      "{'mean_fit_time': array([2.00897295e+01, 3.67469788e-02, 1.90670350e+01, 3.59298706e-02,\n",
      "       1.92623750e+01, 5.51073074e-02, 2.30116646e+01, 3.69345188e-02,\n",
      "       2.80258731e+01, 3.05057526e-02, 2.64864738e+01, 4.52500343e-02,\n",
      "       3.38636648e+01, 3.68643761e-02, 3.07207834e+01, 8.49872112e-02,\n",
      "       2.59679227e+01, 5.75111866e-02, 2.25238998e+01, 3.97895336e-02]), 'std_fit_time': array([0.8479245 , 0.00955964, 0.60964271, 0.00839907, 0.82004843,\n",
      "       0.02710594, 2.10665941, 0.00908411, 2.20062562, 0.00361841,\n",
      "       2.92370109, 0.01916699, 1.99806097, 0.00580098, 2.19198241,\n",
      "       0.08048145, 1.15063901, 0.02879758, 2.10856497, 0.01079307]), 'mean_score_time': array([0.01555629, 0.        , 0.00929174, 0.        , 0.00961757,\n",
      "       0.        , 0.01484947, 0.        , 0.01464653, 0.        ,\n",
      "       0.01233764, 0.        , 0.01196117, 0.        , 0.01806006,\n",
      "       0.        , 0.00748401, 0.        , 0.00977635, 0.        ]), 'std_score_time': array([0.01394775, 0.        , 0.00260686, 0.        , 0.0055061 ,\n",
      "       0.        , 0.00810829, 0.        , 0.00761988, 0.        ,\n",
      "       0.00327548, 0.        , 0.0048933 , 0.        , 0.01178961,\n",
      "       0.        , 0.00091873, 0.        , 0.0064159 , 0.        ]), 'param_C': masked_array(data=[0.1, 0.1, 0.2, 0.2, 0.3, 0.3, 0.4, 0.4, 0.5, 0.5, 0.6,\n",
      "                   0.6, 0.7, 0.7, 0.8, 0.8, 0.9, 0.9, 1.0, 1.0],\n",
      "             mask=[False, False, False, False, False, False, False, False,\n",
      "                   False, False, False, False, False, False, False, False,\n",
      "                   False, False, False, False],\n",
      "       fill_value='?',\n",
      "            dtype=object), 'param_penalty': masked_array(data=['l2', 'l1', 'l2', 'l1', 'l2', 'l1', 'l2', 'l1', 'l2',\n",
      "                   'l1', 'l2', 'l1', 'l2', 'l1', 'l2', 'l1', 'l2', 'l1',\n",
      "                   'l2', 'l1'],\n",
      "             mask=[False, False, False, False, False, False, False, False,\n",
      "                   False, False, False, False, False, False, False, False,\n",
      "                   False, False, False, False],\n",
      "       fill_value='?',\n",
      "            dtype=object), 'params': [{'C': 0.1, 'penalty': 'l2'}, {'C': 0.1, 'penalty': 'l1'}, {'C': 0.2, 'penalty': 'l2'}, {'C': 0.2, 'penalty': 'l1'}, {'C': 0.3, 'penalty': 'l2'}, {'C': 0.3, 'penalty': 'l1'}, {'C': 0.4, 'penalty': 'l2'}, {'C': 0.4, 'penalty': 'l1'}, {'C': 0.5, 'penalty': 'l2'}, {'C': 0.5, 'penalty': 'l1'}, {'C': 0.6, 'penalty': 'l2'}, {'C': 0.6, 'penalty': 'l1'}, {'C': 0.7, 'penalty': 'l2'}, {'C': 0.7, 'penalty': 'l1'}, {'C': 0.8, 'penalty': 'l2'}, {'C': 0.8, 'penalty': 'l1'}, {'C': 0.9, 'penalty': 'l2'}, {'C': 0.9, 'penalty': 'l1'}, {'C': 1.0, 'penalty': 'l2'}, {'C': 1.0, 'penalty': 'l1'}], 'split0_test_score': array([0.58575616,        nan, 0.58631304,        nan, 0.59210192,\n",
      "              nan, 0.59092397,        nan, 0.59060059,        nan,\n",
      "       0.58987937,        nan, 0.58996403,        nan, 0.59060891,\n",
      "              nan, 0.59014888,        nan, 0.59264289,        nan]), 'split1_test_score': array([0.59619369,        nan, 0.59778625,        nan, 0.5976593 ,\n",
      "              nan, 0.59806237,        nan, 0.59806237,        nan,\n",
      "       0.5977443 ,        nan, 0.60042476,        nan, 0.60018528,\n",
      "              nan, 0.60018528,        nan, 0.59938788,        nan]), 'split2_test_score': array([0.58770319,        nan, 0.59266248,        nan, 0.59763558,\n",
      "              nan, 0.59674971,        nan, 0.5962074 ,        nan,\n",
      "       0.59449443,        nan, 0.59769098,        nan, 0.59533903,\n",
      "              nan, 0.59598916,        nan, 0.59236488,        nan]), 'split3_test_score': array([0.59815996,        nan, 0.60025666,        nan, 0.60233724,\n",
      "              nan, 0.60141794,        nan, 0.60068696,        nan,\n",
      "       0.59968175,        nan, 0.5990852 ,        nan, 0.59886498,\n",
      "              nan, 0.5980178 ,        nan, 0.60057302,        nan]), 'split4_test_score': array([0.58471689,        nan, 0.59104729,        nan, 0.5884049 ,\n",
      "              nan, 0.58874852,        nan, 0.58776058,        nan,\n",
      "       0.58731814,        nan, 0.58740234,        nan, 0.58766565,\n",
      "              nan, 0.58658207,        nan, 0.58753149,        nan]), 'mean_test_score': array([0.59050598,        nan, 0.59361314,        nan, 0.59562779,\n",
      "              nan, 0.5951805 ,        nan, 0.59466358,        nan,\n",
      "       0.5938236 ,        nan, 0.59491346,        nan, 0.59453277,\n",
      "              nan, 0.59418464,        nan, 0.59450003,        nan]), 'std_test_score': array([0.00556531,        nan, 0.00494631,        nan, 0.00485339,\n",
      "              nan, 0.00467251,        nan, 0.00478279,        nan,\n",
      "       0.00464796,        nan, 0.00522315,        nan, 0.00477332,\n",
      "              nan, 0.0050605 ,        nan, 0.00484439,        nan]), 'rank_test_score': array([10, 18,  9, 17,  1, 16,  2, 15,  4, 14,  8, 19,  3, 13,  5, 12,  7,\n",
      "       11,  6, 20], dtype=int32)}\n",
      "0.603986493706082\n"
     ]
    },
    {
     "name": "stderr",
     "output_type": "stream",
     "text": [
      "/Users/zeerakw/.virtualenvs/mtl/lib/python3.8/site-packages/sklearn/svm/_base.py:976: ConvergenceWarning: Liblinear failed to converge, increase the number of iterations.\n",
      "  warnings.warn(\"Liblinear failed to converge, increase \"\n",
      "/Users/zeerakw/.virtualenvs/mtl/lib/python3.8/site-packages/sklearn/utils/validation.py:68: FutureWarning: Pass scoring=f1_macro as keyword args. From version 0.25 passing these as positional arguments will result in an error\n",
      "  warnings.warn(\"Pass {} as keyword args. From version 0.25 \"\n"
     ]
    },
    {
     "name": "stdout",
     "output_type": "stream",
     "text": [
      "{'C': 1.0, 'penalty': 'l2'}\n",
      "{'mean_fit_time': array([55.69628215,  0.25213537, 63.83984089,  0.1855238 , 76.62632122,\n",
      "        0.60963187, 66.66269536,  0.2319716 , 74.40438781,  0.17893238,\n",
      "       78.14436193,  0.23507853, 79.74303231,  0.24891424, 64.26930132,\n",
      "        0.17939939, 58.90564299,  0.19378762, 48.84591475,  0.19888792]), 'std_fit_time': array([3.60094311e-01, 8.12271224e-02, 6.78500842e+00, 8.00881794e-03,\n",
      "       3.72412371e+00, 9.90729372e-02, 1.44715462e+00, 7.96954517e-02,\n",
      "       1.04831272e+00, 2.53863626e-02, 1.38385318e+00, 3.87474864e-02,\n",
      "       1.52673991e+00, 5.87662993e-02, 7.73226544e+00, 6.52010909e-03,\n",
      "       1.44151255e+00, 6.32561180e-03, 9.75767203e+00, 8.72757062e-03]), 'mean_score_time': array([0.05633082, 0.        , 0.05154085, 0.        , 0.04037571,\n",
      "       0.        , 0.0466598 , 0.        , 0.0538826 , 0.        ,\n",
      "       0.08990045, 0.        , 0.06643376, 0.        , 0.04421535,\n",
      "       0.        , 0.05794539, 0.        , 0.03411369, 0.        ]), 'std_score_time': array([0.01738954, 0.        , 0.0093811 , 0.        , 0.00587179,\n",
      "       0.        , 0.01622476, 0.        , 0.02149212, 0.        ,\n",
      "       0.05230672, 0.        , 0.04403285, 0.        , 0.01340073,\n",
      "       0.        , 0.0162875 , 0.        , 0.01295336, 0.        ]), 'param_C': masked_array(data=[0.1, 0.1, 0.2, 0.2, 0.3, 0.3, 0.4, 0.4, 0.5, 0.5, 0.6,\n",
      "                   0.6, 0.7, 0.7, 0.8, 0.8, 0.9, 0.9, 1.0, 1.0],\n",
      "             mask=[False, False, False, False, False, False, False, False,\n",
      "                   False, False, False, False, False, False, False, False,\n",
      "                   False, False, False, False],\n",
      "       fill_value='?',\n",
      "            dtype=object), 'param_penalty': masked_array(data=['l2', 'l1', 'l2', 'l1', 'l2', 'l1', 'l2', 'l1', 'l2',\n",
      "                   'l1', 'l2', 'l1', 'l2', 'l1', 'l2', 'l1', 'l2', 'l1',\n",
      "                   'l2', 'l1'],\n",
      "             mask=[False, False, False, False, False, False, False, False,\n",
      "                   False, False, False, False, False, False, False, False,\n",
      "                   False, False, False, False],\n",
      "       fill_value='?',\n",
      "            dtype=object), 'params': [{'C': 0.1, 'penalty': 'l2'}, {'C': 0.1, 'penalty': 'l1'}, {'C': 0.2, 'penalty': 'l2'}, {'C': 0.2, 'penalty': 'l1'}, {'C': 0.3, 'penalty': 'l2'}, {'C': 0.3, 'penalty': 'l1'}, {'C': 0.4, 'penalty': 'l2'}, {'C': 0.4, 'penalty': 'l1'}, {'C': 0.5, 'penalty': 'l2'}, {'C': 0.5, 'penalty': 'l1'}, {'C': 0.6, 'penalty': 'l2'}, {'C': 0.6, 'penalty': 'l1'}, {'C': 0.7, 'penalty': 'l2'}, {'C': 0.7, 'penalty': 'l1'}, {'C': 0.8, 'penalty': 'l2'}, {'C': 0.8, 'penalty': 'l1'}, {'C': 0.9, 'penalty': 'l2'}, {'C': 0.9, 'penalty': 'l1'}, {'C': 1.0, 'penalty': 'l2'}, {'C': 1.0, 'penalty': 'l1'}], 'split0_test_score': array([0.82893143,        nan, 0.83627761,        nan, 0.84099393,\n",
      "              nan, 0.84216756,        nan, 0.84491319,        nan,\n",
      "       0.84267269,        nan, 0.84425962,        nan, 0.84785274,\n",
      "              nan, 0.8459491 ,        nan, 0.8494891 ,        nan]), 'split1_test_score': array([0.8336915 ,        nan, 0.84127814,        nan, 0.84294193,\n",
      "              nan, 0.84653871,        nan, 0.84906746,        nan,\n",
      "       0.84949021,        nan, 0.814389  ,        nan, 0.85039686,\n",
      "              nan, 0.84931662,        nan, 0.85262221,        nan]), 'split2_test_score': array([0.85416726,        nan, 0.86046115,        nan, 0.85963472,\n",
      "              nan, 0.85996235,        nan, 0.86581496,        nan,\n",
      "       0.86495954,        nan, 0.86437807,        nan, 0.86762482,\n",
      "              nan, 0.86746246,        nan, 0.86578015,        nan]), 'split3_test_score': array([0.83180357,        nan, 0.8353334 ,        nan, 0.8418222 ,\n",
      "              nan, 0.84241924,        nan, 0.84282057,        nan,\n",
      "       0.84475248,        nan, 0.84418324,        nan, 0.84617974,\n",
      "              nan, 0.84616373,        nan, 0.84251116,        nan]), 'split4_test_score': array([0.83297155,        nan, 0.83948714,        nan, 0.84190657,\n",
      "              nan, 0.84470281,        nan, 0.84731445,        nan,\n",
      "       0.8470002 ,        nan, 0.84790031,        nan, 0.83406049,\n",
      "              nan, 0.84778248,        nan, 0.84935497,        nan]), 'mean_test_score': array([0.83631306,        nan, 0.84256749,        nan, 0.84545987,\n",
      "              nan, 0.84715814,        nan, 0.84998613,        nan,\n",
      "       0.84977502,        nan, 0.84302205,        nan, 0.84922293,\n",
      "              nan, 0.85133488,        nan, 0.85195152,        nan]), 'std_test_score': array([0.00907342,        nan, 0.00920031,        nan, 0.00711435,\n",
      "              nan, 0.00659884,        nan, 0.00819285,        nan,\n",
      "       0.00792489,        nan, 0.01614068,        nan, 0.01078003,\n",
      "              nan, 0.00815523,        nan, 0.00766299,        nan]), 'rank_test_score': array([10, 18,  9, 17,  7, 16,  6, 15,  3, 14,  4, 19,  8, 13,  5, 12,  2,\n",
      "       11,  1, 20], dtype=int32)}\n",
      "0.8511206711088369\n"
     ]
    },
    {
     "name": "stderr",
     "output_type": "stream",
     "text": [
      "/Users/zeerakw/.virtualenvs/mtl/lib/python3.8/site-packages/sklearn/svm/_base.py:976: ConvergenceWarning: Liblinear failed to converge, increase the number of iterations.\n",
      "  warnings.warn(\"Liblinear failed to converge, increase \"\n",
      "/Users/zeerakw/.virtualenvs/mtl/lib/python3.8/site-packages/sklearn/utils/validation.py:68: FutureWarning: Pass scoring=f1_macro as keyword args. From version 0.25 passing these as positional arguments will result in an error\n",
      "  warnings.warn(\"Pass {} as keyword args. From version 0.25 \"\n"
     ]
    },
    {
     "name": "stdout",
     "output_type": "stream",
     "text": [
      "{'C': 1.0, 'penalty': 'l2'}\n",
      "{'mean_fit_time': array([2.24327564, 0.00959058, 1.90708361, 0.02920766, 1.76332822,\n",
      "       0.00707002, 1.72876897, 0.01307216, 1.99371867, 0.00740643,\n",
      "       1.76415563, 0.01031499, 1.95682993, 0.0083437 , 1.61717157,\n",
      "       0.00824547, 1.94269567, 0.00879421, 1.65064902, 0.00705719]), 'std_fit_time': array([1.58063866e-01, 4.34642876e-03, 8.94567593e-02, 2.38243128e-02,\n",
      "       4.06098251e-02, 8.08003602e-04, 2.59331844e-02, 5.47717356e-03,\n",
      "       2.14102799e-01, 1.33197139e-03, 1.19650363e-01, 2.18250378e-03,\n",
      "       1.64591770e-01, 1.29031737e-03, 1.74356782e-01, 1.41755048e-03,\n",
      "       1.98131480e-02, 2.67305108e-03, 5.20964978e-01, 6.40758082e-05]), 'mean_score_time': array([0.00408907, 0.        , 0.00662804, 0.        , 0.00360541,\n",
      "       0.        , 0.00662489, 0.        , 0.00485826, 0.        ,\n",
      "       0.01092811, 0.        , 0.00480103, 0.        , 0.00349426,\n",
      "       0.        , 0.00684981, 0.        , 0.00308299, 0.        ]), 'std_score_time': array([0.00146232, 0.        , 0.00469538, 0.        , 0.00039859,\n",
      "       0.        , 0.00555585, 0.        , 0.0018082 , 0.        ,\n",
      "       0.01372565, 0.        , 0.00119922, 0.        , 0.00118191,\n",
      "       0.        , 0.00496228, 0.        , 0.00080975, 0.        ]), 'param_C': masked_array(data=[0.1, 0.1, 0.2, 0.2, 0.3, 0.3, 0.4, 0.4, 0.5, 0.5, 0.6,\n",
      "                   0.6, 0.7, 0.7, 0.8, 0.8, 0.9, 0.9, 1.0, 1.0],\n",
      "             mask=[False, False, False, False, False, False, False, False,\n",
      "                   False, False, False, False, False, False, False, False,\n",
      "                   False, False, False, False],\n",
      "       fill_value='?',\n",
      "            dtype=object), 'param_penalty': masked_array(data=['l2', 'l1', 'l2', 'l1', 'l2', 'l1', 'l2', 'l1', 'l2',\n",
      "                   'l1', 'l2', 'l1', 'l2', 'l1', 'l2', 'l1', 'l2', 'l1',\n",
      "                   'l2', 'l1'],\n",
      "             mask=[False, False, False, False, False, False, False, False,\n",
      "                   False, False, False, False, False, False, False, False,\n",
      "                   False, False, False, False],\n",
      "       fill_value='?',\n",
      "            dtype=object), 'params': [{'C': 0.1, 'penalty': 'l2'}, {'C': 0.1, 'penalty': 'l1'}, {'C': 0.2, 'penalty': 'l2'}, {'C': 0.2, 'penalty': 'l1'}, {'C': 0.3, 'penalty': 'l2'}, {'C': 0.3, 'penalty': 'l1'}, {'C': 0.4, 'penalty': 'l2'}, {'C': 0.4, 'penalty': 'l1'}, {'C': 0.5, 'penalty': 'l2'}, {'C': 0.5, 'penalty': 'l1'}, {'C': 0.6, 'penalty': 'l2'}, {'C': 0.6, 'penalty': 'l1'}, {'C': 0.7, 'penalty': 'l2'}, {'C': 0.7, 'penalty': 'l1'}, {'C': 0.8, 'penalty': 'l2'}, {'C': 0.8, 'penalty': 'l1'}, {'C': 0.9, 'penalty': 'l2'}, {'C': 0.9, 'penalty': 'l1'}, {'C': 1.0, 'penalty': 'l2'}, {'C': 1.0, 'penalty': 'l1'}], 'split0_test_score': array([0.35275045,        nan, 0.38792387,        nan, 0.38951436,\n",
      "              nan, 0.39340365,        nan, 0.39492274,        nan,\n",
      "       0.39379148,        nan, 0.39419992,        nan, 0.41544487,\n",
      "              nan, 0.41489918,        nan, 0.41501648,        nan]), 'split1_test_score': array([0.32256653,        nan, 0.32792563,        nan, 0.32601752,\n",
      "              nan, 0.32396556,        nan, 0.322139  ,        nan,\n",
      "       0.32451829,        nan, 0.32645949,        nan, 0.32451829,\n",
      "              nan, 0.32588731,        nan, 0.32957099,        nan]), 'split2_test_score': array([0.28625676,        nan, 0.32414014,        nan, 0.32682406,\n",
      "              nan, 0.32934114,        nan, 0.32615971,        nan,\n",
      "       0.32477606,        nan, 0.32786592,        nan, 0.32957493,\n",
      "              nan, 0.32875546,        nan, 0.32680673,        nan]), 'split3_test_score': array([0.35373843,        nan, 0.37672532,        nan, 0.37101117,\n",
      "              nan, 0.43531275,        nan, 0.43974574,        nan,\n",
      "       0.43570059,        nan, 0.4351497 ,        nan, 0.43050878,\n",
      "              nan, 0.43050878,        nan, 0.42922139,        nan]), 'split4_test_score': array([0.33060012,        nan, 0.32868846,        nan, 0.33133781,\n",
      "              nan, 0.3759102 ,        nan, 0.36590438,        nan,\n",
      "       0.38772415,        nan, 0.38592421,        nan, 0.37841213,\n",
      "              nan, 0.37764116,        nan, 0.38004468,        nan]), 'mean_test_score': array([0.32918246,        nan, 0.34908068,        nan, 0.34894098,\n",
      "              nan, 0.37158666,        nan, 0.36977431,        nan,\n",
      "       0.37330212,        nan, 0.37391985,        nan, 0.3756918 ,\n",
      "              nan, 0.37553838,        nan, 0.37613205,        nan]), 'std_test_score': array([0.02468539,        nan, 0.02741689,        nan, 0.02629756,\n",
      "              nan, 0.04149251,        nan, 0.04407897,        nan,\n",
      "       0.04302562,        nan, 0.04166037,        nan, 0.04321597,\n",
      "              nan, 0.04296349,        nan, 0.0423006 ,        nan]), 'rank_test_score': array([10, 18,  8, 17,  9, 16,  6, 15,  7, 14,  5, 19,  4, 13,  2, 12,  3,\n",
      "       11,  1, 20], dtype=int32)}\n",
      "0.40699774332867855\n"
     ]
    },
    {
     "name": "stderr",
     "output_type": "stream",
     "text": [
      "/Users/zeerakw/.virtualenvs/mtl/lib/python3.8/site-packages/sklearn/svm/_base.py:976: ConvergenceWarning: Liblinear failed to converge, increase the number of iterations.\n",
      "  warnings.warn(\"Liblinear failed to converge, increase \"\n",
      "/Users/zeerakw/.virtualenvs/mtl/lib/python3.8/site-packages/sklearn/utils/validation.py:68: FutureWarning: Pass scoring=f1_macro as keyword args. From version 0.25 passing these as positional arguments will result in an error\n",
      "  warnings.warn(\"Pass {} as keyword args. From version 0.25 \"\n"
     ]
    },
    {
     "name": "stdout",
     "output_type": "stream",
     "text": [
      "{'C': 0.1, 'penalty': 'l2'}\n",
      "{'mean_fit_time': array([12.97477813,  0.0381506 , 12.11027093,  0.02029305, 13.17171435,\n",
      "        0.01959596, 12.92761273,  0.01848063, 15.04039054,  0.02043619,\n",
      "       16.17210531,  0.03148255, 14.80920057,  0.02954097, 16.67775869,\n",
      "        0.02005763, 14.50931048,  0.03337588, 11.07272887,  0.02152839]), 'std_fit_time': array([7.83911241e-01, 2.26141781e-02, 9.45556210e-01, 3.37605230e-03,\n",
      "       2.84809301e-01, 1.70168293e-03, 2.05999042e-01, 1.61261343e-03,\n",
      "       9.90879561e-01, 4.15567189e-03, 1.84463402e+00, 1.12988402e-02,\n",
      "       3.61026279e-01, 5.65189140e-03, 6.86465136e-01, 5.91207895e-03,\n",
      "       7.04708150e-01, 1.29484843e-02, 2.95533807e+00, 1.97838737e-03]), 'mean_score_time': array([0.00790663, 0.        , 0.01156502, 0.        , 0.00722289,\n",
      "       0.        , 0.01064177, 0.        , 0.01203675, 0.        ,\n",
      "       0.01151433, 0.        , 0.00800228, 0.        , 0.01036158,\n",
      "       0.        , 0.00970321, 0.        , 0.00826025, 0.        ]), 'std_score_time': array([0.00273885, 0.        , 0.00371022, 0.        , 0.00148351,\n",
      "       0.        , 0.00637134, 0.        , 0.00931343, 0.        ,\n",
      "       0.00599289, 0.        , 0.00249651, 0.        , 0.0068328 ,\n",
      "       0.        , 0.0052148 , 0.        , 0.00545549, 0.        ]), 'param_C': masked_array(data=[0.1, 0.1, 0.2, 0.2, 0.3, 0.3, 0.4, 0.4, 0.5, 0.5, 0.6,\n",
      "                   0.6, 0.7, 0.7, 0.8, 0.8, 0.9, 0.9, 1.0, 1.0],\n",
      "             mask=[False, False, False, False, False, False, False, False,\n",
      "                   False, False, False, False, False, False, False, False,\n",
      "                   False, False, False, False],\n",
      "       fill_value='?',\n",
      "            dtype=object), 'param_penalty': masked_array(data=['l2', 'l1', 'l2', 'l1', 'l2', 'l1', 'l2', 'l1', 'l2',\n",
      "                   'l1', 'l2', 'l1', 'l2', 'l1', 'l2', 'l1', 'l2', 'l1',\n",
      "                   'l2', 'l1'],\n",
      "             mask=[False, False, False, False, False, False, False, False,\n",
      "                   False, False, False, False, False, False, False, False,\n",
      "                   False, False, False, False],\n",
      "       fill_value='?',\n",
      "            dtype=object), 'params': [{'C': 0.1, 'penalty': 'l2'}, {'C': 0.1, 'penalty': 'l1'}, {'C': 0.2, 'penalty': 'l2'}, {'C': 0.2, 'penalty': 'l1'}, {'C': 0.3, 'penalty': 'l2'}, {'C': 0.3, 'penalty': 'l1'}, {'C': 0.4, 'penalty': 'l2'}, {'C': 0.4, 'penalty': 'l1'}, {'C': 0.5, 'penalty': 'l2'}, {'C': 0.5, 'penalty': 'l1'}, {'C': 0.6, 'penalty': 'l2'}, {'C': 0.6, 'penalty': 'l1'}, {'C': 0.7, 'penalty': 'l2'}, {'C': 0.7, 'penalty': 'l1'}, {'C': 0.8, 'penalty': 'l2'}, {'C': 0.8, 'penalty': 'l1'}, {'C': 0.9, 'penalty': 'l2'}, {'C': 0.9, 'penalty': 'l1'}, {'C': 1.0, 'penalty': 'l2'}, {'C': 1.0, 'penalty': 'l1'}], 'split0_test_score': array([0.70483743,        nan, 0.7052172 ,        nan, 0.69972008,\n",
      "              nan, 0.7002222 ,        nan, 0.7005588 ,        nan,\n",
      "       0.69932805,        nan, 0.69965979,        nan, 0.69857446,\n",
      "              nan, 0.70002477,        nan, 0.6939861 ,        nan]), 'split1_test_score': array([0.67539726,        nan, 0.67193763,        nan, 0.67361983,\n",
      "              nan, 0.6723637 ,        nan, 0.67087262,        nan,\n",
      "       0.66986659,        nan, 0.67161885,        nan, 0.67064338,\n",
      "              nan, 0.66806451,        nan, 0.6706608 ,        nan]), 'split2_test_score': array([0.66721513,        nan, 0.66450301,        nan, 0.6629076 ,\n",
      "              nan, 0.66479352,        nan, 0.66434592,        nan,\n",
      "       0.66327081,        nan, 0.66287493,        nan, 0.66903542,\n",
      "              nan, 0.66259886,        nan, 0.66147111,        nan]), 'split3_test_score': array([0.69209919,        nan, 0.69176688,        nan, 0.69506254,\n",
      "              nan, 0.69303349,        nan, 0.69112703,        nan,\n",
      "       0.68997158,        nan, 0.69003787,        nan, 0.69094977,\n",
      "              nan, 0.68851119,        nan, 0.68909294,        nan]), 'split4_test_score': array([0.68204277,        nan, 0.67985645,        nan, 0.6755659 ,\n",
      "              nan, 0.67252505,        nan, 0.6725626 ,        nan,\n",
      "       0.67204943,        nan, 0.67142359,        nan, 0.67265462,\n",
      "              nan, 0.67360303,        nan, 0.67232567,        nan]), 'mean_test_score': array([0.68431836,        nan, 0.68265623,        nan, 0.68137519,\n",
      "              nan, 0.68058759,        nan, 0.67989339,        nan,\n",
      "       0.67889729,        nan, 0.67912301,        nan, 0.68037153,\n",
      "              nan, 0.67856047,        nan, 0.67750732,        nan]), 'std_test_score': array([0.01310617,        nan, 0.01445177,        nan, 0.01384792,\n",
      "              nan, 0.01358314,        nan, 0.01363886,        nan,\n",
      "       0.01351066,        nan, 0.01356825,        nan, 0.01204941,\n",
      "              nan, 0.01377859,        nan, 0.01213805,        nan]), 'rank_test_score': array([ 1, 18,  2, 17,  3, 16,  4, 15,  6, 14,  8, 19,  7, 13,  5, 12,  9,\n",
      "       11, 10, 20], dtype=int32)}\n",
      "0.6838470399446009\n"
     ]
    },
    {
     "name": "stderr",
     "output_type": "stream",
     "text": [
      "/Users/zeerakw/.virtualenvs/mtl/lib/python3.8/site-packages/sklearn/svm/_base.py:976: ConvergenceWarning: Liblinear failed to converge, increase the number of iterations.\n",
      "  warnings.warn(\"Liblinear failed to converge, increase \"\n",
      "/Users/zeerakw/.virtualenvs/mtl/lib/python3.8/site-packages/sklearn/utils/validation.py:68: FutureWarning: Pass scoring=f1_macro as keyword args. From version 0.25 passing these as positional arguments will result in an error\n",
      "  warnings.warn(\"Pass {} as keyword args. From version 0.25 \"\n"
     ]
    },
    {
     "name": "stdout",
     "output_type": "stream",
     "text": [
      "{'C': 0.1, 'penalty': 'l2'}\n",
      "{'mean_fit_time': array([4.58238087, 0.01713405, 4.1241251 , 0.01586914, 4.44014058,\n",
      "       0.01344218, 4.01654706, 0.02592564, 4.64661512, 0.01388302,\n",
      "       3.72182269, 0.03598547, 3.33433976, 0.01393118, 3.63953056,\n",
      "       0.0145853 , 3.42683735, 0.01410494, 2.73689551, 0.01271825]), 'std_fit_time': array([0.44469162, 0.00480702, 0.64538645, 0.00134338, 0.38463339,\n",
      "       0.00156036, 0.07961928, 0.01813588, 0.47561654, 0.00310987,\n",
      "       0.17300679, 0.01926575, 0.03312228, 0.00233368, 0.2155407 ,\n",
      "       0.00359683, 0.11027463, 0.00229637, 0.56844934, 0.0024293 ]), 'mean_score_time': array([0.00580153, 0.        , 0.00944586, 0.        , 0.00767999,\n",
      "       0.        , 0.00779815, 0.        , 0.00642719, 0.        ,\n",
      "       0.00517664, 0.        , 0.00557785, 0.        , 0.00406899,\n",
      "       0.        , 0.00432558, 0.        , 0.00444021, 0.        ]), 'std_score_time': array([0.00176428, 0.        , 0.00549767, 0.        , 0.00274834,\n",
      "       0.        , 0.00529648, 0.        , 0.0029059 , 0.        ,\n",
      "       0.00104585, 0.        , 0.0008079 , 0.        , 0.00085186,\n",
      "       0.        , 0.00035837, 0.        , 0.00098556, 0.        ]), 'param_C': masked_array(data=[0.1, 0.1, 0.2, 0.2, 0.3, 0.3, 0.4, 0.4, 0.5, 0.5, 0.6,\n",
      "                   0.6, 0.7, 0.7, 0.8, 0.8, 0.9, 0.9, 1.0, 1.0],\n",
      "             mask=[False, False, False, False, False, False, False, False,\n",
      "                   False, False, False, False, False, False, False, False,\n",
      "                   False, False, False, False],\n",
      "       fill_value='?',\n",
      "            dtype=object), 'param_penalty': masked_array(data=['l2', 'l1', 'l2', 'l1', 'l2', 'l1', 'l2', 'l1', 'l2',\n",
      "                   'l1', 'l2', 'l1', 'l2', 'l1', 'l2', 'l1', 'l2', 'l1',\n",
      "                   'l2', 'l1'],\n",
      "             mask=[False, False, False, False, False, False, False, False,\n",
      "                   False, False, False, False, False, False, False, False,\n",
      "                   False, False, False, False],\n",
      "       fill_value='?',\n",
      "            dtype=object), 'params': [{'C': 0.1, 'penalty': 'l2'}, {'C': 0.1, 'penalty': 'l1'}, {'C': 0.2, 'penalty': 'l2'}, {'C': 0.2, 'penalty': 'l1'}, {'C': 0.3, 'penalty': 'l2'}, {'C': 0.3, 'penalty': 'l1'}, {'C': 0.4, 'penalty': 'l2'}, {'C': 0.4, 'penalty': 'l1'}, {'C': 0.5, 'penalty': 'l2'}, {'C': 0.5, 'penalty': 'l1'}, {'C': 0.6, 'penalty': 'l2'}, {'C': 0.6, 'penalty': 'l1'}, {'C': 0.7, 'penalty': 'l2'}, {'C': 0.7, 'penalty': 'l1'}, {'C': 0.8, 'penalty': 'l2'}, {'C': 0.8, 'penalty': 'l1'}, {'C': 0.9, 'penalty': 'l2'}, {'C': 0.9, 'penalty': 'l1'}, {'C': 1.0, 'penalty': 'l2'}, {'C': 1.0, 'penalty': 'l1'}], 'split0_test_score': array([0.6712287 ,        nan, 0.67617822,        nan, 0.6701164 ,\n",
      "              nan, 0.67074032,        nan, 0.64172955,        nan,\n",
      "       0.66872592,        nan, 0.66082208,        nan, 0.66222234,\n",
      "              nan, 0.66097409,        nan, 0.66564558,        nan]), 'split1_test_score': array([0.68895063,        nan, 0.68582974,        nan, 0.69282414,\n",
      "              nan, 0.6823935 ,        nan, 0.68559181,        nan,\n",
      "       0.69002683,        nan, 0.6942448 ,        nan, 0.69198195,\n",
      "              nan, 0.68889241,        nan, 0.68774288,        nan]), 'split2_test_score': array([0.68563429,        nan, 0.68472306,        nan, 0.68326628,\n",
      "              nan, 0.6803802 ,        nan, 0.68028098,        nan,\n",
      "       0.68323233,        nan, 0.67908032,        nan, 0.65595937,\n",
      "              nan, 0.6777607 ,        nan, 0.67309079,        nan]), 'split3_test_score': array([0.69720721,        nan, 0.69681786,        nan, 0.69459559,\n",
      "              nan, 0.69511193,        nan, 0.69613019,        nan,\n",
      "       0.69747576,        nan, 0.69587843,        nan, 0.69740591,\n",
      "              nan, 0.6895313 ,        nan, 0.69569996,        nan]), 'split4_test_score': array([0.70435901,        nan, 0.70097155,        nan, 0.69461947,\n",
      "              nan, 0.69817494,        nan, 0.69218867,        nan,\n",
      "       0.68913804,        nan, 0.69353424,        nan, 0.68871437,\n",
      "              nan, 0.67137914,        nan, 0.69107772,        nan]), 'mean_test_score': array([0.68947597,        nan, 0.68890409,        nan, 0.68708437,\n",
      "              nan, 0.68536018,        nan, 0.67918424,        nan,\n",
      "       0.68571978,        nan, 0.68471197,        nan, 0.67925679,\n",
      "              nan, 0.67770753,        nan, 0.68265139,        nan]), 'std_test_score': array([0.0112185 ,        nan, 0.00891215,        nan, 0.00947239,\n",
      "              nan, 0.01006634,        nan, 0.01950074,        nan,\n",
      "       0.00962722,        nan, 0.01338536,        nan, 0.01681492,\n",
      "              nan, 0.01081631,        nan, 0.01138239,        nan]), 'rank_test_score': array([ 1, 18,  2, 17,  3, 16,  5, 15,  9, 14,  4, 19,  6, 13,  8, 12, 10,\n",
      "       11,  7, 20], dtype=int32)}\n",
      "0.6743333617917413\n"
     ]
    },
    {
     "name": "stderr",
     "output_type": "stream",
     "text": [
      "/Users/zeerakw/.virtualenvs/mtl/lib/python3.8/site-packages/sklearn/svm/_base.py:976: ConvergenceWarning: Liblinear failed to converge, increase the number of iterations.\n",
      "  warnings.warn(\"Liblinear failed to converge, increase \"\n",
      "/Users/zeerakw/.virtualenvs/mtl/lib/python3.8/site-packages/sklearn/utils/validation.py:68: FutureWarning: Pass scoring=f1_macro as keyword args. From version 0.25 passing these as positional arguments will result in an error\n",
      "  warnings.warn(\"Pass {} as keyword args. From version 0.25 \"\n"
     ]
    },
    {
     "name": "stdout",
     "output_type": "stream",
     "text": [
      "{'C': 0.3, 'penalty': 'l2'}\n",
      "{'mean_fit_time': array([3.53543921, 0.01672773, 3.68425088, 0.01531305, 3.88720894,\n",
      "       0.01707225, 4.0938097 , 0.02293282, 3.68964963, 0.02548442,\n",
      "       3.67218657, 0.01618829, 3.52622342, 0.01311178, 3.59285922,\n",
      "       0.01498094, 3.63496761, 0.01583076, 2.88470087, 0.02061772]), 'std_fit_time': array([0.05924973, 0.00440816, 0.10835778, 0.00418002, 0.10944199,\n",
      "       0.00500702, 0.18089942, 0.00728335, 0.13347695, 0.00834123,\n",
      "       0.09958468, 0.00210687, 0.0835226 , 0.00134729, 0.05315364,\n",
      "       0.00245   , 0.13521352, 0.00266028, 0.52479829, 0.00678749]), 'mean_score_time': array([0.006704  , 0.        , 0.00724583, 0.        , 0.00421119,\n",
      "       0.        , 0.00822425, 0.        , 0.00916715, 0.        ,\n",
      "       0.00677853, 0.        , 0.006635  , 0.        , 0.00571718,\n",
      "       0.        , 0.00762825, 0.        , 0.00554271, 0.        ]), 'std_score_time': array([0.00187541, 0.        , 0.00195052, 0.        , 0.00086251,\n",
      "       0.        , 0.00344832, 0.        , 0.00373912, 0.        ,\n",
      "       0.00135928, 0.        , 0.00207192, 0.        , 0.00077341,\n",
      "       0.        , 0.00380731, 0.        , 0.00180499, 0.        ]), 'param_C': masked_array(data=[0.1, 0.1, 0.2, 0.2, 0.3, 0.3, 0.4, 0.4, 0.5, 0.5, 0.6,\n",
      "                   0.6, 0.7, 0.7, 0.8, 0.8, 0.9, 0.9, 1.0, 1.0],\n",
      "             mask=[False, False, False, False, False, False, False, False,\n",
      "                   False, False, False, False, False, False, False, False,\n",
      "                   False, False, False, False],\n",
      "       fill_value='?',\n",
      "            dtype=object), 'param_penalty': masked_array(data=['l2', 'l1', 'l2', 'l1', 'l2', 'l1', 'l2', 'l1', 'l2',\n",
      "                   'l1', 'l2', 'l1', 'l2', 'l1', 'l2', 'l1', 'l2', 'l1',\n",
      "                   'l2', 'l1'],\n",
      "             mask=[False, False, False, False, False, False, False, False,\n",
      "                   False, False, False, False, False, False, False, False,\n",
      "                   False, False, False, False],\n",
      "       fill_value='?',\n",
      "            dtype=object), 'params': [{'C': 0.1, 'penalty': 'l2'}, {'C': 0.1, 'penalty': 'l1'}, {'C': 0.2, 'penalty': 'l2'}, {'C': 0.2, 'penalty': 'l1'}, {'C': 0.3, 'penalty': 'l2'}, {'C': 0.3, 'penalty': 'l1'}, {'C': 0.4, 'penalty': 'l2'}, {'C': 0.4, 'penalty': 'l1'}, {'C': 0.5, 'penalty': 'l2'}, {'C': 0.5, 'penalty': 'l1'}, {'C': 0.6, 'penalty': 'l2'}, {'C': 0.6, 'penalty': 'l1'}, {'C': 0.7, 'penalty': 'l2'}, {'C': 0.7, 'penalty': 'l1'}, {'C': 0.8, 'penalty': 'l2'}, {'C': 0.8, 'penalty': 'l1'}, {'C': 0.9, 'penalty': 'l2'}, {'C': 0.9, 'penalty': 'l1'}, {'C': 1.0, 'penalty': 'l2'}, {'C': 1.0, 'penalty': 'l1'}], 'split0_test_score': array([0.75791615,        nan, 0.76503489,        nan, 0.76766613,\n",
      "              nan, 0.76650502,        nan, 0.7705666 ,        nan,\n",
      "       0.76492953,        nan, 0.76483497,        nan, 0.76293147,\n",
      "              nan, 0.76530747,        nan, 0.77063307,        nan]), 'split1_test_score': array([0.71512179,        nan, 0.72002932,        nan, 0.71464817,\n",
      "              nan, 0.71105741,        nan, 0.71264562,        nan,\n",
      "       0.68464187,        nan, 0.7061267 ,        nan, 0.70840911,\n",
      "              nan, 0.69875477,        nan, 0.70669728,        nan]), 'split2_test_score': array([0.7342967 ,        nan, 0.73222887,        nan, 0.7307086 ,\n",
      "              nan, 0.72250919,        nan, 0.7176228 ,        nan,\n",
      "       0.72918476,        nan, 0.72842341,        nan, 0.71347666,\n",
      "              nan, 0.71548374,        nan, 0.72309066,        nan]), 'split3_test_score': array([0.73154396,        nan, 0.72617779,        nan, 0.72944295,\n",
      "              nan, 0.72650242,        nan, 0.72510052,        nan,\n",
      "       0.72297851,        nan, 0.72727803,        nan, 0.72358902,\n",
      "              nan, 0.72146807,        nan, 0.70711296,        nan]), 'split4_test_score': array([0.71686387,        nan, 0.71163421,        nan, 0.71923715,\n",
      "              nan, 0.71925875,        nan, 0.71966577,        nan,\n",
      "       0.71678495,        nan, 0.720507  ,        nan, 0.71573091,\n",
      "              nan, 0.70772167,        nan, 0.72118279,        nan]), 'mean_test_score': array([0.73114849,        nan, 0.73102102,        nan, 0.7323406 ,\n",
      "              nan, 0.72916656,        nan, 0.72912026,        nan,\n",
      "       0.72370393,        nan, 0.72943402,        nan, 0.72482743,\n",
      "              nan, 0.72174715,        nan, 0.72574335,        nan]), 'std_test_score': array([0.01541091,        nan, 0.01832226,        nan, 0.01867445,\n",
      "              nan, 0.01934779,        nan, 0.02110427,        nan,\n",
      "       0.02570538,        nan, 0.0194001 ,        nan, 0.01967028,\n",
      "              nan, 0.02307455,        nan, 0.02346387,        nan]), 'rank_test_score': array([ 2, 18,  3, 17,  1, 16,  5, 15,  6, 14,  9, 19,  4, 13,  8, 12, 10,\n",
      "       11,  7, 20], dtype=int32)}\n",
      "0.6938699862310114\n",
      "{'C': 1.0, 'penalty': 'l2'}\n",
      "{'mean_fit_time': array([1.03384323e+02, 4.18700695e-02, 1.14013393e+02, 3.69974613e-02,\n",
      "       1.30424628e+02, 4.68768597e-02, 1.50476418e+02, 3.91089916e-02,\n",
      "       1.37351884e+02, 4.46748257e-02, 1.55590449e+02, 3.24308395e-02,\n",
      "       1.28596207e+02, 3.21756840e-02, 1.06672784e+02, 2.88233757e-02,\n",
      "       1.13906850e+02, 5.10878563e-02, 9.32552349e+01, 4.41432953e-02]), 'std_fit_time': array([3.85761858e+00, 7.88725135e-03, 1.18833899e+00, 3.25029556e-03,\n",
      "       1.11468348e+01, 3.55608128e-03, 2.97098639e+00, 6.42794917e-03,\n",
      "       8.72581148e+00, 1.14156588e-02, 3.92035920e+00, 2.85920181e-03,\n",
      "       1.72156287e+01, 3.94156572e-03, 5.24418148e+00, 1.75066861e-03,\n",
      "       2.77802536e+00, 1.17767988e-02, 1.76605341e+01, 1.55012866e-02]), 'mean_score_time': array([0.01799569, 0.        , 0.01359291, 0.        , 0.01688466,\n",
      "       0.        , 0.02384996, 0.        , 0.03422642, 0.        ,\n",
      "       0.01542597, 0.        , 0.01558042, 0.        , 0.02486115,\n",
      "       0.        , 0.01900682, 0.        , 0.01420994, 0.        ]), 'std_score_time': array([0.00387035, 0.        , 0.00099049, 0.        , 0.00513138,\n",
      "       0.        , 0.01056119, 0.        , 0.02949843, 0.        ,\n",
      "       0.00355214, 0.        , 0.00401484, 0.        , 0.01654242,\n",
      "       0.        , 0.00880434, 0.        , 0.0053862 , 0.        ]), 'param_C': masked_array(data=[0.1, 0.1, 0.2, 0.2, 0.3, 0.3, 0.4, 0.4, 0.5, 0.5, 0.6,\n",
      "                   0.6, 0.7, 0.7, 0.8, 0.8, 0.9, 0.9, 1.0, 1.0],\n",
      "             mask=[False, False, False, False, False, False, False, False,\n",
      "                   False, False, False, False, False, False, False, False,\n",
      "                   False, False, False, False],\n",
      "       fill_value='?',\n",
      "            dtype=object), 'param_penalty': masked_array(data=['l2', 'l1', 'l2', 'l1', 'l2', 'l1', 'l2', 'l1', 'l2',\n",
      "                   'l1', 'l2', 'l1', 'l2', 'l1', 'l2', 'l1', 'l2', 'l1',\n",
      "                   'l2', 'l1'],\n",
      "             mask=[False, False, False, False, False, False, False, False,\n",
      "                   False, False, False, False, False, False, False, False,\n",
      "                   False, False, False, False],\n",
      "       fill_value='?',\n",
      "            dtype=object), 'params': [{'C': 0.1, 'penalty': 'l2'}, {'C': 0.1, 'penalty': 'l1'}, {'C': 0.2, 'penalty': 'l2'}, {'C': 0.2, 'penalty': 'l1'}, {'C': 0.3, 'penalty': 'l2'}, {'C': 0.3, 'penalty': 'l1'}, {'C': 0.4, 'penalty': 'l2'}, {'C': 0.4, 'penalty': 'l1'}, {'C': 0.5, 'penalty': 'l2'}, {'C': 0.5, 'penalty': 'l1'}, {'C': 0.6, 'penalty': 'l2'}, {'C': 0.6, 'penalty': 'l1'}, {'C': 0.7, 'penalty': 'l2'}, {'C': 0.7, 'penalty': 'l1'}, {'C': 0.8, 'penalty': 'l2'}, {'C': 0.8, 'penalty': 'l1'}, {'C': 0.9, 'penalty': 'l2'}, {'C': 0.9, 'penalty': 'l1'}, {'C': 1.0, 'penalty': 'l2'}, {'C': 1.0, 'penalty': 'l1'}], 'split0_test_score': array([0.34089036,        nan, 0.34583234,        nan, 0.34460104,\n",
      "              nan, 0.3461202 ,        nan, 0.34376708,        nan,\n",
      "       0.34508117,        nan, 0.34353082,        nan, 0.34460827,\n",
      "              nan, 0.34577179,        nan, 0.3468245 ,        nan]), 'split1_test_score': array([0.32915637,        nan, 0.33207952,        nan, 0.33935477,\n",
      "              nan, 0.34119672,        nan, 0.33878974,        nan,\n",
      "       0.34218582,        nan, 0.34202727,        nan, 0.34140818,\n",
      "              nan, 0.34410223,        nan, 0.34396762,        nan]), 'split2_test_score': array([0.35369189,        nan, 0.35712978,        nan, 0.35681344,\n",
      "              nan, 0.36107005,        nan, 0.36112827,        nan,\n",
      "       0.36110234,        nan, 0.3617642 ,        nan, 0.36187336,\n",
      "              nan, 0.36387102,        nan, 0.36272703,        nan]), 'split3_test_score': array([0.33064944,        nan, 0.33312205,        nan, 0.3319737 ,\n",
      "              nan, 0.33342511,        nan, 0.33312257,        nan,\n",
      "       0.33368171,        nan, 0.33266979,        nan, 0.33343187,\n",
      "              nan, 0.33497606,        nan, 0.33418315,        nan]), 'split4_test_score': array([0.34868156,        nan, 0.35219741,        nan, 0.35337395,\n",
      "              nan, 0.35481503,        nan, 0.3549801 ,        nan,\n",
      "       0.35491744,        nan, 0.35539387,        nan, 0.35295163,\n",
      "              nan, 0.35146145,        nan, 0.35515232,        nan]), 'mean_test_score': array([0.34061392,        nan, 0.34407222,        nan, 0.34522338,\n",
      "              nan, 0.34732542,        nan, 0.34635755,        nan,\n",
      "       0.3473937 ,        nan, 0.34707719,        nan, 0.34685466,\n",
      "              nan, 0.34803651,        nan, 0.34857092,        nan]), 'std_test_score': array([0.00966191,        nan, 0.01003342,        nan, 0.009068  ,\n",
      "              nan, 0.00976976,        nan, 0.01031183,        nan,\n",
      "       0.00964388,        nan, 0.01030075,        nan, 0.0097736 ,\n",
      "              nan, 0.00952517,        nan, 0.00974637,        nan]), 'rank_test_score': array([10, 18,  9, 17,  8, 16,  4, 15,  7, 14,  3, 19,  5, 13,  6, 12,  2,\n",
      "       11,  1, 20], dtype=int32)}\n",
      "0.31633187540854557\n"
     ]
    },
    {
     "name": "stderr",
     "output_type": "stream",
     "text": [
      "/Users/zeerakw/.virtualenvs/mtl/lib/python3.8/site-packages/sklearn/svm/_base.py:976: ConvergenceWarning: Liblinear failed to converge, increase the number of iterations.\n",
      "  warnings.warn(\"Liblinear failed to converge, increase \"\n"
     ]
    }
   ],
   "source": [
    "davidson_ensemble_model_liwc = train_model((davidson_ensemble_tr_liwc, [doc.label for doc in davidson_liwc.data]), \n",
    "                                      (davidson_ensemble_de_liwc, [doc.label for doc in davidson_liwc.dev]), \n",
    "                                      davidson_liwc, grid_search, davidson_ensemble_metrics_liwc)\n",
    "setattr(davidson_ensemble_model_liwc, 'name', 'davidson')\n",
    "wulczyn_ensemble_model_liwc = train_model((wulczyn_ensemble_tr_liwc, [doc.label for doc in wulczyn_liwc.data]), \n",
    "                                      (wulczyn_ensemble_de_liwc, [doc.label for doc in wulczyn_liwc.dev]), \n",
    "                                      wulczyn_liwc, grid_search, wulczyn_ensemble_metrics_liwc)\n",
    "setattr(wulczyn_ensemble_model_liwc, 'name', 'wulczyn')\n",
    "waseem_ensemble_model_liwc = train_model((waseem_ensemble_tr_liwc, [doc.label for doc in waseem_liwc.data]), \n",
    "                                    (waseem_ensemble_de_liwc, [doc.label for doc in waseem_liwc.dev]), \n",
    "                                    waseem_liwc, grid_search, waseem_ensemble_metrics_liwc)\n",
    "setattr(waseem_ensemble_model_liwc, 'name', 'waseem')\n",
    "waseem_hovy_ensemble_model_liwc = train_model((waseem_hovy_ensemble_tr_liwc, [doc.label for doc in waseem_hovy_liwc.data]), \n",
    "                                         (waseem_hovy_ensemble_de_liwc, [doc.label for doc in waseem_hovy_liwc.dev]), \n",
    "                                         waseem_hovy_liwc, grid_search, waseem_hovy_ensemble_metrics_liwc)\n",
    "setattr(waseem_hovy_ensemble_model_liwc, 'name', 'waseem-hovy')\n",
    "oraby_sarcasm_ensemble_model_liwc = train_model((oraby_sarcasm_ensemble_tr_liwc, [doc.label for doc in oraby_sarcasm_liwc.data]), \n",
    "                                           (oraby_sarcasm_ensemble_de_liwc, [doc.label for doc in oraby_sarcasm_liwc.dev]), \n",
    "                                           oraby_sarcasm_liwc, grid_search, oraby_sarcasm_ensemble_metrics_liwc)\n",
    "setattr(oraby_sarcasm_ensemble_model_liwc, 'name', 'oraby-sarcasm')\n",
    "oraby_factfeel_ensemble_model_liwc = train_model((oraby_factfeel_ensemble_tr_liwc, [doc.label for doc in oraby_factfeel_liwc.data]), \n",
    "                                            (oraby_factfeel_ensemble_de_liwc, [doc.label for doc in oraby_factfeel_liwc.dev]), \n",
    "                                            oraby_factfeel_liwc, grid_search, oraby_factfeel_ensemble_metrics_liwc)\n",
    "setattr(oraby_factfeel_ensemble_model_liwc, 'name', 'oraby-factfeel')\n",
    "hoover_ensemble_model_liwc = train_model((hoover_ensemble_tr_liwc, [doc.label for doc in hoover_liwc.data]), \n",
    "                                    (hoover_ensemble_de_liwc, [doc.label for doc in hoover_liwc.dev]), \n",
    "                                    hoover_liwc, grid_search, hoover_ensemble_metrics_liwc)\n",
    "setattr(hoover_ensemble_model_liwc, 'name', 'hoover')"
   ]
  },
  {
   "cell_type": "code",
   "execution_count": 38,
   "metadata": {},
   "outputs": [
    {
     "name": "stderr",
     "output_type": "stream",
     "text": [
      "/Users/zeerakw/.virtualenvs/mtl/lib/python3.8/site-packages/sklearn/utils/validation.py:68: FutureWarning: Pass scoring=f1_macro as keyword args. From version 0.25 passing these as positional arguments will result in an error\n",
      "  warnings.warn(\"Pass {} as keyword args. From version 0.25 \"\n"
     ]
    },
    {
     "name": "stdout",
     "output_type": "stream",
     "text": [
      "{'C': 0.6, 'penalty': 'l2'}\n",
      "{'mean_fit_time': array([2.71521821, 0.00884299, 1.63878584, 0.01243358, 1.67077003,\n",
      "       0.0097342 , 1.67319827, 0.01149225, 1.84931822, 0.01427402,\n",
      "       1.58491364, 0.01116638, 1.83908672, 0.01416445, 1.58663344,\n",
      "       0.00993214, 1.71305051, 0.01251993, 2.03678055, 0.01204429]), 'std_fit_time': array([5.56530568e-01, 1.83900664e-03, 1.16168335e-01, 2.72942904e-03,\n",
      "       1.58340243e-01, 2.72504255e-04, 1.69122161e-01, 2.65277629e-03,\n",
      "       1.67813565e-01, 4.22508466e-03, 7.11079582e-02, 6.88417344e-04,\n",
      "       1.42102219e-01, 7.02232197e-03, 2.01738138e-01, 7.92779550e-04,\n",
      "       1.58956328e-01, 9.27544966e-04, 2.66941399e-01, 2.29668733e-03]), 'mean_score_time': array([0.01005726, 0.        , 0.00752864, 0.        , 0.01057458,\n",
      "       0.        , 0.0072238 , 0.        , 0.00856991, 0.        ,\n",
      "       0.00829821, 0.        , 0.00775118, 0.        , 0.01647544,\n",
      "       0.        , 0.00905032, 0.        , 0.00711765, 0.        ]), 'std_score_time': array([0.00448923, 0.        , 0.00232142, 0.        , 0.0029305 ,\n",
      "       0.        , 0.00069568, 0.        , 0.00137476, 0.        ,\n",
      "       0.00110869, 0.        , 0.00065388, 0.        , 0.01742089,\n",
      "       0.        , 0.00206576, 0.        , 0.00292838, 0.        ]), 'param_C': masked_array(data=[0.1, 0.1, 0.2, 0.2, 0.3, 0.3, 0.4, 0.4, 0.5, 0.5, 0.6,\n",
      "                   0.6, 0.7, 0.7, 0.8, 0.8, 0.9, 0.9, 1.0, 1.0],\n",
      "             mask=[False, False, False, False, False, False, False, False,\n",
      "                   False, False, False, False, False, False, False, False,\n",
      "                   False, False, False, False],\n",
      "       fill_value='?',\n",
      "            dtype=object), 'param_penalty': masked_array(data=['l2', 'l1', 'l2', 'l1', 'l2', 'l1', 'l2', 'l1', 'l2',\n",
      "                   'l1', 'l2', 'l1', 'l2', 'l1', 'l2', 'l1', 'l2', 'l1',\n",
      "                   'l2', 'l1'],\n",
      "             mask=[False, False, False, False, False, False, False, False,\n",
      "                   False, False, False, False, False, False, False, False,\n",
      "                   False, False, False, False],\n",
      "       fill_value='?',\n",
      "            dtype=object), 'params': [{'C': 0.1, 'penalty': 'l2'}, {'C': 0.1, 'penalty': 'l1'}, {'C': 0.2, 'penalty': 'l2'}, {'C': 0.2, 'penalty': 'l1'}, {'C': 0.3, 'penalty': 'l2'}, {'C': 0.3, 'penalty': 'l1'}, {'C': 0.4, 'penalty': 'l2'}, {'C': 0.4, 'penalty': 'l1'}, {'C': 0.5, 'penalty': 'l2'}, {'C': 0.5, 'penalty': 'l1'}, {'C': 0.6, 'penalty': 'l2'}, {'C': 0.6, 'penalty': 'l1'}, {'C': 0.7, 'penalty': 'l2'}, {'C': 0.7, 'penalty': 'l1'}, {'C': 0.8, 'penalty': 'l2'}, {'C': 0.8, 'penalty': 'l1'}, {'C': 0.9, 'penalty': 'l2'}, {'C': 0.9, 'penalty': 'l1'}, {'C': 1.0, 'penalty': 'l2'}, {'C': 1.0, 'penalty': 'l1'}], 'split0_test_score': array([0.5424678 ,        nan, 0.54277896,        nan, 0.54288345,\n",
      "              nan, 0.54288345,        nan, 0.54288345,        nan,\n",
      "       0.54288345,        nan, 0.54288345,        nan, 0.54288345,\n",
      "              nan, 0.54288345,        nan, 0.54288345,        nan]), 'split1_test_score': array([0.54307326,        nan, 0.54301283,        nan, 0.54301283,\n",
      "              nan, 0.54301283,        nan, 0.54301283,        nan,\n",
      "       0.54301283,        nan, 0.54301283,        nan, 0.54301283,\n",
      "              nan, 0.54301283,        nan, 0.54301283,        nan]), 'split2_test_score': array([0.54417456,        nan, 0.54417456,        nan, 0.54417456,\n",
      "              nan, 0.54417456,        nan, 0.54417456,        nan,\n",
      "       0.54417456,        nan, 0.54417456,        nan, 0.54417456,\n",
      "              nan, 0.54417456,        nan, 0.54417456,        nan]), 'split3_test_score': array([0.54745636,        nan, 0.54745636,        nan, 0.54745636,\n",
      "              nan, 0.54739713,        nan, 0.54745636,        nan,\n",
      "       0.54739713,        nan, 0.54739713,        nan, 0.54739713,\n",
      "              nan, 0.54739713,        nan, 0.54739713,        nan]), 'split4_test_score': array([0.53930732,        nan, 0.53930732,        nan, 0.53930732,\n",
      "              nan, 0.53930732,        nan, 0.53930732,        nan,\n",
      "       0.54011755,        nan, 0.54011755,        nan, 0.54011755,\n",
      "              nan, 0.54011755,        nan, 0.54011755,        nan]), 'mean_test_score': array([0.54329586,        nan, 0.54334601,        nan, 0.5433669 ,\n",
      "              nan, 0.54335506,        nan, 0.5433669 ,        nan,\n",
      "       0.5435171 ,        nan, 0.5435171 ,        nan, 0.5435171 ,\n",
      "              nan, 0.5435171 ,        nan, 0.5435171 ,        nan]), 'std_test_score': array([0.00263536,        nan, 0.00262012,        nan, 0.00261593,\n",
      "              nan, 0.00259745,        nan, 0.00261593,        nan,\n",
      "       0.0023537 ,        nan, 0.0023537 ,        nan, 0.0023537 ,\n",
      "              nan, 0.0023537 ,        nan, 0.0023537 ,        nan]), 'rank_test_score': array([10, 18,  9, 17,  6, 16,  8, 15,  6, 14,  1, 19,  1, 13,  1, 12,  1,\n",
      "       11,  1, 20], dtype=int32)}\n",
      "0.036613272311212815\n"
     ]
    }
   ],
   "source": [
    "grid_search = {'penalty': ['l2', 'l1'], 'C': [0.1, 0.2, 0.3, 0.4, 0.5, 0.6, 0.7, 0.8, 0.9, 1.0]}\n",
    "davidson_ensemble_clfs_metrics_liwc = Metrics(['f1-score', 'accuracy', 'precision', 'recall'], 'f1-score')\n",
    "davidson_ensemble_clfs_liwc = [\n",
    "        (wulczyn_ensemble_model_liwc, wulczyn_ensemble_liwc_vect), (waseem_ensemble_model_liwc, waseem_ensemble_liwc_vect), \n",
    "        (waseem_hovy_ensemble_model_liwc, waseem_hovy_ensemble_liwc_vect),\n",
    "        (oraby_sarcasm_ensemble_model_liwc, oraby_sarcasm_ensemble_liwc_vect), \n",
    "        (oraby_factfeel_ensemble_model_liwc, oraby_factfeel_ensemble_liwc_vect),\n",
    "        (hoover_ensemble_model_liwc, hoover_ensemble_liwc_vect)]\n",
    "davidson_ensemble_trained_model_liwc = ensemble_train(davidson_ensemble_clfs_liwc, davidson_liwc.data, davidson_liwc.dev, \n",
    "                                                     davidson_liwc, grid_search, davidson_ensemble_clfs_metrics_liwc)"
   ]
  },
  {
   "cell_type": "code",
   "execution_count": 39,
   "metadata": {},
   "outputs": [
    {
     "name": "stderr",
     "output_type": "stream",
     "text": [
      "/Users/zeerakw/.virtualenvs/mtl/lib/python3.8/site-packages/sklearn/utils/validation.py:68: FutureWarning: Pass scoring=f1_macro as keyword args. From version 0.25 passing these as positional arguments will result in an error\n",
      "  warnings.warn(\"Pass {} as keyword args. From version 0.25 \"\n"
     ]
    },
    {
     "name": "stdout",
     "output_type": "stream",
     "text": [
      "{'C': 0.2, 'penalty': 'l2'}\n",
      "{'mean_fit_time': array([1.28065548, 0.00341773, 1.47213044, 0.00445943, 1.31903071,\n",
      "       0.00376592, 1.94360657, 0.00571036, 2.10430541, 0.00560899,\n",
      "       1.81234384, 0.00396123, 1.87842498, 0.00823088, 1.93760147,\n",
      "       0.00574808, 1.97921023, 0.00364795, 1.58411202, 0.00368776]), 'std_fit_time': array([1.66205880e-01, 5.96499023e-04, 2.25405212e-01, 6.34962533e-04,\n",
      "       1.04349310e-01, 4.07858493e-04, 2.51809676e-01, 2.08628600e-03,\n",
      "       3.02754728e-01, 2.74033927e-03, 1.88420599e-01, 7.84757766e-04,\n",
      "       4.64068879e-01, 6.96980560e-03, 4.65556391e-01, 1.69444158e-03,\n",
      "       2.21696353e-01, 6.35739028e-04, 1.51873515e-01, 5.10446875e-04]), 'mean_score_time': array([0.00371265, 0.        , 0.00320501, 0.        , 0.00434017,\n",
      "       0.        , 0.00441012, 0.        , 0.00425396, 0.        ,\n",
      "       0.00371695, 0.        , 0.00846291, 0.        , 0.00418224,\n",
      "       0.        , 0.00356913, 0.        , 0.0062233 , 0.        ]), 'std_score_time': array([1.96936390e-03, 0.00000000e+00, 6.63286143e-05, 0.00000000e+00,\n",
      "       1.36527080e-03, 0.00000000e+00, 1.16774007e-03, 0.00000000e+00,\n",
      "       4.68567148e-04, 0.00000000e+00, 1.63428063e-03, 0.00000000e+00,\n",
      "       3.65918107e-03, 0.00000000e+00, 1.15675049e-03, 0.00000000e+00,\n",
      "       7.62076158e-04, 0.00000000e+00, 3.14754840e-03, 0.00000000e+00]), 'param_C': masked_array(data=[0.1, 0.1, 0.2, 0.2, 0.3, 0.3, 0.4, 0.4, 0.5, 0.5, 0.6,\n",
      "                   0.6, 0.7, 0.7, 0.8, 0.8, 0.9, 0.9, 1.0, 1.0],\n",
      "             mask=[False, False, False, False, False, False, False, False,\n",
      "                   False, False, False, False, False, False, False, False,\n",
      "                   False, False, False, False],\n",
      "       fill_value='?',\n",
      "            dtype=object), 'param_penalty': masked_array(data=['l2', 'l1', 'l2', 'l1', 'l2', 'l1', 'l2', 'l1', 'l2',\n",
      "                   'l1', 'l2', 'l1', 'l2', 'l1', 'l2', 'l1', 'l2', 'l1',\n",
      "                   'l2', 'l1'],\n",
      "             mask=[False, False, False, False, False, False, False, False,\n",
      "                   False, False, False, False, False, False, False, False,\n",
      "                   False, False, False, False],\n",
      "       fill_value='?',\n",
      "            dtype=object), 'params': [{'C': 0.1, 'penalty': 'l2'}, {'C': 0.1, 'penalty': 'l1'}, {'C': 0.2, 'penalty': 'l2'}, {'C': 0.2, 'penalty': 'l1'}, {'C': 0.3, 'penalty': 'l2'}, {'C': 0.3, 'penalty': 'l1'}, {'C': 0.4, 'penalty': 'l2'}, {'C': 0.4, 'penalty': 'l1'}, {'C': 0.5, 'penalty': 'l2'}, {'C': 0.5, 'penalty': 'l1'}, {'C': 0.6, 'penalty': 'l2'}, {'C': 0.6, 'penalty': 'l1'}, {'C': 0.7, 'penalty': 'l2'}, {'C': 0.7, 'penalty': 'l1'}, {'C': 0.8, 'penalty': 'l2'}, {'C': 0.8, 'penalty': 'l1'}, {'C': 0.9, 'penalty': 'l2'}, {'C': 0.9, 'penalty': 'l1'}, {'C': 1.0, 'penalty': 'l2'}, {'C': 1.0, 'penalty': 'l1'}], 'split0_test_score': array([0.24535635,        nan, 0.24535635,        nan, 0.24535635,\n",
      "              nan, 0.24535635,        nan, 0.24535635,        nan,\n",
      "       0.24535635,        nan, 0.24535635,        nan, 0.24535635,\n",
      "              nan, 0.24535635,        nan, 0.24535635,        nan]), 'split1_test_score': array([0.2461771 ,        nan, 0.24945052,        nan, 0.24945052,\n",
      "              nan, 0.24945052,        nan, 0.24945052,        nan,\n",
      "       0.24945052,        nan, 0.24945052,        nan, 0.24945052,\n",
      "              nan, 0.24945052,        nan, 0.24945052,        nan]), 'split2_test_score': array([0.25369333,        nan, 0.25369333,        nan, 0.25369333,\n",
      "              nan, 0.25369333,        nan, 0.25369333,        nan,\n",
      "       0.25369333,        nan, 0.25369333,        nan, 0.25369333,\n",
      "              nan, 0.25369333,        nan, 0.25369333,        nan]), 'split3_test_score': array([0.25144184,        nan, 0.25144184,        nan, 0.25144184,\n",
      "              nan, 0.25144184,        nan, 0.25144184,        nan,\n",
      "       0.25144184,        nan, 0.25144184,        nan, 0.25144184,\n",
      "              nan, 0.25144184,        nan, 0.25144184,        nan]), 'split4_test_score': array([0.25642023,        nan, 0.25642023,        nan, 0.25642023,\n",
      "              nan, 0.25642023,        nan, 0.25642023,        nan,\n",
      "       0.25642023,        nan, 0.25642023,        nan, 0.25642023,\n",
      "              nan, 0.25642023,        nan, 0.25642023,        nan]), 'mean_test_score': array([0.25061777,        nan, 0.25127245,        nan, 0.25127245,\n",
      "              nan, 0.25127245,        nan, 0.25127245,        nan,\n",
      "       0.25127245,        nan, 0.25127245,        nan, 0.25127245,\n",
      "              nan, 0.25127245,        nan, 0.25127245,        nan]), 'std_test_score': array([0.00427104,        nan, 0.00376055,        nan, 0.00376055,\n",
      "              nan, 0.00376055,        nan, 0.00376055,        nan,\n",
      "       0.00376055,        nan, 0.00376055,        nan, 0.00376055,\n",
      "              nan, 0.00376055,        nan, 0.00376055,        nan]), 'rank_test_score': array([10, 18,  1, 17,  1, 16,  1, 15,  1, 14,  1, 19,  1, 13,  1, 12,  1,\n",
      "       11,  1, 20], dtype=int32)}\n",
      "0.22941176470588234\n"
     ]
    }
   ],
   "source": [
    "waseem_ensemble_clfs_metrics_liwc = Metrics(['f1-score', 'accuracy', 'precision', 'recall'], 'f1-score')\n",
    "waseem_ensemble_clfs_liwc = [\n",
    "        (wulczyn_ensemble_model_liwc, wulczyn_ensemble_liwc_vect), (davidson_ensemble_model_liwc, davidson_ensemble_liwc_vect), \n",
    "        (waseem_hovy_ensemble_model_liwc, waseem_hovy_ensemble_liwc_vect),\n",
    "        (oraby_sarcasm_ensemble_model_liwc, oraby_sarcasm_ensemble_liwc_vect), (oraby_factfeel_ensemble_model_liwc, oraby_factfeel_ensemble_liwc_vect),\n",
    "        (hoover_ensemble_model_liwc, hoover_ensemble_liwc_vect)]\n",
    "waseem_ensemble_trained_model_liwc = ensemble_train(waseem_ensemble_clfs_liwc, waseem_liwc.data, waseem_liwc.dev, \n",
    "                                                   waseem_liwc, grid_search, waseem_ensemble_clfs_metrics_liwc)"
   ]
  },
  {
   "cell_type": "code",
   "execution_count": 40,
   "metadata": {},
   "outputs": [
    {
     "name": "stderr",
     "output_type": "stream",
     "text": [
      "/Users/zeerakw/.virtualenvs/mtl/lib/python3.8/site-packages/sklearn/utils/validation.py:68: FutureWarning: Pass scoring=f1_macro as keyword args. From version 0.25 passing these as positional arguments will result in an error\n",
      "  warnings.warn(\"Pass {} as keyword args. From version 0.25 \"\n"
     ]
    },
    {
     "name": "stdout",
     "output_type": "stream",
     "text": [
      "{'C': 0.4, 'penalty': 'l2'}\n",
      "{'mean_fit_time': array([1.47911997, 0.17133179, 1.42732096, 0.16123824, 1.50186219,\n",
      "       0.15921659, 1.40253744, 0.17264566, 1.38612885, 0.14518733,\n",
      "       1.42165852, 0.1483336 , 1.42553535, 0.15395641, 1.47433209,\n",
      "       0.15860672, 1.54477315, 0.18659639, 1.37909284, 0.15695429]), 'std_fit_time': array([0.19638486, 0.02045109, 0.10278429, 0.00756306, 0.20925964,\n",
      "       0.02307717, 0.14652152, 0.01025018, 0.0924558 , 0.01005985,\n",
      "       0.10996787, 0.01457419, 0.10015044, 0.02282814, 0.14133729,\n",
      "       0.02146161, 0.11250888, 0.05178391, 0.14886074, 0.01389665]), 'mean_score_time': array([0.06440887, 0.        , 0.07727137, 0.        , 0.08180122,\n",
      "       0.        , 0.08762841, 0.        , 0.07859769, 0.        ,\n",
      "       0.08615327, 0.        , 0.08983965, 0.        , 0.07900591,\n",
      "       0.        , 0.08240609, 0.        , 0.07797794, 0.        ]), 'std_score_time': array([0.02446146, 0.        , 0.01472852, 0.        , 0.00970192,\n",
      "       0.        , 0.01164882, 0.        , 0.01047562, 0.        ,\n",
      "       0.01456174, 0.        , 0.01385699, 0.        , 0.00889326,\n",
      "       0.        , 0.01371042, 0.        , 0.01398148, 0.        ]), 'param_C': masked_array(data=[0.1, 0.1, 0.2, 0.2, 0.3, 0.3, 0.4, 0.4, 0.5, 0.5, 0.6,\n",
      "                   0.6, 0.7, 0.7, 0.8, 0.8, 0.9, 0.9, 1.0, 1.0],\n",
      "             mask=[False, False, False, False, False, False, False, False,\n",
      "                   False, False, False, False, False, False, False, False,\n",
      "                   False, False, False, False],\n",
      "       fill_value='?',\n",
      "            dtype=object), 'param_penalty': masked_array(data=['l2', 'l1', 'l2', 'l1', 'l2', 'l1', 'l2', 'l1', 'l2',\n",
      "                   'l1', 'l2', 'l1', 'l2', 'l1', 'l2', 'l1', 'l2', 'l1',\n",
      "                   'l2', 'l1'],\n",
      "             mask=[False, False, False, False, False, False, False, False,\n",
      "                   False, False, False, False, False, False, False, False,\n",
      "                   False, False, False, False],\n",
      "       fill_value='?',\n",
      "            dtype=object), 'params': [{'C': 0.1, 'penalty': 'l2'}, {'C': 0.1, 'penalty': 'l1'}, {'C': 0.2, 'penalty': 'l2'}, {'C': 0.2, 'penalty': 'l1'}, {'C': 0.3, 'penalty': 'l2'}, {'C': 0.3, 'penalty': 'l1'}, {'C': 0.4, 'penalty': 'l2'}, {'C': 0.4, 'penalty': 'l1'}, {'C': 0.5, 'penalty': 'l2'}, {'C': 0.5, 'penalty': 'l1'}, {'C': 0.6, 'penalty': 'l2'}, {'C': 0.6, 'penalty': 'l1'}, {'C': 0.7, 'penalty': 'l2'}, {'C': 0.7, 'penalty': 'l1'}, {'C': 0.8, 'penalty': 'l2'}, {'C': 0.8, 'penalty': 'l1'}, {'C': 0.9, 'penalty': 'l2'}, {'C': 0.9, 'penalty': 'l1'}, {'C': 1.0, 'penalty': 'l2'}, {'C': 1.0, 'penalty': 'l1'}], 'split0_test_score': array([0.76660042,        nan, 0.76660042,        nan, 0.76814935,\n",
      "              nan, 0.76814935,        nan, 0.76814935,        nan,\n",
      "       0.76814935,        nan, 0.76814935,        nan, 0.76814935,\n",
      "              nan, 0.76814935,        nan, 0.76814935,        nan]), 'split1_test_score': array([0.77259651,        nan, 0.77259651,        nan, 0.77259651,\n",
      "              nan, 0.77936764,        nan, 0.77936764,        nan,\n",
      "       0.77936764,        nan, 0.77936764,        nan, 0.77936764,\n",
      "              nan, 0.77936764,        nan, 0.77936764,        nan]), 'split2_test_score': array([0.79507757,        nan, 0.79507757,        nan, 0.79507757,\n",
      "              nan, 0.79507757,        nan, 0.79507757,        nan,\n",
      "       0.79507757,        nan, 0.79507757,        nan, 0.79507757,\n",
      "              nan, 0.79507757,        nan, 0.79507757,        nan]), 'split3_test_score': array([0.76365034,        nan, 0.77059398,        nan, 0.77059398,\n",
      "              nan, 0.77059398,        nan, 0.77059398,        nan,\n",
      "       0.77059398,        nan, 0.77059398,        nan, 0.77059398,\n",
      "              nan, 0.77059398,        nan, 0.77059398,        nan]), 'split4_test_score': array([0.76947787,        nan, 0.76947787,        nan, 0.76947787,\n",
      "              nan, 0.76947787,        nan, 0.76947787,        nan,\n",
      "       0.76947787,        nan, 0.76947787,        nan, 0.76947787,\n",
      "              nan, 0.76947787,        nan, 0.76947787,        nan]), 'mean_test_score': array([0.77348054,        nan, 0.77486927,        nan, 0.77517906,\n",
      "              nan, 0.77653328,        nan, 0.77653328,        nan,\n",
      "       0.77653328,        nan, 0.77653328,        nan, 0.77653328,\n",
      "              nan, 0.77653328,        nan, 0.77653328,        nan]), 'std_test_score': array([0.01120003,        nan, 0.01028844,        nan, 0.01005548,\n",
      "              nan, 0.01007242,        nan, 0.01007242,        nan,\n",
      "       0.01007242,        nan, 0.01007242,        nan, 0.01007242,\n",
      "              nan, 0.01007242,        nan, 0.01007242,        nan]), 'rank_test_score': array([10, 18,  9, 17,  8, 16,  1, 15,  1, 14,  1, 19,  1, 13,  1, 12,  1,\n",
      "       11,  1, 20], dtype=int32)}\n",
      "0.47492114338012975\n"
     ]
    }
   ],
   "source": [
    "wulczyn_ensemble_clfs_metrics_liwc = Metrics(['f1-score', 'accuracy', 'precision', 'recall'], 'f1-score')\n",
    "wulczyn_ensemble_clfs_liwc = [\n",
    "        (davidson_ensemble_model_liwc, davidson_ensemble_liwc_vect), (waseem_ensemble_model_liwc, waseem_ensemble_liwc_vect), \n",
    "        (waseem_hovy_ensemble_model_liwc, waseem_hovy_ensemble_liwc_vect),\n",
    "        (oraby_sarcasm_ensemble_model_liwc, oraby_sarcasm_ensemble_liwc_vect), \n",
    "        (oraby_factfeel_ensemble_model_liwc, oraby_factfeel_ensemble_liwc_vect),\n",
    "        (hoover_ensemble_model_liwc, hoover_ensemble_liwc_vect)]\n",
    "wulczyn_ensemble_trained_model_liwc = ensemble_train(wulczyn_ensemble_clfs_liwc, wulczyn_liwc.data, wulczyn_liwc.dev, \n",
    "                                                wulczyn_liwc, grid_search, wulczyn_ensemble_clfs_metrics_liwc)"
   ]
  },
  {
   "cell_type": "markdown",
   "metadata": {},
   "source": [
    "## Evaluate LIWC Ensemble Model"
   ]
  },
  {
   "cell_type": "code",
   "execution_count": 41,
   "metadata": {},
   "outputs": [
    {
     "name": "stdout",
     "output_type": "stream",
     "text": [
      "0.5348507886950079\n"
     ]
    }
   ],
   "source": [
    "ensemble_davidson_liwc_eval_metrics = Metrics(['f1-score', 'accuracy', 'precision', 'recall'], 'f1-score')\n",
    "davidson_ensemble_clfs_liwc = [(wulczyn_ensemble_model_liwc, wulczyn_ensemble_liwc_vect), \n",
    "                          (waseem_ensemble_model_liwc, waseem_ensemble_liwc_vect), \n",
    "                          (waseem_hovy_ensemble_model_liwc, waseem_hovy_ensemble_liwc_vect),\n",
    "                          (oraby_sarcasm_ensemble_model_liwc, oraby_sarcasm_ensemble_liwc_vect), \n",
    "                          (oraby_factfeel_ensemble_model_liwc, oraby_factfeel_ensemble_liwc_vect),\n",
    "                          (hoover_ensemble_model_liwc, hoover_ensemble_liwc_vect)]\n",
    "\n",
    "evaluate_ensemble_model(davidson_ensemble_trained_model_liwc, davidson_ensemble_clfs_liwc, davidson_liwc.test, \n",
    "                        ensemble_davidson_liwc_eval_metrics)"
   ]
  },
  {
   "cell_type": "code",
   "execution_count": 42,
   "metadata": {},
   "outputs": [
    {
     "name": "stdout",
     "output_type": "stream",
     "text": [
      "0.24890292657025953\n"
     ]
    }
   ],
   "source": [
    "ensemble_waseem_liwc_eval_metrics = Metrics(['f1-score', 'accuracy', 'precision', 'recall'], 'f1-score')\n",
    "waseem_ensemble_clfs_liwc = [(wulczyn_ensemble_model_liwc, wulczyn_ensemble_liwc_vect), \n",
    "                          (davidson_ensemble_model_liwc, davidson_ensemble_liwc_vect), \n",
    "                          (waseem_hovy_ensemble_model_liwc, waseem_hovy_ensemble_liwc_vect),\n",
    "                          (oraby_sarcasm_ensemble_model_liwc, oraby_sarcasm_ensemble_liwc_vect), \n",
    "                          (oraby_factfeel_ensemble_model_liwc, oraby_factfeel_ensemble_liwc_vect),\n",
    "                          (hoover_ensemble_model_liwc, hoover_ensemble_liwc_vect)]\n",
    "\n",
    "evaluate_ensemble_model(waseem_ensemble_trained_model_liwc, waseem_ensemble_clfs_liwc, waseem_liwc.test, \n",
    "                        ensemble_waseem_liwc_eval_metrics)"
   ]
  },
  {
   "cell_type": "code",
   "execution_count": 43,
   "metadata": {},
   "outputs": [
    {
     "name": "stdout",
     "output_type": "stream",
     "text": [
      "0.6275307481403284\n"
     ]
    }
   ],
   "source": [
    "ensemble_wulczyn_liwc_eval_metrics = Metrics(['f1-score', 'accuracy', 'precision', 'recall'], 'f1-score')\n",
    "wulczyn_ensemble_clfs_liwc = [(wulczyn_ensemble_model_liwc, wulczyn_ensemble_liwc_vect), \n",
    "                          (davidson_ensemble_model_liwc, davidson_ensemble_liwc_vect), \n",
    "                          (waseem_hovy_ensemble_model_liwc, waseem_hovy_ensemble_liwc_vect),\n",
    "                          (oraby_sarcasm_ensemble_model_liwc, oraby_sarcasm_ensemble_liwc_vect), \n",
    "                          (oraby_factfeel_ensemble_model_liwc, oraby_factfeel_ensemble_liwc_vect),\n",
    "                          (hoover_ensemble_model_liwc, hoover_ensemble_liwc_vect)]\n",
    "\n",
    "evaluate_ensemble_model(wulczyn_ensemble_trained_model_liwc, wulczyn_ensemble_clfs_liwc, wulczyn_liwc.test, \n",
    "                        ensemble_wulczyn_liwc_eval_metrics)"
   ]
  },
  {
   "cell_type": "markdown",
   "metadata": {},
   "source": [
    "# All Evaluations"
   ]
  },
  {
   "cell_type": "markdown",
   "metadata": {},
   "source": [
    "### Evaluate Single task BPE models"
   ]
  },
  {
   "cell_type": "code",
   "execution_count": 44,
   "metadata": {
    "scrolled": true
   },
   "outputs": [
    {
     "name": "stdout",
     "output_type": "stream",
     "text": [
      "{'f1-score': [0.701282448896403], 'accuracy': [0.8922952803549818], 'precision': [0.7356355520089006], 'recall': [0.6839996439570558], 'loss': []}\n",
      "{'f1-score': [0.5845064355933921], 'accuracy': [0.9132947976878613], 'precision': [0.7041701685318706], 'recall': [0.5378510378510378], 'loss': []}\n",
      "{'f1-score': [0.8704438660314124], 'accuracy': [0.9582313437519613], 'precision': [0.9006247137343721], 'recall': [0.8454710064739721], 'loss': []}\n"
     ]
    }
   ],
   "source": [
    "davidson_bpe_eval_metrics = Metrics(['f1-score', 'accuracy', 'precision', 'recall'], 'f1-score')\n",
    "evaluate_single_task(davidson_bpe_model, davidson_bpe_vect, davidson_bpe.test, davidson_bpe_eval_metrics)\n",
    "\n",
    "waseem_bpe_eval_metrics = Metrics(['f1-score', 'accuracy', 'precision', 'recall'], 'f1-score')\n",
    "evaluate_single_task(waseem_bpe_model, waseem_bpe_vect, waseem_bpe.test, waseem_bpe_eval_metrics)\n",
    "\n",
    "wulczyn_bpe_eval_metrics = Metrics(['f1-score', 'accuracy', 'precision', 'recall'], 'f1-score')\n",
    "evaluate_single_task(wulczyn_bpe_model, wulczyn_bpe_vect, wulczyn_bpe.test, wulczyn_bpe_eval_metrics)"
   ]
  },
  {
   "cell_type": "markdown",
   "metadata": {},
   "source": [
    "### Evaluate single task liwc models"
   ]
  },
  {
   "cell_type": "code",
   "execution_count": 45,
   "metadata": {},
   "outputs": [
    {
     "name": "stdout",
     "output_type": "stream",
     "text": [
      "{'f1-score': [0.6142350240280037], 'accuracy': [0.8898749495764421], 'precision': [0.7830107163000565], 'recall': [0.6338177447552448], 'loss': []}\n",
      "{'f1-score': [0.29093294982337775], 'accuracy': [0.846820809248555], 'precision': [0.3409606656580938], 'recall': [0.2848094738026479], 'loss': []}\n",
      "{'f1-score': [0.8566454911660655], 'accuracy': [0.9555011611121571], 'precision': [0.9050873520472182], 'recall': [0.820637548546594], 'loss': []}\n"
     ]
    }
   ],
   "source": [
    "davidson_liwc_eval_metrics = Metrics(['f1-score', 'accuracy', 'precision', 'recall'], 'f1-score')\n",
    "evaluate_single_task(davidson_liwc_model, davidson_liwc_vect, davidson_liwc.test, davidson_liwc_eval_metrics)\n",
    "\n",
    "waseem_liwc_eval_metrics = Metrics(['f1-score', 'accuracy', 'precision', 'recall'], 'f1-score')\n",
    "evaluate_single_task(waseem_liwc_model, waseem_liwc_vect, waseem_liwc.test, waseem_liwc_eval_metrics)\n",
    "\n",
    "wulczyn_liwc_eval_metrics = Metrics(['f1-score', 'accuracy', 'precision', 'recall'], 'f1-score')\n",
    "evaluate_single_task(wulczyn_liwc_model, wulczyn_liwc_vect, wulczyn_liwc.test, wulczyn_liwc_eval_metrics)"
   ]
  },
  {
   "cell_type": "markdown",
   "metadata": {},
   "source": [
    "### Evaluate BPE Ensemble Model"
   ]
  },
  {
   "cell_type": "code",
   "execution_count": 46,
   "metadata": {},
   "outputs": [
    {
     "name": "stdout",
     "output_type": "stream",
     "text": [
      "0.40629303245450266\n"
     ]
    }
   ],
   "source": [
    "ensemble_davidson_bpe_eval_metrics = Metrics(['f1-score', 'accuracy', 'precision', 'recall'], 'f1-score')\n",
    "davidson_ensemble_clfs_bpe = [(wulczyn_ensemble_model_bpe, wulczyn_ensemble_bpe_vect), \n",
    "                          (waseem_ensemble_model_bpe, waseem_ensemble_bpe_vect), \n",
    "                          (waseem_hovy_ensemble_model_bpe, waseem_hovy_ensemble_bpe_vect),\n",
    "                          (oraby_sarcasm_ensemble_model_bpe, oraby_sarcasm_ensemble_bpe_vect), \n",
    "                          (oraby_factfeel_ensemble_model_bpe, oraby_factfeel_ensemble_bpe_vect),\n",
    "                          (hoover_ensemble_model_bpe, hoover_ensemble_bpe_vect)]\n",
    "\n",
    "evaluate_ensemble_model(davidson_ensemble_trained_model_bpe, davidson_ensemble_clfs_bpe, davidson_bpe.test, \n",
    "                        ensemble_davidson_bpe_eval_metrics)"
   ]
  },
  {
   "cell_type": "code",
   "execution_count": 47,
   "metadata": {},
   "outputs": [
    {
     "name": "stdout",
     "output_type": "stream",
     "text": [
      "0.29658263909597926\n"
     ]
    }
   ],
   "source": [
    "ensemble_waseem_bpe_eval_metrics = Metrics(['f1-score', 'accuracy', 'precision', 'recall'], 'f1-score')\n",
    "waseem_ensemble_clfs_bpe = [(wulczyn_ensemble_model_bpe, wulczyn_ensemble_bpe_vect), \n",
    "                          (davidson_ensemble_model_bpe, davidson_ensemble_bpe_vect), \n",
    "                          (waseem_hovy_ensemble_model_bpe, waseem_hovy_ensemble_bpe_vect),\n",
    "                          (oraby_sarcasm_ensemble_model_bpe, oraby_sarcasm_ensemble_bpe_vect), \n",
    "                          (oraby_factfeel_ensemble_model_bpe, oraby_factfeel_ensemble_bpe_vect),\n",
    "                          (hoover_ensemble_model_bpe, hoover_ensemble_bpe_vect)]\n",
    "\n",
    "evaluate_ensemble_model(waseem_ensemble_trained_model_bpe, waseem_ensemble_clfs_bpe, waseem_bpe.test, \n",
    "                        ensemble_waseem_bpe_eval_metrics)"
   ]
  },
  {
   "cell_type": "code",
   "execution_count": 48,
   "metadata": {},
   "outputs": [
    {
     "name": "stdout",
     "output_type": "stream",
     "text": [
      "0.598776911220475\n"
     ]
    }
   ],
   "source": [
    "ensemble_wulczyn_bpe_eval_metrics = Metrics(['f1-score', 'accuracy', 'precision', 'recall'], 'f1-score')\n",
    "wulczyn_ensemble_clfs_bpe = [(wulczyn_ensemble_model_bpe, wulczyn_ensemble_bpe_vect), \n",
    "                          (davidson_ensemble_model_bpe, davidson_ensemble_bpe_vect), \n",
    "                          (waseem_hovy_ensemble_model_bpe, waseem_hovy_ensemble_bpe_vect),\n",
    "                          (oraby_sarcasm_ensemble_model_bpe, oraby_sarcasm_ensemble_bpe_vect), \n",
    "                          (oraby_factfeel_ensemble_model_bpe, oraby_factfeel_ensemble_bpe_vect),\n",
    "                          (hoover_ensemble_model_bpe, hoover_ensemble_bpe_vect)]\n",
    "\n",
    "evaluate_ensemble_model(wulczyn_ensemble_trained_model_bpe, wulczyn_ensemble_clfs_bpe, wulczyn_bpe.test, \n",
    "                        ensemble_wulczyn_bpe_eval_metrics)"
   ]
  },
  {
   "cell_type": "markdown",
   "metadata": {},
   "source": [
    "### Evaluate LIWC Ensemble Model"
   ]
  },
  {
   "cell_type": "code",
   "execution_count": 49,
   "metadata": {},
   "outputs": [
    {
     "name": "stdout",
     "output_type": "stream",
     "text": [
      "0.5348507886950079\n"
     ]
    }
   ],
   "source": [
    "ensemble_davidson_liwc_eval_metrics = Metrics(['f1-score', 'accuracy', 'precision', 'recall'], 'f1-score')\n",
    "davidson_ensemble_clfs_liwc = [(wulczyn_ensemble_model_liwc, wulczyn_ensemble_liwc_vect), \n",
    "                          (waseem_ensemble_model_liwc, waseem_ensemble_liwc_vect), \n",
    "                          (waseem_hovy_ensemble_model_liwc, waseem_hovy_ensemble_liwc_vect),\n",
    "                          (oraby_sarcasm_ensemble_model_liwc, oraby_sarcasm_ensemble_liwc_vect), \n",
    "                          (oraby_factfeel_ensemble_model_liwc, oraby_factfeel_ensemble_liwc_vect),\n",
    "                          (hoover_ensemble_model_liwc, hoover_ensemble_liwc_vect)]\n",
    "\n",
    "evaluate_ensemble_model(davidson_ensemble_trained_model_liwc, davidson_ensemble_clfs_liwc, davidson_liwc.test, \n",
    "                        ensemble_davidson_liwc_eval_metrics)"
   ]
  },
  {
   "cell_type": "code",
   "execution_count": 50,
   "metadata": {},
   "outputs": [
    {
     "name": "stdout",
     "output_type": "stream",
     "text": [
      "0.24890292657025953\n"
     ]
    }
   ],
   "source": [
    "ensemble_waseem_liwc_eval_metrics = Metrics(['f1-score', 'accuracy', 'precision', 'recall'], 'f1-score')\n",
    "waseem_ensemble_clfs_liwc = [(wulczyn_ensemble_model_liwc, wulczyn_ensemble_liwc_vect), \n",
    "                          (davidson_ensemble_model_liwc, davidson_ensemble_liwc_vect), \n",
    "                          (waseem_hovy_ensemble_model_liwc, waseem_hovy_ensemble_liwc_vect),\n",
    "                          (oraby_sarcasm_ensemble_model_liwc, oraby_sarcasm_ensemble_liwc_vect), \n",
    "                          (oraby_factfeel_ensemble_model_liwc, oraby_factfeel_ensemble_liwc_vect),\n",
    "                          (hoover_ensemble_model_liwc, hoover_ensemble_liwc_vect)]\n",
    "\n",
    "evaluate_ensemble_model(waseem_ensemble_trained_model_liwc, waseem_ensemble_clfs_liwc, waseem_liwc.test, \n",
    "                        ensemble_waseem_liwc_eval_metrics)"
   ]
  },
  {
   "cell_type": "code",
   "execution_count": 51,
   "metadata": {},
   "outputs": [
    {
     "name": "stdout",
     "output_type": "stream",
     "text": [
      "0.6275307481403284\n"
     ]
    }
   ],
   "source": [
    "ensemble_wulczyn_liwc_eval_metrics = Metrics(['f1-score', 'accuracy', 'precision', 'recall'], 'f1-score')\n",
    "wulczyn_ensemble_clfs_liwc = [(wulczyn_ensemble_model_liwc, wulczyn_ensemble_liwc_vect), \n",
    "                          (davidson_ensemble_model_liwc, davidson_ensemble_liwc_vect), \n",
    "                          (waseem_hovy_ensemble_model_liwc, waseem_hovy_ensemble_liwc_vect),\n",
    "                          (oraby_sarcasm_ensemble_model_liwc, oraby_sarcasm_ensemble_liwc_vect), \n",
    "                          (oraby_factfeel_ensemble_model_liwc, oraby_factfeel_ensemble_liwc_vect),\n",
    "                          (hoover_ensemble_model_liwc, hoover_ensemble_liwc_vect)]\n",
    "\n",
    "evaluate_ensemble_model(wulczyn_ensemble_trained_model_liwc, wulczyn_ensemble_clfs_liwc, wulczyn_liwc.test, \n",
    "                        ensemble_wulczyn_liwc_eval_metrics)"
   ]
  },
  {
   "cell_type": "code",
   "execution_count": null,
   "metadata": {},
   "outputs": [],
   "source": []
  }
 ],
 "metadata": {
  "kernelspec": {
   "display_name": "Python 3",
   "language": "python",
   "name": "python3"
  },
  "language_info": {
   "codemirror_mode": {
    "name": "ipython",
    "version": 3
   },
   "file_extension": ".py",
   "mimetype": "text/x-python",
   "name": "python",
   "nbconvert_exporter": "python",
   "pygments_lexer": "ipython3",
   "version": "3.8.6"
  }
 },
 "nbformat": 4,
 "nbformat_minor": 4
}
